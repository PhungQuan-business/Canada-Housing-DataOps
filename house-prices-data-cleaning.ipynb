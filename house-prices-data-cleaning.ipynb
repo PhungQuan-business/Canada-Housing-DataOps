{
 "cells": [
  {
   "cell_type": "code",
   "execution_count": 1,
   "id": "c1da3e79",
   "metadata": {
    "execution": {
     "iopub.execute_input": "2025-02-22T19:35:02.355237Z",
     "iopub.status.busy": "2025-02-22T19:35:02.354816Z",
     "iopub.status.idle": "2025-02-22T19:35:03.554027Z",
     "shell.execute_reply": "2025-02-22T19:35:03.552839Z"
    },
    "papermill": {
     "duration": 1.229411,
     "end_time": "2025-02-22T19:35:03.556129",
     "exception": false,
     "start_time": "2025-02-22T19:35:02.326718",
     "status": "completed"
    },
    "tags": []
   },
   "outputs": [],
   "source": [
    "import numpy as np\n",
    "import pandas as pd"
   ]
  },
  {
   "cell_type": "markdown",
   "id": "45e697ce",
   "metadata": {
    "papermill": {
     "duration": 0.024207,
     "end_time": "2025-02-22T19:35:03.606243",
     "exception": false,
     "start_time": "2025-02-22T19:35:03.582036",
     "status": "completed"
    },
    "tags": []
   },
   "source": [
    "## Loading the data from separate files to combine in one "
   ]
  },
  {
   "cell_type": "code",
   "execution_count": 2,
   "id": "194fdf06",
   "metadata": {
    "execution": {
     "iopub.execute_input": "2025-02-22T19:35:03.656805Z",
     "iopub.status.busy": "2025-02-22T19:35:03.656321Z",
     "iopub.status.idle": "2025-02-22T19:35:14.104203Z",
     "shell.execute_reply": "2025-02-22T19:35:14.103122Z"
    },
    "papermill": {
     "duration": 10.47598,
     "end_time": "2025-02-22T19:35:14.106395",
     "exception": false,
     "start_time": "2025-02-22T19:35:03.630415",
     "status": "completed"
    },
    "tags": []
   },
   "outputs": [],
   "source": [
    "# Load CSV files into individual Pandas DataFrames, setting `low_memory=False` to optimize memory usage \n",
    "data_ab = pd.read_csv('/kaggle/input/canada-housing/data_ab.csv', low_memory=False)\n",
    "data_bc = pd.read_csv('/kaggle/input/canada-housing/data_bc.csv', low_memory=False)\n",
    "data_mb = pd.read_csv('/kaggle/input/canada-housing/data_mb.csv', low_memory=False)\n",
    "data_nb = pd.read_csv('/kaggle/input/canada-housing/data_nb.csv', low_memory=False)\n",
    "data_nl = pd.read_csv('/kaggle/input/canada-housing/data_nl.csv', low_memory=False)\n",
    "data_ns = pd.read_csv('/kaggle/input/canada-housing/data_ns.csv', low_memory=False)\n",
    "data_nt = pd.read_csv('/kaggle/input/canada-housing/data_nt.csv', low_memory=False)\n",
    "data_on = pd.read_csv('/kaggle/input/canada-housing/data_on.csv', low_memory=False)\n",
    "data_pe = pd.read_csv('/kaggle/input/canada-housing/data_pe.csv', low_memory=False)\n",
    "data_sk = pd.read_csv('/kaggle/input/canada-housing/data_sk.csv', low_memory=False)\n",
    "data_yt = pd.read_csv('/kaggle/input/canada-housing/data_yt.csv', low_memory=False)"
   ]
  },
  {
   "cell_type": "code",
   "execution_count": 3,
   "id": "0fe4a2a0",
   "metadata": {
    "execution": {
     "iopub.execute_input": "2025-02-22T19:35:14.156266Z",
     "iopub.status.busy": "2025-02-22T19:35:14.155868Z",
     "iopub.status.idle": "2025-02-22T19:35:14.712591Z",
     "shell.execute_reply": "2025-02-22T19:35:14.711427Z"
    },
    "papermill": {
     "duration": 0.58437,
     "end_time": "2025-02-22T19:35:14.714685",
     "exception": false,
     "start_time": "2025-02-22T19:35:14.130315",
     "status": "completed"
    },
    "tags": []
   },
   "outputs": [
    {
     "data": {
      "text/plain": [
       "(133725, 396)"
      ]
     },
     "execution_count": 3,
     "metadata": {},
     "output_type": "execute_result"
    }
   ],
   "source": [
    "# Concatenate all DataFrames along the rows (`axis=0`) to create a unified dataset\n",
    "\n",
    "df = pd.concat([data_ab, data_bc, data_mb, data_nb, data_nl, \n",
    "                data_ns, data_nt, data_on, data_pe, data_sk,\n",
    "                data_yt], axis=0) \n",
    "df.shape"
   ]
  },
  {
   "cell_type": "markdown",
   "id": "7e4a46bf",
   "metadata": {
    "papermill": {
     "duration": 0.023681,
     "end_time": "2025-02-22T19:35:14.762775",
     "exception": false,
     "start_time": "2025-02-22T19:35:14.739094",
     "status": "completed"
    },
    "tags": []
   },
   "source": [
    "The dataset is quite big. Let's drop null rows and columms"
   ]
  },
  {
   "cell_type": "code",
   "execution_count": 4,
   "id": "d1993955",
   "metadata": {
    "execution": {
     "iopub.execute_input": "2025-02-22T19:35:14.812343Z",
     "iopub.status.busy": "2025-02-22T19:35:14.811941Z",
     "iopub.status.idle": "2025-02-22T19:35:55.776221Z",
     "shell.execute_reply": "2025-02-22T19:35:55.775071Z"
    },
    "papermill": {
     "duration": 41.014633,
     "end_time": "2025-02-22T19:35:55.801376",
     "exception": false,
     "start_time": "2025-02-22T19:35:14.786743",
     "status": "completed"
    },
    "tags": []
   },
   "outputs": [
    {
     "data": {
      "text/plain": [
       "(98649, 32)"
      ]
     },
     "execution_count": 4,
     "metadata": {},
     "output_type": "execute_result"
    }
   ],
   "source": [
    "# Drop duplicated rows\n",
    "df = df.drop_duplicates()\n",
    "\n",
    "# Drop duplicate columns\n",
    "df = df.T.drop_duplicates().T\n",
    "df.shape"
   ]
  },
  {
   "cell_type": "markdown",
   "id": "a3f63307",
   "metadata": {
    "papermill": {
     "duration": 0.023351,
     "end_time": "2025-02-22T19:35:55.848569",
     "exception": false,
     "start_time": "2025-02-22T19:35:55.825218",
     "status": "completed"
    },
    "tags": []
   },
   "source": [
    "With option pd.set_option('display.max_columns', None) we can see all features"
   ]
  },
  {
   "cell_type": "code",
   "execution_count": 5,
   "id": "81d5f893",
   "metadata": {
    "execution": {
     "iopub.execute_input": "2025-02-22T19:35:55.898446Z",
     "iopub.status.busy": "2025-02-22T19:35:55.898078Z",
     "iopub.status.idle": "2025-02-22T19:35:55.934195Z",
     "shell.execute_reply": "2025-02-22T19:35:55.932954Z"
    },
    "papermill": {
     "duration": 0.063957,
     "end_time": "2025-02-22T19:35:55.935967",
     "exception": false,
     "start_time": "2025-02-22T19:35:55.872010",
     "status": "completed"
    },
    "tags": []
   },
   "outputs": [
    {
     "data": {
      "text/html": [
       "<div>\n",
       "<style scoped>\n",
       "    .dataframe tbody tr th:only-of-type {\n",
       "        vertical-align: middle;\n",
       "    }\n",
       "\n",
       "    .dataframe tbody tr th {\n",
       "        vertical-align: top;\n",
       "    }\n",
       "\n",
       "    .dataframe thead th {\n",
       "        text-align: right;\n",
       "    }\n",
       "</style>\n",
       "<table border=\"1\" class=\"dataframe\">\n",
       "  <thead>\n",
       "    <tr style=\"text-align: right;\">\n",
       "      <th></th>\n",
       "      <th>streetAddress</th>\n",
       "      <th>addressLocality</th>\n",
       "      <th>addressRegion</th>\n",
       "      <th>postalCode</th>\n",
       "      <th>latitude</th>\n",
       "      <th>longitude</th>\n",
       "      <th>description</th>\n",
       "      <th>price</th>\n",
       "      <th>priceCurrency</th>\n",
       "      <th>property-beds</th>\n",
       "      <th>property-baths</th>\n",
       "      <th>property-sqft</th>\n",
       "      <th>Acreage</th>\n",
       "      <th>Air Conditioning</th>\n",
       "      <th>Basement</th>\n",
       "      <th>Bath</th>\n",
       "      <th>Exterior</th>\n",
       "      <th>Features</th>\n",
       "      <th>Fireplace</th>\n",
       "      <th>Garage</th>\n",
       "      <th>Heating</th>\n",
       "      <th>MLS® #</th>\n",
       "      <th>Property Tax</th>\n",
       "      <th>Property Type</th>\n",
       "      <th>Roof</th>\n",
       "      <th>Sewer</th>\n",
       "      <th>Square Footage</th>\n",
       "      <th>Subdivision</th>\n",
       "      <th>Waterfront</th>\n",
       "      <th>Parking</th>\n",
       "      <th>Flooring</th>\n",
       "      <th>Fireplace Features</th>\n",
       "    </tr>\n",
       "  </thead>\n",
       "  <tbody>\n",
       "    <tr>\n",
       "      <th>0</th>\n",
       "      <td>NaN</td>\n",
       "      <td>NaN</td>\n",
       "      <td>NaN</td>\n",
       "      <td>NaN</td>\n",
       "      <td>NaN</td>\n",
       "      <td>NaN</td>\n",
       "      <td>NaN</td>\n",
       "      <td>NaN</td>\n",
       "      <td>NaN</td>\n",
       "      <td>0.0</td>\n",
       "      <td>NaN</td>\n",
       "      <td>NaN</td>\n",
       "      <td>NaN</td>\n",
       "      <td>NaN</td>\n",
       "      <td>NaN</td>\n",
       "      <td>NaN</td>\n",
       "      <td>NaN</td>\n",
       "      <td>NaN</td>\n",
       "      <td>NaN</td>\n",
       "      <td>NaN</td>\n",
       "      <td>NaN</td>\n",
       "      <td>NaN</td>\n",
       "      <td>NaN</td>\n",
       "      <td>NaN</td>\n",
       "      <td>NaN</td>\n",
       "      <td>NaN</td>\n",
       "      <td>NaN</td>\n",
       "      <td>NaN</td>\n",
       "      <td>NaN</td>\n",
       "      <td>NaN</td>\n",
       "      <td>NaN</td>\n",
       "      <td>NaN</td>\n",
       "    </tr>\n",
       "    <tr>\n",
       "      <th>3</th>\n",
       "      <td>NaN</td>\n",
       "      <td>NaN</td>\n",
       "      <td>NaN</td>\n",
       "      <td>NaN</td>\n",
       "      <td>NaN</td>\n",
       "      <td>NaN</td>\n",
       "      <td>NaN</td>\n",
       "      <td>NaN</td>\n",
       "      <td>NaN</td>\n",
       "      <td>NaN</td>\n",
       "      <td>0.0</td>\n",
       "      <td>NaN</td>\n",
       "      <td>NaN</td>\n",
       "      <td>NaN</td>\n",
       "      <td>NaN</td>\n",
       "      <td>NaN</td>\n",
       "      <td>NaN</td>\n",
       "      <td>NaN</td>\n",
       "      <td>NaN</td>\n",
       "      <td>NaN</td>\n",
       "      <td>NaN</td>\n",
       "      <td>NaN</td>\n",
       "      <td>NaN</td>\n",
       "      <td>NaN</td>\n",
       "      <td>NaN</td>\n",
       "      <td>NaN</td>\n",
       "      <td>NaN</td>\n",
       "      <td>NaN</td>\n",
       "      <td>NaN</td>\n",
       "      <td>NaN</td>\n",
       "      <td>NaN</td>\n",
       "      <td>NaN</td>\n",
       "    </tr>\n",
       "    <tr>\n",
       "      <th>5</th>\n",
       "      <td>NaN</td>\n",
       "      <td>NaN</td>\n",
       "      <td>NaN</td>\n",
       "      <td>NaN</td>\n",
       "      <td>NaN</td>\n",
       "      <td>NaN</td>\n",
       "      <td>NaN</td>\n",
       "      <td>NaN</td>\n",
       "      <td>NaN</td>\n",
       "      <td>2.0</td>\n",
       "      <td>2.0</td>\n",
       "      <td>NaN</td>\n",
       "      <td>NaN</td>\n",
       "      <td>NaN</td>\n",
       "      <td>NaN</td>\n",
       "      <td>NaN</td>\n",
       "      <td>NaN</td>\n",
       "      <td>NaN</td>\n",
       "      <td>NaN</td>\n",
       "      <td>NaN</td>\n",
       "      <td>NaN</td>\n",
       "      <td>NaN</td>\n",
       "      <td>NaN</td>\n",
       "      <td>NaN</td>\n",
       "      <td>NaN</td>\n",
       "      <td>NaN</td>\n",
       "      <td>NaN</td>\n",
       "      <td>NaN</td>\n",
       "      <td>NaN</td>\n",
       "      <td>NaN</td>\n",
       "      <td>NaN</td>\n",
       "      <td>NaN</td>\n",
       "    </tr>\n",
       "    <tr>\n",
       "      <th>6</th>\n",
       "      <td>NaN</td>\n",
       "      <td>NaN</td>\n",
       "      <td>NaN</td>\n",
       "      <td>NaN</td>\n",
       "      <td>NaN</td>\n",
       "      <td>NaN</td>\n",
       "      <td>NaN</td>\n",
       "      <td>NaN</td>\n",
       "      <td>NaN</td>\n",
       "      <td>4.0</td>\n",
       "      <td>3.0</td>\n",
       "      <td>NaN</td>\n",
       "      <td>NaN</td>\n",
       "      <td>NaN</td>\n",
       "      <td>NaN</td>\n",
       "      <td>NaN</td>\n",
       "      <td>NaN</td>\n",
       "      <td>NaN</td>\n",
       "      <td>NaN</td>\n",
       "      <td>NaN</td>\n",
       "      <td>NaN</td>\n",
       "      <td>NaN</td>\n",
       "      <td>NaN</td>\n",
       "      <td>NaN</td>\n",
       "      <td>NaN</td>\n",
       "      <td>NaN</td>\n",
       "      <td>NaN</td>\n",
       "      <td>NaN</td>\n",
       "      <td>NaN</td>\n",
       "      <td>NaN</td>\n",
       "      <td>NaN</td>\n",
       "      <td>NaN</td>\n",
       "    </tr>\n",
       "    <tr>\n",
       "      <th>7</th>\n",
       "      <td>1701 Coursier Avenue Unit# 1301, Revelstoke, B...</td>\n",
       "      <td>Revelstoke</td>\n",
       "      <td>BC</td>\n",
       "      <td>V0E2S3</td>\n",
       "      <td>50.976585</td>\n",
       "      <td>-118.173149</td>\n",
       "      <td>Don't miss out on this rare 3 bedroom, 2 bath ...</td>\n",
       "      <td>839000.0</td>\n",
       "      <td>CAD</td>\n",
       "      <td>3.0</td>\n",
       "      <td>2.0</td>\n",
       "      <td>891</td>\n",
       "      <td>NaN</td>\n",
       "      <td>NaN</td>\n",
       "      <td>NaN</td>\n",
       "      <td>0.0</td>\n",
       "      <td>NaN</td>\n",
       "      <td>Underground, Heated Garage</td>\n",
       "      <td>NaN</td>\n",
       "      <td>NaN</td>\n",
       "      <td>Heat Pump</td>\n",
       "      <td>10334677</td>\n",
       "      <td>$3,478</td>\n",
       "      <td>Condo</td>\n",
       "      <td>NaN</td>\n",
       "      <td>Municipal sewage system</td>\n",
       "      <td>891 SQFT</td>\n",
       "      <td>NaN</td>\n",
       "      <td>NaN</td>\n",
       "      <td>Underground, Heated Garage</td>\n",
       "      <td>Tile, Carpeted, Vinyl</td>\n",
       "      <td>NaN</td>\n",
       "    </tr>\n",
       "  </tbody>\n",
       "</table>\n",
       "</div>"
      ],
      "text/plain": [
       "                                       streetAddress addressLocality  \\\n",
       "0                                                NaN             NaN   \n",
       "3                                                NaN             NaN   \n",
       "5                                                NaN             NaN   \n",
       "6                                                NaN             NaN   \n",
       "7  1701 Coursier Avenue Unit# 1301, Revelstoke, B...      Revelstoke   \n",
       "\n",
       "  addressRegion postalCode   latitude   longitude  \\\n",
       "0           NaN        NaN        NaN         NaN   \n",
       "3           NaN        NaN        NaN         NaN   \n",
       "5           NaN        NaN        NaN         NaN   \n",
       "6           NaN        NaN        NaN         NaN   \n",
       "7            BC     V0E2S3  50.976585 -118.173149   \n",
       "\n",
       "                                         description     price priceCurrency  \\\n",
       "0                                                NaN       NaN           NaN   \n",
       "3                                                NaN       NaN           NaN   \n",
       "5                                                NaN       NaN           NaN   \n",
       "6                                                NaN       NaN           NaN   \n",
       "7  Don't miss out on this rare 3 bedroom, 2 bath ...  839000.0           CAD   \n",
       "\n",
       "  property-beds property-baths property-sqft Acreage Air Conditioning  \\\n",
       "0           0.0            NaN           NaN     NaN              NaN   \n",
       "3           NaN            0.0           NaN     NaN              NaN   \n",
       "5           2.0            2.0           NaN     NaN              NaN   \n",
       "6           4.0            3.0           NaN     NaN              NaN   \n",
       "7           3.0            2.0           891     NaN              NaN   \n",
       "\n",
       "  Basement Bath Exterior                    Features Fireplace Garage  \\\n",
       "0      NaN  NaN      NaN                         NaN       NaN    NaN   \n",
       "3      NaN  NaN      NaN                         NaN       NaN    NaN   \n",
       "5      NaN  NaN      NaN                         NaN       NaN    NaN   \n",
       "6      NaN  NaN      NaN                         NaN       NaN    NaN   \n",
       "7      NaN  0.0      NaN  Underground, Heated Garage       NaN    NaN   \n",
       "\n",
       "     Heating    MLS® # Property Tax Property Type Roof  \\\n",
       "0        NaN       NaN          NaN           NaN  NaN   \n",
       "3        NaN       NaN          NaN           NaN  NaN   \n",
       "5        NaN       NaN          NaN           NaN  NaN   \n",
       "6        NaN       NaN          NaN           NaN  NaN   \n",
       "7  Heat Pump  10334677       $3,478         Condo  NaN   \n",
       "\n",
       "                     Sewer Square Footage Subdivision Waterfront  \\\n",
       "0                      NaN            NaN         NaN        NaN   \n",
       "3                      NaN            NaN         NaN        NaN   \n",
       "5                      NaN            NaN         NaN        NaN   \n",
       "6                      NaN            NaN         NaN        NaN   \n",
       "7  Municipal sewage system       891 SQFT         NaN        NaN   \n",
       "\n",
       "                      Parking               Flooring Fireplace Features  \n",
       "0                         NaN                    NaN                NaN  \n",
       "3                         NaN                    NaN                NaN  \n",
       "5                         NaN                    NaN                NaN  \n",
       "6                         NaN                    NaN                NaN  \n",
       "7  Underground, Heated Garage  Tile, Carpeted, Vinyl                NaN  "
      ]
     },
     "execution_count": 5,
     "metadata": {},
     "output_type": "execute_result"
    }
   ],
   "source": [
    "pd.set_option('display.max_columns', None)\n",
    "df.head()"
   ]
  },
  {
   "cell_type": "markdown",
   "id": "4f6ed666",
   "metadata": {
    "papermill": {
     "duration": 0.02464,
     "end_time": "2025-02-22T19:35:55.985563",
     "exception": false,
     "start_time": "2025-02-22T19:35:55.960923",
     "status": "completed"
    },
    "tags": []
   },
   "source": [
    "There is no need in data without address or price, so we can drop all rows with null values in \"streetAddress\", \"addressLocality\", \"addressRegion\", \"price\" columns:"
   ]
  },
  {
   "cell_type": "code",
   "execution_count": 6,
   "id": "c59f1848",
   "metadata": {
    "execution": {
     "iopub.execute_input": "2025-02-22T19:35:56.036817Z",
     "iopub.status.busy": "2025-02-22T19:35:56.036479Z",
     "iopub.status.idle": "2025-02-22T19:35:56.092717Z",
     "shell.execute_reply": "2025-02-22T19:35:56.091505Z"
    },
    "papermill": {
     "duration": 0.084397,
     "end_time": "2025-02-22T19:35:56.094800",
     "exception": false,
     "start_time": "2025-02-22T19:35:56.010403",
     "status": "completed"
    },
    "tags": []
   },
   "outputs": [],
   "source": [
    "df = df.dropna(subset=[\"streetAddress\", \"addressLocality\", \"addressRegion\", \"price\"])"
   ]
  },
  {
   "cell_type": "code",
   "execution_count": 7,
   "id": "7706d49d",
   "metadata": {
    "execution": {
     "iopub.execute_input": "2025-02-22T19:35:56.203641Z",
     "iopub.status.busy": "2025-02-22T19:35:56.203279Z",
     "iopub.status.idle": "2025-02-22T19:35:56.209561Z",
     "shell.execute_reply": "2025-02-22T19:35:56.208354Z"
    },
    "papermill": {
     "duration": 0.092149,
     "end_time": "2025-02-22T19:35:56.211251",
     "exception": false,
     "start_time": "2025-02-22T19:35:56.119102",
     "status": "completed"
    },
    "tags": []
   },
   "outputs": [
    {
     "data": {
      "text/plain": [
       "(97811, 32)"
      ]
     },
     "execution_count": 7,
     "metadata": {},
     "output_type": "execute_result"
    }
   ],
   "source": [
    "df.shape"
   ]
  },
  {
   "cell_type": "markdown",
   "id": "054ffd67",
   "metadata": {
    "papermill": {
     "duration": 0.024504,
     "end_time": "2025-02-22T19:35:56.260331",
     "exception": false,
     "start_time": "2025-02-22T19:35:56.235827",
     "status": "completed"
    },
    "tags": []
   },
   "source": [
    "# Square Footage and property-sqft"
   ]
  },
  {
   "cell_type": "markdown",
   "id": "79166b98",
   "metadata": {
    "papermill": {
     "duration": 0.024135,
     "end_time": "2025-02-22T19:35:56.309195",
     "exception": false,
     "start_time": "2025-02-22T19:35:56.285060",
     "status": "completed"
    },
    "tags": []
   },
   "source": [
    "Columns 'Square Footage', 'property-sqft' have the same information. Let's combine them in one column. "
   ]
  },
  {
   "cell_type": "code",
   "execution_count": 8,
   "id": "3dbbe20f",
   "metadata": {
    "execution": {
     "iopub.execute_input": "2025-02-22T19:35:56.358778Z",
     "iopub.status.busy": "2025-02-22T19:35:56.358364Z",
     "iopub.status.idle": "2025-02-22T19:35:56.396933Z",
     "shell.execute_reply": "2025-02-22T19:35:56.395400Z"
    },
    "papermill": {
     "duration": 0.06549,
     "end_time": "2025-02-22T19:35:56.398697",
     "exception": false,
     "start_time": "2025-02-22T19:35:56.333207",
     "status": "completed"
    },
    "tags": []
   },
   "outputs": [
    {
     "name": "stdout",
     "output_type": "stream",
     "text": [
      "<class 'pandas.core.frame.DataFrame'>\n",
      "Index: 97811 entries, 7 to 211\n",
      "Data columns (total 2 columns):\n",
      " #   Column          Non-Null Count  Dtype \n",
      "---  ------          --------------  ----- \n",
      " 0   Square Footage  46732 non-null  object\n",
      " 1   property-sqft   46489 non-null  object\n",
      "dtypes: object(2)\n",
      "memory usage: 2.2+ MB\n"
     ]
    }
   ],
   "source": [
    "df[['Square Footage', 'property-sqft']].info()"
   ]
  },
  {
   "cell_type": "code",
   "execution_count": 9,
   "id": "548a7e09",
   "metadata": {
    "execution": {
     "iopub.execute_input": "2025-02-22T19:35:56.456482Z",
     "iopub.status.busy": "2025-02-22T19:35:56.456091Z",
     "iopub.status.idle": "2025-02-22T19:35:56.500072Z",
     "shell.execute_reply": "2025-02-22T19:35:56.498858Z"
    },
    "papermill": {
     "duration": 0.077668,
     "end_time": "2025-02-22T19:35:56.502165",
     "exception": false,
     "start_time": "2025-02-22T19:35:56.424497",
     "status": "completed"
    },
    "tags": []
   },
   "outputs": [
    {
     "data": {
      "text/html": [
       "<div>\n",
       "<style scoped>\n",
       "    .dataframe tbody tr th:only-of-type {\n",
       "        vertical-align: middle;\n",
       "    }\n",
       "\n",
       "    .dataframe tbody tr th {\n",
       "        vertical-align: top;\n",
       "    }\n",
       "\n",
       "    .dataframe thead th {\n",
       "        text-align: right;\n",
       "    }\n",
       "</style>\n",
       "<table border=\"1\" class=\"dataframe\">\n",
       "  <thead>\n",
       "    <tr style=\"text-align: right;\">\n",
       "      <th></th>\n",
       "      <th>property-sqft</th>\n",
       "      <th>Square Footage</th>\n",
       "      <th>Square Footage new</th>\n",
       "    </tr>\n",
       "  </thead>\n",
       "  <tbody>\n",
       "    <tr>\n",
       "      <th>7</th>\n",
       "      <td>891</td>\n",
       "      <td>891 SQFT</td>\n",
       "      <td>891</td>\n",
       "    </tr>\n",
       "    <tr>\n",
       "      <th>8</th>\n",
       "      <td>1,881</td>\n",
       "      <td>1,881 SQFT</td>\n",
       "      <td>1,881</td>\n",
       "    </tr>\n",
       "    <tr>\n",
       "      <th>9</th>\n",
       "      <td>912</td>\n",
       "      <td>912 SQFT</td>\n",
       "      <td>912</td>\n",
       "    </tr>\n",
       "    <tr>\n",
       "      <th>10</th>\n",
       "      <td>4,374</td>\n",
       "      <td>4,374 SQFT</td>\n",
       "      <td>4,374</td>\n",
       "    </tr>\n",
       "    <tr>\n",
       "      <th>11</th>\n",
       "      <td>NaN</td>\n",
       "      <td>NaN</td>\n",
       "      <td>NaN</td>\n",
       "    </tr>\n",
       "  </tbody>\n",
       "</table>\n",
       "</div>"
      ],
      "text/plain": [
       "   property-sqft Square Footage Square Footage new\n",
       "7            891       891 SQFT                891\n",
       "8          1,881     1,881 SQFT              1,881\n",
       "9            912       912 SQFT                912\n",
       "10         4,374     4,374 SQFT              4,374\n",
       "11           NaN            NaN                NaN"
      ]
     },
     "execution_count": 9,
     "metadata": {},
     "output_type": "execute_result"
    }
   ],
   "source": [
    "df.loc[:, 'Square Footage new'] = df['Square Footage'].str.replace(' SQFT', '', regex=False)\n",
    "df.loc[:, 'Square Footage new'] = df['Square Footage new'].fillna(df['property-sqft'])\n",
    "\n",
    "df[['property-sqft', 'Square Footage', 'Square Footage new']].head()"
   ]
  },
  {
   "cell_type": "code",
   "execution_count": 10,
   "id": "75e87ae7",
   "metadata": {
    "execution": {
     "iopub.execute_input": "2025-02-22T19:35:56.554884Z",
     "iopub.status.busy": "2025-02-22T19:35:56.554546Z",
     "iopub.status.idle": "2025-02-22T19:35:56.572639Z",
     "shell.execute_reply": "2025-02-22T19:35:56.571439Z"
    },
    "papermill": {
     "duration": 0.046997,
     "end_time": "2025-02-22T19:35:56.574776",
     "exception": false,
     "start_time": "2025-02-22T19:35:56.527779",
     "status": "completed"
    },
    "tags": []
   },
   "outputs": [
    {
     "name": "stdout",
     "output_type": "stream",
     "text": [
      "<class 'pandas.core.frame.DataFrame'>\n",
      "Index: 97811 entries, 7 to 211\n",
      "Data columns (total 1 columns):\n",
      " #   Column              Non-Null Count  Dtype \n",
      "---  ------              --------------  ----- \n",
      " 0   Square Footage new  46732 non-null  object\n",
      "dtypes: object(1)\n",
      "memory usage: 1.5+ MB\n"
     ]
    }
   ],
   "source": [
    "df[['Square Footage new']].info()"
   ]
  },
  {
   "cell_type": "markdown",
   "id": "ae5c2b78",
   "metadata": {
    "papermill": {
     "duration": 0.02494,
     "end_time": "2025-02-22T19:35:56.626602",
     "exception": false,
     "start_time": "2025-02-22T19:35:56.601662",
     "status": "completed"
    },
    "tags": []
   },
   "source": [
    "# Acreage"
   ]
  },
  {
   "cell_type": "code",
   "execution_count": 11,
   "id": "787a694a",
   "metadata": {
    "execution": {
     "iopub.execute_input": "2025-02-22T19:35:56.682450Z",
     "iopub.status.busy": "2025-02-22T19:35:56.682077Z",
     "iopub.status.idle": "2025-02-22T19:35:56.689555Z",
     "shell.execute_reply": "2025-02-22T19:35:56.688364Z"
    },
    "papermill": {
     "duration": 0.036763,
     "end_time": "2025-02-22T19:35:56.691376",
     "exception": false,
     "start_time": "2025-02-22T19:35:56.654613",
     "status": "completed"
    },
    "tags": []
   },
   "outputs": [
    {
     "data": {
      "text/plain": [
       "7      NaN\n",
       "8     0.32\n",
       "9      NaN\n",
       "10    0.69\n",
       "11    0.14\n",
       "Name: Acreage, dtype: object"
      ]
     },
     "execution_count": 11,
     "metadata": {},
     "output_type": "execute_result"
    }
   ],
   "source": [
    "df.Acreage.head()"
   ]
  },
  {
   "cell_type": "markdown",
   "id": "05221baf",
   "metadata": {
    "papermill": {
     "duration": 0.025029,
     "end_time": "2025-02-22T19:35:56.741557",
     "exception": false,
     "start_time": "2025-02-22T19:35:56.716528",
     "status": "completed"
    },
    "tags": []
   },
   "source": [
    "\"Acreage\" typically refers to a large piece of land, usually measured in acres. In real estate, it implies that the property includes a significant amount of land, often used for farming, ranching, or simply as a large private estate. So, Nan values can be replaced to 0"
   ]
  },
  {
   "cell_type": "code",
   "execution_count": 12,
   "id": "9eba51e9",
   "metadata": {
    "execution": {
     "iopub.execute_input": "2025-02-22T19:35:56.793324Z",
     "iopub.status.busy": "2025-02-22T19:35:56.792898Z",
     "iopub.status.idle": "2025-02-22T19:35:56.823777Z",
     "shell.execute_reply": "2025-02-22T19:35:56.822574Z"
    },
    "papermill": {
     "duration": 0.058782,
     "end_time": "2025-02-22T19:35:56.825489",
     "exception": false,
     "start_time": "2025-02-22T19:35:56.766707",
     "status": "completed"
    },
    "tags": []
   },
   "outputs": [
    {
     "name": "stderr",
     "output_type": "stream",
     "text": [
      "<ipython-input-12-9931aeb8a7af>:1: FutureWarning: Downcasting object dtype arrays on .fillna, .ffill, .bfill is deprecated and will change in a future version. Call result.infer_objects(copy=False) instead. To opt-in to the future behavior, set `pd.set_option('future.no_silent_downcasting', True)`\n",
      "  df[\"Acreage\"] = df[\"Acreage\"].fillna(0)\n"
     ]
    },
    {
     "data": {
      "text/plain": [
       "7     0.00\n",
       "8     0.32\n",
       "9     0.00\n",
       "10    0.69\n",
       "11    0.14\n",
       "Name: Acreage, dtype: float64"
      ]
     },
     "execution_count": 12,
     "metadata": {},
     "output_type": "execute_result"
    }
   ],
   "source": [
    "df[\"Acreage\"] = df[\"Acreage\"].fillna(0)\n",
    "df.Acreage.head()"
   ]
  },
  {
   "cell_type": "markdown",
   "id": "3fff3571",
   "metadata": {
    "papermill": {
     "duration": 0.025575,
     "end_time": "2025-02-22T19:35:56.876232",
     "exception": false,
     "start_time": "2025-02-22T19:35:56.850657",
     "status": "completed"
    },
    "tags": []
   },
   "source": [
    "# property-bath"
   ]
  },
  {
   "cell_type": "code",
   "execution_count": 13,
   "id": "177f802d",
   "metadata": {
    "execution": {
     "iopub.execute_input": "2025-02-22T19:35:56.928229Z",
     "iopub.status.busy": "2025-02-22T19:35:56.927824Z",
     "iopub.status.idle": "2025-02-22T19:35:56.959325Z",
     "shell.execute_reply": "2025-02-22T19:35:56.958203Z"
    },
    "papermill": {
     "duration": 0.059834,
     "end_time": "2025-02-22T19:35:56.961046",
     "exception": false,
     "start_time": "2025-02-22T19:35:56.901212",
     "status": "completed"
    },
    "tags": []
   },
   "outputs": [
    {
     "data": {
      "text/html": [
       "<div>\n",
       "<style scoped>\n",
       "    .dataframe tbody tr th:only-of-type {\n",
       "        vertical-align: middle;\n",
       "    }\n",
       "\n",
       "    .dataframe tbody tr th {\n",
       "        vertical-align: top;\n",
       "    }\n",
       "\n",
       "    .dataframe thead th {\n",
       "        text-align: right;\n",
       "    }\n",
       "</style>\n",
       "<table border=\"1\" class=\"dataframe\">\n",
       "  <thead>\n",
       "    <tr style=\"text-align: right;\">\n",
       "      <th></th>\n",
       "      <th>property-baths</th>\n",
       "      <th>Bath</th>\n",
       "    </tr>\n",
       "  </thead>\n",
       "  <tbody>\n",
       "    <tr>\n",
       "      <th>count</th>\n",
       "      <td>97041.0</td>\n",
       "      <td>26451.0</td>\n",
       "    </tr>\n",
       "    <tr>\n",
       "      <th>unique</th>\n",
       "      <td>26.0</td>\n",
       "      <td>9.0</td>\n",
       "    </tr>\n",
       "    <tr>\n",
       "      <th>top</th>\n",
       "      <td>2.0</td>\n",
       "      <td>1.0</td>\n",
       "    </tr>\n",
       "    <tr>\n",
       "      <th>freq</th>\n",
       "      <td>28083.0</td>\n",
       "      <td>17532.0</td>\n",
       "    </tr>\n",
       "  </tbody>\n",
       "</table>\n",
       "</div>"
      ],
      "text/plain": [
       "        property-baths     Bath\n",
       "count          97041.0  26451.0\n",
       "unique            26.0      9.0\n",
       "top                2.0      1.0\n",
       "freq           28083.0  17532.0"
      ]
     },
     "execution_count": 13,
     "metadata": {},
     "output_type": "execute_result"
    }
   ],
   "source": [
    "df[['property-baths', 'Bath']].describe()"
   ]
  },
  {
   "cell_type": "code",
   "execution_count": 14,
   "id": "b33e9af0",
   "metadata": {
    "execution": {
     "iopub.execute_input": "2025-02-22T19:35:57.013134Z",
     "iopub.status.busy": "2025-02-22T19:35:57.012682Z",
     "iopub.status.idle": "2025-02-22T19:35:57.049192Z",
     "shell.execute_reply": "2025-02-22T19:35:57.047804Z"
    },
    "papermill": {
     "duration": 0.064437,
     "end_time": "2025-02-22T19:35:57.050911",
     "exception": false,
     "start_time": "2025-02-22T19:35:56.986474",
     "status": "completed"
    },
    "tags": []
   },
   "outputs": [
    {
     "name": "stdout",
     "output_type": "stream",
     "text": [
      "       property-baths   Bath\n",
      "0.0             14428   7630\n",
      "1.0             16867  17532\n",
      "2.0             28083   1212\n",
      "3.0             20532     59\n",
      "4.0             11252     14\n",
      "5.0              3020      1\n",
      "6.0              1469      0\n",
      "7.0               654      0\n",
      "8.0               359      0\n",
      "9.0               186      1\n",
      "10.0               88      0\n",
      "11.0               45      0\n",
      "12.0               31      0\n",
      "13.0                7      0\n",
      "14.0                4      0\n",
      "15.0                3      0\n",
      "16.0                1      0\n",
      "17.0                1      0\n",
      "18.0                2      0\n",
      "19.0                1      0\n",
      "21.0                2      1\n",
      "23.0                1      0\n",
      "25.0                1      0\n",
      "26.0                2      0\n",
      "42.0                1      0\n",
      "802.0               0      1\n",
      "803.0               1      0\n"
     ]
    }
   ],
   "source": [
    "# Get unique values from both columns\n",
    "unique_values = pd.Index(df['property-baths'].dropna().unique()).union(df['Bath'].dropna().unique())\n",
    "\n",
    "# Create a DataFrame with unique values as index\n",
    "counts_df = pd.DataFrame(index=unique_values, columns=['property-baths', 'Bath'])\n",
    "\n",
    "# Count occurrences and fill the DataFrame\n",
    "counts_df['property-baths'] = df['property-baths'].value_counts().reindex(unique_values, fill_value=0)\n",
    "counts_df['Bath'] = df['Bath'].value_counts().reindex(unique_values, fill_value=0)\n",
    "\n",
    "print(counts_df)"
   ]
  },
  {
   "cell_type": "code",
   "execution_count": 15,
   "id": "1e9bf8d3",
   "metadata": {
    "execution": {
     "iopub.execute_input": "2025-02-22T19:35:57.102539Z",
     "iopub.status.busy": "2025-02-22T19:35:57.102149Z",
     "iopub.status.idle": "2025-02-22T19:35:57.118966Z",
     "shell.execute_reply": "2025-02-22T19:35:57.117871Z"
    },
    "papermill": {
     "duration": 0.044316,
     "end_time": "2025-02-22T19:35:57.120662",
     "exception": false,
     "start_time": "2025-02-22T19:35:57.076346",
     "status": "completed"
    },
    "scrolled": true,
    "tags": []
   },
   "outputs": [
    {
     "data": {
      "text/html": [
       "<div>\n",
       "<style scoped>\n",
       "    .dataframe tbody tr th:only-of-type {\n",
       "        vertical-align: middle;\n",
       "    }\n",
       "\n",
       "    .dataframe tbody tr th {\n",
       "        vertical-align: top;\n",
       "    }\n",
       "\n",
       "    .dataframe thead th {\n",
       "        text-align: right;\n",
       "    }\n",
       "</style>\n",
       "<table border=\"1\" class=\"dataframe\">\n",
       "  <thead>\n",
       "    <tr style=\"text-align: right;\">\n",
       "      <th></th>\n",
       "      <th>property-baths</th>\n",
       "      <th>Bath</th>\n",
       "      <th>description</th>\n",
       "      <th>price</th>\n",
       "    </tr>\n",
       "  </thead>\n",
       "  <tbody>\n",
       "    <tr>\n",
       "      <th>846</th>\n",
       "      <td>42.0</td>\n",
       "      <td>NaN</td>\n",
       "      <td>Discover this remarkable 24,000 sq ft commercial-residential mixed-use property offering incredible income potential and a proven high return on investment. Situated in a prime location, this asset is a standout opportunity for seasoned investors and developers alike.Key Features:1.Outstanding Income Return:oCurrent net profit: $675,557.13 annually, equating to a 12.75% net income return.oPost-conversion potential: $766,182 annual net profit, yielding an enhanced 14.45% net return.2.High-Value Asset with Significant Upside:oAppraised at $7.25M by a bank-approved appraiser.oMarket value projected to exceed $9M upon conversion to a 100% residential property.3.Existing Configuration:o12,000 sq ft of prime retail and office space.oResidential units: 4 studios, 8 one-bedroom apartments, and 8 two-bedroom apartments.4.Conversion Potential:oAfter transformation, the property will feature 6 studios, 8 one-bedroom apartments, and 28 two-bedroom apartments, catering to high-demand residential needs.5.Renovation Incentives:oGuaranteed renovation cost: Only $650,000, after factoring in city-supported CIP grants and interest-free loans.oBoosted rental income: Conversion results in a $90,625 annual increase in net rental income.6.Favorable Financing Options:oCMHC loan eligibility upon issuance of building permits.oLoan covers 100% of conversion costs at a competitive 4% interest rate.Why This Property?With strong current returns, significant upside from planned conversions, and the city-backed incentives to minimize costs, this property represents a rare blend of high yields, manageable risk, and long-term value appreciation.Don't miss this exceptional investment opportunity in the thriving City of Sudbury. (id:38686)</td>\n",
       "      <td>5388888.0</td>\n",
       "    </tr>\n",
       "  </tbody>\n",
       "</table>\n",
       "</div>"
      ],
      "text/plain": [
       "    property-baths Bath  \\\n",
       "846           42.0  NaN   \n",
       "\n",
       "                                                                                                                                                                                                                                                                                                                                                                                                                                                                                                                                                                                                                                                                                                                                                                                                                                                                                                                                                                                                                                                                                                                                                                                                                                                                                                                                                                                                                                                                                                                                                                                                                                                                                                                                                                                               description  \\\n",
       "846  Discover this remarkable 24,000 sq ft commercial-residential mixed-use property offering incredible income potential and a proven high return on investment. Situated in a prime location, this asset is a standout opportunity for seasoned investors and developers alike.Key Features:1.Outstanding Income Return:oCurrent net profit: $675,557.13 annually, equating to a 12.75% net income return.oPost-conversion potential: $766,182 annual net profit, yielding an enhanced 14.45% net return.2.High-Value Asset with Significant Upside:oAppraised at $7.25M by a bank-approved appraiser.oMarket value projected to exceed $9M upon conversion to a 100% residential property.3.Existing Configuration:o12,000 sq ft of prime retail and office space.oResidential units: 4 studios, 8 one-bedroom apartments, and 8 two-bedroom apartments.4.Conversion Potential:oAfter transformation, the property will feature 6 studios, 8 one-bedroom apartments, and 28 two-bedroom apartments, catering to high-demand residential needs.5.Renovation Incentives:oGuaranteed renovation cost: Only $650,000, after factoring in city-supported CIP grants and interest-free loans.oBoosted rental income: Conversion results in a $90,625 annual increase in net rental income.6.Favorable Financing Options:oCMHC loan eligibility upon issuance of building permits.oLoan covers 100% of conversion costs at a competitive 4% interest rate.Why This Property?With strong current returns, significant upside from planned conversions, and the city-backed incentives to minimize costs, this property represents a rare blend of high yields, manageable risk, and long-term value appreciation.Don't miss this exceptional investment opportunity in the thriving City of Sudbury. (id:38686)   \n",
       "\n",
       "         price  \n",
       "846  5388888.0  "
      ]
     },
     "execution_count": 15,
     "metadata": {},
     "output_type": "execute_result"
    }
   ],
   "source": [
    "pd.set_option('display.max_colwidth', None)\n",
    "\n",
    "df[df['property-baths'] == 42.0][['property-baths', 'Bath', 'description', 'price']]"
   ]
  },
  {
   "cell_type": "code",
   "execution_count": 16,
   "id": "c2b55685",
   "metadata": {
    "execution": {
     "iopub.execute_input": "2025-02-22T19:35:57.173061Z",
     "iopub.status.busy": "2025-02-22T19:35:57.172655Z",
     "iopub.status.idle": "2025-02-22T19:35:57.191705Z",
     "shell.execute_reply": "2025-02-22T19:35:57.190542Z"
    },
    "papermill": {
     "duration": 0.047267,
     "end_time": "2025-02-22T19:35:57.193502",
     "exception": false,
     "start_time": "2025-02-22T19:35:57.146235",
     "status": "completed"
    },
    "tags": []
   },
   "outputs": [
    {
     "data": {
      "text/html": [
       "<div>\n",
       "<style scoped>\n",
       "    .dataframe tbody tr th:only-of-type {\n",
       "        vertical-align: middle;\n",
       "    }\n",
       "\n",
       "    .dataframe tbody tr th {\n",
       "        vertical-align: top;\n",
       "    }\n",
       "\n",
       "    .dataframe thead th {\n",
       "        text-align: right;\n",
       "    }\n",
       "</style>\n",
       "<table border=\"1\" class=\"dataframe\">\n",
       "  <thead>\n",
       "    <tr style=\"text-align: right;\">\n",
       "      <th></th>\n",
       "      <th>property-baths</th>\n",
       "      <th>Bath</th>\n",
       "      <th>description</th>\n",
       "      <th>price</th>\n",
       "    </tr>\n",
       "  </thead>\n",
       "  <tbody>\n",
       "    <tr>\n",
       "      <th>9364</th>\n",
       "      <td>803.0</td>\n",
       "      <td>802.0</td>\n",
       "      <td>This 2 bedroom home is located on Blackhead Road and looking for new owners. The main floor has an eat in kitchen, 2 bedrooms, living room, 4 piece bathroom and a porch. There is a door located off the kitchen to a large patio that would be great for those summer BBQ's. There is a room developed in the basement that would make a great office or a third bedroom for the teenager who need or want their own space. There is also a large rooms that would make an ideal rec room when it is completed. Lots of room in the back garden and an area that is fenced and great for the animals to run and play. There is also a pad already poured if someone is looking to build an outbuilding. This home required some work like painting, flooring and any upgrades you may want to do but there is no doubt that this home has lots of potential. (id:38686)</td>\n",
       "      <td>198000.0</td>\n",
       "    </tr>\n",
       "  </tbody>\n",
       "</table>\n",
       "</div>"
      ],
      "text/plain": [
       "     property-baths   Bath  \\\n",
       "9364          803.0  802.0   \n",
       "\n",
       "                                                                                                                                                                                                                                                                                                                                                                                                                                                                                                                                                                                                                                                                                                                                                                                                                                                                    description  \\\n",
       "9364  This 2 bedroom home is located on Blackhead Road and looking for new owners. The main floor has an eat in kitchen, 2 bedrooms, living room, 4 piece bathroom and a porch. There is a door located off the kitchen to a large patio that would be great for those summer BBQ's. There is a room developed in the basement that would make a great office or a third bedroom for the teenager who need or want their own space. There is also a large rooms that would make an ideal rec room when it is completed. Lots of room in the back garden and an area that is fenced and great for the animals to run and play. There is also a pad already poured if someone is looking to build an outbuilding. This home required some work like painting, flooring and any upgrades you may want to do but there is no doubt that this home has lots of potential. (id:38686)   \n",
       "\n",
       "         price  \n",
       "9364  198000.0  "
      ]
     },
     "execution_count": 16,
     "metadata": {},
     "output_type": "execute_result"
    }
   ],
   "source": [
    "df[df['property-baths'] == 803][['property-baths', 'Bath', 'description', 'price']]"
   ]
  },
  {
   "cell_type": "code",
   "execution_count": 17,
   "id": "009f2221",
   "metadata": {
    "execution": {
     "iopub.execute_input": "2025-02-22T19:35:57.246238Z",
     "iopub.status.busy": "2025-02-22T19:35:57.245836Z",
     "iopub.status.idle": "2025-02-22T19:35:57.259242Z",
     "shell.execute_reply": "2025-02-22T19:35:57.258101Z"
    },
    "papermill": {
     "duration": 0.041788,
     "end_time": "2025-02-22T19:35:57.260958",
     "exception": false,
     "start_time": "2025-02-22T19:35:57.219170",
     "status": "completed"
    },
    "tags": []
   },
   "outputs": [],
   "source": [
    "df.loc[df['property-baths'] == 803, 'property-baths'] = 1"
   ]
  },
  {
   "cell_type": "code",
   "execution_count": 18,
   "id": "bae5118c",
   "metadata": {
    "execution": {
     "iopub.execute_input": "2025-02-22T19:35:57.313560Z",
     "iopub.status.busy": "2025-02-22T19:35:57.313118Z",
     "iopub.status.idle": "2025-02-22T19:35:57.334851Z",
     "shell.execute_reply": "2025-02-22T19:35:57.333718Z"
    },
    "papermill": {
     "duration": 0.050094,
     "end_time": "2025-02-22T19:35:57.336817",
     "exception": false,
     "start_time": "2025-02-22T19:35:57.286723",
     "status": "completed"
    },
    "tags": []
   },
   "outputs": [
    {
     "data": {
      "text/plain": [
       "property-baths\n",
       "2.0               28083\n",
       "3.0               20532\n",
       "1.0               16868\n",
       "0.0               14428\n",
       "4.0               11252\n",
       "5.0                3020\n",
       "6.0                1469\n",
       "7.0                 654\n",
       "8.0                 359\n",
       "9.0                 186\n",
       "10.0                 88\n",
       "11.0                 45\n",
       "12.0                 31\n",
       "13.0                  7\n",
       "14.0                  4\n",
       "15.0                  3\n",
       "18.0                  2\n",
       "21.0                  2\n",
       "26.0                  2\n",
       "16.0                  1\n",
       "17.0                  1\n",
       "19.0                  1\n",
       "23.0                  1\n",
       "25.0                  1\n",
       "42.0                  1\n",
       "Name: count, dtype: int64"
      ]
     },
     "execution_count": 18,
     "metadata": {},
     "output_type": "execute_result"
    }
   ],
   "source": [
    "df[['property-baths']].value_counts()"
   ]
  },
  {
   "cell_type": "markdown",
   "id": "b635b4a6",
   "metadata": {
    "papermill": {
     "duration": 0.033698,
     "end_time": "2025-02-22T19:35:57.397176",
     "exception": false,
     "start_time": "2025-02-22T19:35:57.363478",
     "status": "completed"
    },
    "tags": []
   },
   "source": [
    "# Features"
   ]
  },
  {
   "cell_type": "code",
   "execution_count": 19,
   "id": "3187d33e",
   "metadata": {
    "execution": {
     "iopub.execute_input": "2025-02-22T19:35:57.451605Z",
     "iopub.status.busy": "2025-02-22T19:35:57.451173Z",
     "iopub.status.idle": "2025-02-22T19:35:57.458686Z",
     "shell.execute_reply": "2025-02-22T19:35:57.457529Z"
    },
    "papermill": {
     "duration": 0.037001,
     "end_time": "2025-02-22T19:35:57.460660",
     "exception": false,
     "start_time": "2025-02-22T19:35:57.423659",
     "status": "completed"
    },
    "tags": []
   },
   "outputs": [
    {
     "data": {
      "text/plain": [
       "7                          Underground, Heated Garage\n",
       "8     Attached Garage, RV, See Remarks, Heated Garage\n",
       "9                                            Aluminum\n",
       "10                                    Attached Garage\n",
       "11                                          Other, RV\n",
       "Name: Features, dtype: object"
      ]
     },
     "execution_count": 19,
     "metadata": {},
     "output_type": "execute_result"
    }
   ],
   "source": [
    "df.Features.head()"
   ]
  },
  {
   "cell_type": "markdown",
   "id": "fb613b0a",
   "metadata": {
    "papermill": {
     "duration": 0.028687,
     "end_time": "2025-02-22T19:35:57.515370",
     "exception": false,
     "start_time": "2025-02-22T19:35:57.486683",
     "status": "completed"
    },
    "tags": []
   },
   "source": [
    "The column 'Features' contains detailed information about a house, including parking, garage, pool, heating, garden, and other. Some rows may have multiple features listed, while others might only contain a few or even none. Additionally, the 'Garage' column can sometimes be empty, even when garage-related details are present in the 'Features' column. This makes it crucial to extract and analyze all values from 'Features' to ensure no important information is missed."
   ]
  },
  {
   "cell_type": "code",
   "execution_count": 20,
   "id": "c9eec421",
   "metadata": {
    "execution": {
     "iopub.execute_input": "2025-02-22T19:35:57.598569Z",
     "iopub.status.busy": "2025-02-22T19:35:57.597856Z",
     "iopub.status.idle": "2025-02-22T19:35:57.611912Z",
     "shell.execute_reply": "2025-02-22T19:35:57.610926Z"
    },
    "papermill": {
     "duration": 0.056857,
     "end_time": "2025-02-22T19:35:57.613500",
     "exception": false,
     "start_time": "2025-02-22T19:35:57.556643",
     "status": "completed"
    },
    "tags": []
   },
   "outputs": [
    {
     "data": {
      "text/plain": [
       "(5338,)"
      ]
     },
     "execution_count": 20,
     "metadata": {},
     "output_type": "execute_result"
    }
   ],
   "source": [
    "df['Features'].unique().shape"
   ]
  },
  {
   "cell_type": "markdown",
   "id": "b3344f1a",
   "metadata": {
    "papermill": {
     "duration": 0.02531,
     "end_time": "2025-02-22T19:35:57.665533",
     "exception": false,
     "start_time": "2025-02-22T19:35:57.640223",
     "status": "completed"
    },
    "tags": []
   },
   "source": [
    "We have 5,338 different values in the 'Feature' column. The problem is that each cell can contain a list of information, with potential relationships between features in the dataset. We can define some keywords for each feature, extract relevant values, and fill in the gaps."
   ]
  },
  {
   "cell_type": "code",
   "execution_count": 21,
   "id": "979deb14",
   "metadata": {
    "execution": {
     "iopub.execute_input": "2025-02-22T19:35:57.718617Z",
     "iopub.status.busy": "2025-02-22T19:35:57.718246Z",
     "iopub.status.idle": "2025-02-22T19:35:57.723454Z",
     "shell.execute_reply": "2025-02-22T19:35:57.722434Z"
    },
    "jp-MarkdownHeadingCollapsed": true,
    "papermill": {
     "duration": 0.033687,
     "end_time": "2025-02-22T19:35:57.725075",
     "exception": false,
     "start_time": "2025-02-22T19:35:57.691388",
     "status": "completed"
    },
    "tags": []
   },
   "outputs": [],
   "source": [
    "##### Extract unique features\n",
    "def get_unique_values(column):\n",
    "    \n",
    "    unique_features = set()\n",
    "    \n",
    "    for features in df[column].dropna():\n",
    "        # Remove brackets and extra quotes\n",
    "        cleaned_features = features.replace(\"[\", \"\").replace(\"]\", \"\").replace('\"', '').replace(\"'\", \"\")\n",
    "        # Split by comma\n",
    "        feature_list = [f.strip() for f in cleaned_features.split(\",\")]\n",
    "        unique_features.update(feature_list)\n",
    "\n",
    "    return unique_features"
   ]
  },
  {
   "cell_type": "code",
   "execution_count": 22,
   "id": "c8b3d3ac",
   "metadata": {
    "execution": {
     "iopub.execute_input": "2025-02-22T19:35:57.778039Z",
     "iopub.status.busy": "2025-02-22T19:35:57.777678Z",
     "iopub.status.idle": "2025-02-22T19:35:57.893445Z",
     "shell.execute_reply": "2025-02-22T19:35:57.892113Z"
    },
    "papermill": {
     "duration": 0.14494,
     "end_time": "2025-02-22T19:35:57.895658",
     "exception": false,
     "start_time": "2025-02-22T19:35:57.750718",
     "status": "completed"
    },
    "tags": []
   },
   "outputs": [
    {
     "name": "stdout",
     "output_type": "stream",
     "text": [
      "268 {'', 'Garage; Single', 'Alley Access', 'Carport; Multiple', 'Carport & Garage', 'Stream/Pond', 'Park/Reserve', 'Public Swimming Pool', 'Golf Nearby', 'Private Electric Vehicle Charging Station(s)', 'Heated Driveway', 'Flat Site', 'Garage Underbuilding', 'Rear', 'Interlocked', 'Concrete', 'Playground Nearby', 'Garden', 'Electric', 'Double Carport', 'Attached Garage', 'Garage Double', 'Parking Lot', 'Aggregate', 'Carport Quad+', 'Concrete/Stucco', 'Corner Lot', 'Aluminum/Vinyl', 'Heated Garage', '2 Car Attached', 'Fenced', 'Public Electric Vehicle Charging Station(s)', 'Cul-De-Sac', 'Colour Loc', 'Varies by Unit', 'Gated', 'On Site', 'Conventional', 'Rock Imitation', 'Asbestos', 'Quad or More Detached', 'Double Garage Attached', 'Multiple Driveways', 'Inside Entry', 'Single Carport', 'Carport; Single', 'Parkade', 'Interlocking Driveway', 'Attached', 'River View', 'Garage Quad+', 'Shared', 'Breezeway', 'Visitor Parking', 'Stall', 'Garage Door Opener', 'None', 'Free Standing Metal', '2 Car Detached', 'Parking Pad', 'View Downtown', 'Carport Triple', '6 Car Detached', 'Exposed Aggregate', 'Wood siding', 'Private Setting', 'Aluminum siding', 'Gravel', 'Other - See remarks', 'Gated Community', 'RV Hookup', 'Underground Parking', 'Grge/Double Tandem', 'Common', '3 Car Attached', 'Open', 'RV Parking Avail.', 'Steel', 'No Garage', 'Shopping Nearby', 'Shingles', 'Playground', 'RV', 'Covered', 'Level Land', 'View City', 'Brick Imitation', 'Sloping Lot', 'Cedar', 'Picnic Area', 'Wood Siding', 'Paved Lane', 'Shop', 'Stove', 'Asphalt', 'Brick', '5 Car Attached', 'Detached', 'Ski Hill Nearby', 'Low Maintenance Landscape', 'Front Drive Access', '220 Volt Wiring', 'Schools', 'Landscaped', 'No Parking', 'Workshop in Garage', 'Private Yard', '2', 'Tandem', 'Direct vent', 'Partially Landscaped', 'Subdividable Lot', 'Wood shingles', 'Lake Access Property', '4 Car Attached', 'Treed Lot', 'Insul Brick', 'Rear Drive', 'Gas', 'Double Garage Detached', 'Composite Siding', 'Roughed in', 'Surfaced', 'Driveway', 'Quad or More Attached', 'Private Fishing', 'Paved', 'Block Driveway', 'Environmental Reserve', 'Garage; Double', 'RV Garage', 'Brick imitation', 'Barbecue', 'Ravine View', 'Lake View', 'Vinyl siding', 'Private Entrance', 'Cross Fenced', 'Street Lighting', 'Hillside', 'Rain Barrel/Cistern(s)', 'See Remarks', 'Other', 'Brick Veneer', 'Unpaved', 'Fruit Trees/Shrubs', 'Drive Through', 'Titled', 'Concrete Driveway', 'Outside', 'In Garage Electric Vehicle Charging Station(s)', 'No Through Road', 'EV Charging Station', 'Triple Garage Attached', 'Garage Faces Rear', 'Gravel Driveway', 'Boat', 'Metal', 'Parking Spaces', 'Single Garage Attached', 'Waterfront Property', 'Street', 'Attached Carport', 'Tandem Parking', '0', 'Secured', 'Garage; Triple', 'Front Drive', 'Outdoor Grill', 'Mixed', 'Indoor', 'Woodstove', 'Courtyard', 'Paved Yard', 'Insulated', 'Not Fenced', '1', 'Garage Faces Side', 'Shared Driveway', 'On Street', 'Awning(s)', 'Commercial', 'River Valley View', 'Propane', 'Parking Pad Cement/Paved', 'RV Access/Parking', 'Not Landscaped', 'Side By Side', 'Public Transportation', 'Oversized', 'Additional Parking', '2 Outdoor Stalls', 'Insert', 'Pellet', 'Carport Double', 'Garage/Laneway Suite', '4 Car Detached', 'Unknown', 'Over Sized', 'Leased', '5 Car Detached', 'Offset', 'Creek', 'Siding', 'Outdoor Kitchen', 'Underground', 'Oversize', 'Backs Onto Lake', 'Aluminum', 'Carport', 'Heated', 'Cedar shingles', 'Garage', 'Vegetable Garden', 'Parking Space(s)', 'Low Maintenance Yard', 'Unassigned', 'Garage; Underground', 'RV Parking', 'Boating', 'Off Street', 'Partially Fenced', 'Rolling Land', 'Rail Services Nearby', 'Recreation Use', 'Private Park Access', 'Balcony', 'Converted Garage', 'Brick Facing', 'Plug-In', 'Fire Pit', 'Stucco', 'Front/Rear Drive Access', 'Airport Nearby', 'Wood', 'Garage Triple', 'Backs Onto Park/Trees', '6 Car Attached', 'Double Indoor', 'Assigned', '3 Car Detached', '1 Car Detached', 'Stone', 'Back Lane', 'Rear Drive Access', 'Beach Access', 'Garage Faces Front', 'Enclosed', 'Detached Garage', 'Single Indoor', 'Golf Cart Garage', 'Vinyl', 'No Back Lane', 'Log', 'Hardboard', 'Owned', 'RV Gated', 'Add. Parking Avail.', 'Single Garage Detached', 'Electric Gate', '1 Car Attached', 'Triple Garage Detached', 'Storage', 'Integrated Garage', 'DetachedGrge/Carport', 'Guest', 'Decorative', 'Cedar Siding'}\n"
     ]
    }
   ],
   "source": [
    "unique_features = get_unique_values('Features')\n",
    "print(len(unique_features), unique_features)"
   ]
  },
  {
   "cell_type": "markdown",
   "id": "4081b193",
   "metadata": {
    "papermill": {
     "duration": 0.025651,
     "end_time": "2025-02-22T19:35:57.947663",
     "exception": false,
     "start_time": "2025-02-22T19:35:57.922012",
     "status": "completed"
    },
    "tags": []
   },
   "source": [
    "Now we got 268 different unique values. Let's fill the gap in Garage column"
   ]
  },
  {
   "cell_type": "markdown",
   "id": "98a1b616",
   "metadata": {
    "papermill": {
     "duration": 0.02602,
     "end_time": "2025-02-22T19:35:58.005370",
     "exception": false,
     "start_time": "2025-02-22T19:35:57.979350",
     "status": "completed"
    },
    "tags": []
   },
   "source": [
    "## Garage"
   ]
  },
  {
   "cell_type": "code",
   "execution_count": null,
   "id": "b4ffcdf4",
   "metadata": {},
   "outputs": [],
   "source": []
  },
  {
   "cell_type": "code",
   "execution_count": 23,
   "id": "83762211",
   "metadata": {
    "execution": {
     "iopub.execute_input": "2025-02-22T19:35:58.060062Z",
     "iopub.status.busy": "2025-02-22T19:35:58.059660Z",
     "iopub.status.idle": "2025-02-22T19:35:58.069652Z",
     "shell.execute_reply": "2025-02-22T19:35:58.068610Z"
    },
    "papermill": {
     "duration": 0.03969,
     "end_time": "2025-02-22T19:35:58.071529",
     "exception": false,
     "start_time": "2025-02-22T19:35:58.031839",
     "status": "completed"
    },
    "tags": []
   },
   "outputs": [
    {
     "data": {
      "text/plain": [
       "Garage\n",
       "Yes    9602\n",
       "Name: count, dtype: int64"
      ]
     },
     "execution_count": 23,
     "metadata": {},
     "output_type": "execute_result"
    }
   ],
   "source": [
    "df.Garage.value_counts()"
   ]
  },
  {
   "cell_type": "markdown",
   "id": "3b657c85",
   "metadata": {
    "papermill": {
     "duration": 0.026278,
     "end_time": "2025-02-22T19:35:58.124955",
     "exception": false,
     "start_time": "2025-02-22T19:35:58.098677",
     "status": "completed"
    },
    "tags": []
   },
   "source": [
    "Column 'Garage' contains only 'Yes' or 'No' values. The information about type of garage, how namy of them in the house could contain columns 'Feature' or 'Parking'. Let's combine them."
   ]
  },
  {
   "cell_type": "code",
   "execution_count": 24,
   "id": "f9b9d1cd",
   "metadata": {
    "execution": {
     "iopub.execute_input": "2025-02-22T19:35:58.178256Z",
     "iopub.status.busy": "2025-02-22T19:35:58.177884Z",
     "iopub.status.idle": "2025-02-22T19:35:58.289828Z",
     "shell.execute_reply": "2025-02-22T19:35:58.288577Z"
    },
    "papermill": {
     "duration": 0.140787,
     "end_time": "2025-02-22T19:35:58.291690",
     "exception": false,
     "start_time": "2025-02-22T19:35:58.150903",
     "status": "completed"
    },
    "tags": []
   },
   "outputs": [
    {
     "name": "stdout",
     "output_type": "stream",
     "text": [
      "268 {'', 'Garage; Single', 'Carport & Garage', 'Park/Reserve', 'Public Swimming Pool', 'Heated Driveway', 'Flat Site', 'Rear', 'Double Carport', 'Carport Quad+', 'Parking Lot', 'Heated Garage', 'Public Electric Vehicle Charging Station(s)', 'Conventional', 'Quad or More Detached', 'Double Garage Attached', 'Multiple Driveways', 'Interlocking Driveway', 'Attached', 'River View', 'Shared', 'Visitor Parking', 'Stall', '2 Car Detached', 'Parking Pad', 'Carport Triple', '6 Car Detached', 'Wood siding', 'Private Setting', 'Gravel', 'Underground Parking', 'Open', 'RV Parking Avail.', 'Steel', 'Playground', 'Covered', 'Level Land', 'Brick Imitation', 'Cedar', 'Picnic Area', 'Wood Siding', 'Paved Lane', 'Stove', 'Asphalt', 'Brick', 'Ski Hill Nearby', 'Low Maintenance Landscape', '220 Volt Wiring', '2', 'Landscaped', 'Direct vent', 'Partially Landscaped', 'Subdividable Lot', 'Wood shingles', 'Lake Access Property', '4 Car Attached', 'Gas', 'Roughed in', 'Private Fishing', 'Block Driveway', 'Garage; Double', 'RV Garage', 'Brick imitation', 'Barbecue', 'Ravine View', 'Lake View', 'Vinyl siding', 'Street Lighting', 'Hillside', 'Brick Veneer', 'Fruit Trees/Shrubs', 'Drive Through', 'Titled', 'Concrete Driveway', 'Outside', 'In Garage Electric Vehicle Charging Station(s)', 'EV Charging Station', 'Triple Garage Attached', 'Parking Spaces', 'Waterfront Property', 'Street', 'Tandem Parking', 'Mixed', 'Secured', 'Courtyard', 'Insulated', 'Not Fenced', '1', 'Garage Faces Side', 'On Street', 'Commercial', 'Propane', 'Not Landscaped', 'Side By Side', 'Public Transportation', 'Oversized', 'Additional Parking', 'Insert', 'Pellet', '4 Car Detached', 'Over Sized', 'Leased', 'Creek', 'Siding', 'Carport', 'Cedar shingles', 'Parking Space(s)', 'Low Maintenance Yard', 'Garage; Underground', 'Boating', 'Partially Fenced', 'Rolling Land', 'Rail Services Nearby', 'Brick Facing', 'Plug-In', 'Front/Rear Drive Access', 'Garage Triple', '6 Car Attached', '3 Car Detached', '1 Car Detached', 'Beach Access', 'Rear Drive Access', 'Back Lane', 'Detached Garage', 'Vinyl', 'No Back Lane', 'Log', 'Hardboard', 'Owned', 'Add. Parking Avail.', 'Single Garage Detached', '1 Car Attached', 'DetachedGrge/Carport', 'Guest', 'Alley Access', 'Carport; Multiple', 'Stream/Pond', 'Golf Nearby', 'Private Electric Vehicle Charging Station(s)', 'Garage Underbuilding', 'Interlocked', 'Concrete', 'Playground Nearby', 'Garden', 'Electric', 'Attached Garage', 'Garage Double', 'Aggregate', 'Concrete/Stucco', 'Corner Lot', 'Aluminum/Vinyl', '2 Car Attached', 'Colour Loc', 'Fenced', 'Cul-De-Sac', 'Varies by Unit', 'Gated', 'On Site', 'Rock Imitation', 'Asbestos', 'Inside Entry', 'Single Carport', 'Carport; Single', 'Parkade', 'Garage Quad+', 'Breezeway', 'Garage Door Opener', 'None', 'Free Standing Metal', 'View Downtown', 'Exposed Aggregate', 'Aluminum siding', 'Other - See remarks', 'Gated Community', 'RV Hookup', 'Grge/Double Tandem', 'Common', '3 Car Attached', 'No Garage', 'Shopping Nearby', 'Shingles', 'RV', 'View City', 'Sloping Lot', 'Shop', '5 Car Attached', 'Detached', 'Front Drive Access', 'No Parking', 'Schools', 'Workshop in Garage', 'Private Yard', 'Tandem', 'Treed Lot', 'Insul Brick', 'Rear Drive', 'Double Garage Detached', 'Composite Siding', 'Surfaced', 'Driveway', 'Quad or More Attached', 'Paved', 'Environmental Reserve', 'Private Entrance', 'Cross Fenced', 'Rain Barrel/Cistern(s)', 'See Remarks', 'Other', 'Unpaved', 'No Through Road', 'Metal', 'Private Park Access', 'Garage Faces Rear', 'Gravel Driveway', 'Boat', 'Single Garage Attached', 'Attached Carport', '0', 'Garage; Triple', 'Front Drive', 'Outdoor Grill', 'Indoor', 'Paved Yard', 'Woodstove', 'Shared Driveway', 'Awning(s)', 'River Valley View', 'Parking Pad Cement/Paved', 'RV Access/Parking', '2 Outdoor Stalls', 'Garage/Laneway Suite', 'Carport Double', 'Unknown', '5 Car Detached', 'Offset', 'Outdoor Kitchen', 'Underground', 'Oversize', 'Backs Onto Lake', 'Aluminum', 'Heated', 'Garage', 'Vegetable Garden', 'Unassigned', 'RV Parking', 'Off Street', 'Recreation Use', 'Balcony', 'Converted Garage', 'Fire Pit', 'Stucco', 'Airport Nearby', 'Wood', 'Backs Onto Park/Trees', 'Double Indoor', 'Assigned', 'Stone', 'Golf Cart Garage', 'Garage Faces Front', 'Enclosed', 'Single Indoor', 'RV Gated', 'Electric Gate', 'Triple Garage Detached', 'Storage', 'Integrated Garage', 'Decorative', 'Cedar Siding'}\n"
     ]
    }
   ],
   "source": [
    "unique_parking_features = get_unique_values('Parking') | unique_features\n",
    "print(len(unique_parking_features), unique_parking_features)"
   ]
  },
  {
   "cell_type": "markdown",
   "id": "22126179",
   "metadata": {
    "papermill": {
     "duration": 0.027206,
     "end_time": "2025-02-22T19:35:58.346222",
     "exception": false,
     "start_time": "2025-02-22T19:35:58.319016",
     "status": "completed"
    },
    "tags": []
   },
   "source": [
    "Let's select from this list only garage related terminology:"
   ]
  },
  {
   "cell_type": "code",
   "execution_count": 25,
   "id": "7485dcc6",
   "metadata": {
    "execution": {
     "iopub.execute_input": "2025-02-22T19:35:58.401370Z",
     "iopub.status.busy": "2025-02-22T19:35:58.400910Z",
     "iopub.status.idle": "2025-02-22T19:35:58.408531Z",
     "shell.execute_reply": "2025-02-22T19:35:58.407359Z"
    },
    "papermill": {
     "duration": 0.036722,
     "end_time": "2025-02-22T19:35:58.410077",
     "exception": false,
     "start_time": "2025-02-22T19:35:58.373355",
     "status": "completed"
    },
    "tags": []
   },
   "outputs": [
    {
     "name": "stdout",
     "output_type": "stream",
     "text": [
      "Garage-related items: ['garage; single', 'carport & garage', 'double carport', 'carport quad+', 'heated garage', 'quad or more detached', 'double garage attached', 'attached', '2 car detached', 'carport triple', '6 car detached', '4 car attached', 'garage; double', 'rv garage', 'in garage electric vehicle charging station(s)', 'triple garage attached', 'tandem parking', 'garage faces side', '4 car detached', 'carport', 'garage; underground', 'garage triple', '6 car attached', '3 car detached', '1 car detached', 'detached garage', 'single garage detached', '1 car attached', 'detachedgrge/carport', 'carport; multiple', 'garage underbuilding', 'attached garage', 'garage double', '2 car attached', 'single carport', 'carport; single', 'garage quad+', 'garage door opener', 'grge/double tandem', '3 car attached', '5 car attached', 'detached', 'workshop in garage', 'tandem', 'double garage detached', 'quad or more attached', 'garage faces rear', 'single garage attached', 'attached carport', 'garage; triple', 'garage/laneway suite', 'carport double', '5 car detached', 'garage', 'converted garage', 'golf cart garage', 'garage faces front', 'triple garage detached', 'integrated garage']\n"
     ]
    }
   ],
   "source": [
    "garage_keywords = {\"garage\", \"carport\", \"grge\", \"attached\", \"detached\", \"tandem\", \"car\"}\n",
    "\n",
    "# The selected keywords cover different terms related to garages and carports:\n",
    "\n",
    "#     \"garage\" → Captures any mention of a garage.\n",
    "#     \"carport\" → Includes carports, which serve a similar function.\n",
    "#     \"grge\" → A common abbreviation for \"garage\" (e.g., \"DetachedGrge/Carport\").\n",
    "#     \"attached\" → Covers garages that are attached to the house.\n",
    "#     \"detached\" → Covers garages that are separate from the house.\n",
    "#     \"tandem\" → Represents tandem garages, where cars are parked one behind the other.\n",
    "#     \"car\" → Captures features mentioning a car (e.g., \"2 Car Attached\", \"3 Car Detached\").\n",
    "\n",
    "garage_list = []\n",
    "\n",
    "\n",
    "for item in unique_parking_features:\n",
    "    lower_item = item.lower()\n",
    "    if any(keyword in lower_item for keyword in garage_keywords):\n",
    "        garage_list.append(item.lower())\n",
    "\n",
    "garage_list.remove('no garage')\n",
    "\n",
    "print(\"Garage-related items:\", garage_list)"
   ]
  },
  {
   "cell_type": "code",
   "execution_count": 26,
   "id": "5af86f12",
   "metadata": {
    "execution": {
     "iopub.execute_input": "2025-02-22T19:35:58.464550Z",
     "iopub.status.busy": "2025-02-22T19:35:58.464125Z",
     "iopub.status.idle": "2025-02-22T19:35:58.470265Z",
     "shell.execute_reply": "2025-02-22T19:35:58.469179Z"
    },
    "papermill": {
     "duration": 0.035313,
     "end_time": "2025-02-22T19:35:58.472038",
     "exception": false,
     "start_time": "2025-02-22T19:35:58.436725",
     "status": "completed"
    },
    "tags": []
   },
   "outputs": [],
   "source": [
    "def check_keywords(features, keywords):\n",
    "\n",
    "    try:\n",
    "        cleaned_features = features.replace(\"[\", \"\").replace(\"]\", \"\").replace('\"', '').replace(\"'\", \"\").replace(\";\", \",\")\n",
    "        list_to_check = [f.strip().lower() for f in cleaned_features.split(',')]\n",
    "        common = set(list_to_check) & set(keywords)\n",
    "        \n",
    "        if common: \n",
    "            return 'Yes'  \n",
    "            \n",
    "    except AttributeError:\n",
    "        return 'No'\n",
    "    \n",
    "    return 'No'"
   ]
  },
  {
   "cell_type": "markdown",
   "id": "3b13cb2e",
   "metadata": {
    "papermill": {
     "duration": 0.026024,
     "end_time": "2025-02-22T19:35:58.524592",
     "exception": false,
     "start_time": "2025-02-22T19:35:58.498568",
     "status": "completed"
    },
    "tags": []
   },
   "source": [
    "The function 'check_keywords' will check if column 'Features' and 'Parking' contain at least one pfrase from the list 'garage_list'. In this case, the nan value in column 'Garage' will be changes to \"Yes\"."
   ]
  },
  {
   "cell_type": "code",
   "execution_count": 27,
   "id": "25f14d56",
   "metadata": {
    "execution": {
     "iopub.execute_input": "2025-02-22T19:35:58.581326Z",
     "iopub.status.busy": "2025-02-22T19:35:58.580842Z",
     "iopub.status.idle": "2025-02-22T19:35:58.837436Z",
     "shell.execute_reply": "2025-02-22T19:35:58.836329Z"
    },
    "papermill": {
     "duration": 0.287931,
     "end_time": "2025-02-22T19:35:58.839470",
     "exception": false,
     "start_time": "2025-02-22T19:35:58.551539",
     "status": "completed"
    },
    "scrolled": true,
    "tags": []
   },
   "outputs": [
    {
     "data": {
      "text/plain": [
       "Garage new\n",
       "Yes    55223\n",
       "No     42588\n",
       "Name: count, dtype: int64"
      ]
     },
     "execution_count": 27,
     "metadata": {},
     "output_type": "execute_result"
    }
   ],
   "source": [
    "df['Garage new'] = df['Garage']\n",
    "df.loc[df.Garage.isna(), 'Garage new'] = df.loc[df.Garage.isna(), 'Features'].apply(lambda x: check_keywords(x, garage_list))\n",
    "df['Garage new'].value_counts()"
   ]
  },
  {
   "cell_type": "markdown",
   "id": "871b68e9",
   "metadata": {
    "papermill": {
     "duration": 0.026516,
     "end_time": "2025-02-22T19:35:58.892887",
     "exception": false,
     "start_time": "2025-02-22T19:35:58.866371",
     "status": "completed"
    },
    "tags": []
   },
   "source": [
    "Some rows can have information about garage in Parking column"
   ]
  },
  {
   "cell_type": "code",
   "execution_count": 28,
   "id": "caae9e17",
   "metadata": {
    "execution": {
     "iopub.execute_input": "2025-02-22T19:35:58.947333Z",
     "iopub.status.busy": "2025-02-22T19:35:58.946929Z",
     "iopub.status.idle": "2025-02-22T19:35:58.957830Z",
     "shell.execute_reply": "2025-02-22T19:35:58.956849Z"
    },
    "papermill": {
     "duration": 0.04026,
     "end_time": "2025-02-22T19:35:58.959752",
     "exception": false,
     "start_time": "2025-02-22T19:35:58.919492",
     "status": "completed"
    },
    "tags": []
   },
   "outputs": [
    {
     "data": {
      "text/plain": [
       "array(['Underground, Heated Garage',\n",
       "       'Attached Garage, RV, See Remarks, Heated Garage', nan, ...,\n",
       "       '[\"No Garage\", \"Covered\"]',\n",
       "       '[\"1 Car Detached\", \"Garage/Laneway Suite\"]',\n",
       "       '[\"2 Car Attached\", \"Parking Pad\", \"RV Parking\"]'], dtype=object)"
      ]
     },
     "execution_count": 28,
     "metadata": {},
     "output_type": "execute_result"
    }
   ],
   "source": [
    "df.Parking.unique()"
   ]
  },
  {
   "cell_type": "code",
   "execution_count": 29,
   "id": "6ff65937",
   "metadata": {
    "execution": {
     "iopub.execute_input": "2025-02-22T19:35:59.015113Z",
     "iopub.status.busy": "2025-02-22T19:35:59.014752Z",
     "iopub.status.idle": "2025-02-22T19:35:59.035393Z",
     "shell.execute_reply": "2025-02-22T19:35:59.034434Z"
    },
    "papermill": {
     "duration": 0.050521,
     "end_time": "2025-02-22T19:35:59.037183",
     "exception": false,
     "start_time": "2025-02-22T19:35:58.986662",
     "status": "completed"
    },
    "tags": []
   },
   "outputs": [
    {
     "data": {
      "text/plain": [
       "Garage new\n",
       "Yes    55223\n",
       "No     42588\n",
       "Name: count, dtype: int64"
      ]
     },
     "execution_count": 29,
     "metadata": {},
     "output_type": "execute_result"
    }
   ],
   "source": [
    "df.loc[df.Garage == 'No', 'Garage new'] = df.loc[df.Garage == 'No', 'Parking'].apply(lambda x: check_keywords(x, garage_list))\n",
    "df['Garage new'].value_counts()"
   ]
  },
  {
   "cell_type": "markdown",
   "id": "71022efa",
   "metadata": {
    "papermill": {
     "duration": 0.026399,
     "end_time": "2025-02-22T19:35:59.091251",
     "exception": false,
     "start_time": "2025-02-22T19:35:59.064852",
     "status": "completed"
    },
    "tags": []
   },
   "source": [
    "The number of not-null values does not changed. So all possible values were filled from 'Features' column."
   ]
  },
  {
   "cell_type": "markdown",
   "id": "f69c4ddd",
   "metadata": {
    "papermill": {
     "duration": 0.026137,
     "end_time": "2025-02-22T19:35:59.143695",
     "exception": false,
     "start_time": "2025-02-22T19:35:59.117558",
     "status": "completed"
    },
    "tags": []
   },
   "source": [
    "## Let's do the same for column 'Parking'"
   ]
  },
  {
   "cell_type": "code",
   "execution_count": 30,
   "id": "9e45aa2a",
   "metadata": {
    "execution": {
     "iopub.execute_input": "2025-02-22T19:35:59.198178Z",
     "iopub.status.busy": "2025-02-22T19:35:59.197766Z",
     "iopub.status.idle": "2025-02-22T19:35:59.214413Z",
     "shell.execute_reply": "2025-02-22T19:35:59.213441Z"
    },
    "papermill": {
     "duration": 0.045691,
     "end_time": "2025-02-22T19:35:59.216005",
     "exception": false,
     "start_time": "2025-02-22T19:35:59.170314",
     "status": "completed"
    },
    "tags": []
   },
   "outputs": [
    {
     "data": {
      "text/plain": [
       "Parking\n",
       "[]                                                 11111\n",
       "Attached Garage                                     5560\n",
       "Underground                                         4924\n",
       "[\"Attached Garage\"]                                 3793\n",
       "Garage                                              2566\n",
       "                                                   ...  \n",
       "Driveway, Open, RV Access/Parking                      1\n",
       "Additional Parking, Carport                            1\n",
       "Additional Parking, Carport, Driveway, Open            1\n",
       "Carport; Multiple, DetachedGrge/Carport, Open          1\n",
       "[\"2 Car Attached\", \"Parking Pad\", \"RV Parking\"]        1\n",
       "Name: count, Length: 4907, dtype: int64"
      ]
     },
     "execution_count": 30,
     "metadata": {},
     "output_type": "execute_result"
    }
   ],
   "source": [
    "df.Parking.value_counts()"
   ]
  },
  {
   "cell_type": "code",
   "execution_count": 31,
   "id": "4ef4583c",
   "metadata": {
    "execution": {
     "iopub.execute_input": "2025-02-22T19:35:59.271073Z",
     "iopub.status.busy": "2025-02-22T19:35:59.270722Z",
     "iopub.status.idle": "2025-02-22T19:35:59.275439Z",
     "shell.execute_reply": "2025-02-22T19:35:59.274514Z"
    },
    "papermill": {
     "duration": 0.034129,
     "end_time": "2025-02-22T19:35:59.277070",
     "exception": false,
     "start_time": "2025-02-22T19:35:59.242941",
     "status": "completed"
    },
    "tags": []
   },
   "outputs": [],
   "source": [
    "parking_list = [\"2 Outdoor Stalls\", \"Add. Parking Avail.\", \"Additional Parking\", \"Assigned\",\n",
    "                \"Carport\", \"Carport & Garage\", \"Carport Double\", \"Carport Quad+\", \"Carport Triple\", \n",
    "                \"Carport; Multiple\", \"Carport; Single\", \"Multiple Driveways\", \"Parkade\", \"Parking Lot\", \n",
    "                \"Parking Pad\", \"Parking Pad Cement/Paved\", \"Parking Space(s)\", \"Parking Spaces\", \n",
    "                \"RV\", \"RV Access/Parking\", \"RV Gated\", \"RV Hookup\", \"RV Parking\", \"RV Parking Avail.\", \n",
    "                \"Shared Driveway\", \"Stall\", \"Tandem Parking\", \"Underground\", \"Underground Parking\", \n",
    "                \"Visitor Parking\"\n",
    "                ]\n",
    "\n",
    "parking_list = [f.lower() for f in parking_list]"
   ]
  },
  {
   "cell_type": "markdown",
   "id": "0289a30c",
   "metadata": {
    "papermill": {
     "duration": 0.02718,
     "end_time": "2025-02-22T19:35:59.331147",
     "exception": false,
     "start_time": "2025-02-22T19:35:59.303967",
     "status": "completed"
    },
    "tags": []
   },
   "source": [
    "We'll replace values in a Parking column to 'Yes' and \"No'"
   ]
  },
  {
   "cell_type": "code",
   "execution_count": 32,
   "id": "e46efc7d",
   "metadata": {
    "execution": {
     "iopub.execute_input": "2025-02-22T19:35:59.385865Z",
     "iopub.status.busy": "2025-02-22T19:35:59.385538Z",
     "iopub.status.idle": "2025-02-22T19:35:59.792661Z",
     "shell.execute_reply": "2025-02-22T19:35:59.791530Z"
    },
    "papermill": {
     "duration": 0.436879,
     "end_time": "2025-02-22T19:35:59.794907",
     "exception": false,
     "start_time": "2025-02-22T19:35:59.358028",
     "status": "completed"
    },
    "scrolled": true,
    "tags": []
   },
   "outputs": [
    {
     "data": {
      "text/plain": [
       "Parking new\n",
       "No     67834\n",
       "Yes    29977\n",
       "Name: count, dtype: int64"
      ]
     },
     "execution_count": 32,
     "metadata": {},
     "output_type": "execute_result"
    }
   ],
   "source": [
    "# first, copy the column\n",
    "df['Parking new'] = df['Parking']\n",
    "\n",
    "# if the column 'Parking' has one of the words from the parking_list, it will be replaced to 'Yes'\n",
    "df['Parking new'] = df['Parking new'].apply(lambda x: check_keywords(x, parking_list))\n",
    "\n",
    "# if the column 'Features' has one of the words from the parking_list, it will be replaced to 'Yes' in column 'Parking'\n",
    "df.loc[df['Parking new'] == 'No', 'Parking new'] = df.loc[df['Parking new']  == 'No', 'Features'].apply(lambda x: check_keywords(x, parking_list))\n",
    "\n",
    "df['Parking new'].value_counts()"
   ]
  },
  {
   "cell_type": "markdown",
   "id": "062f6b6e",
   "metadata": {
    "papermill": {
     "duration": 0.027011,
     "end_time": "2025-02-22T19:35:59.849155",
     "exception": false,
     "start_time": "2025-02-22T19:35:59.822144",
     "status": "completed"
    },
    "tags": []
   },
   "source": [
    "## Basement"
   ]
  },
  {
   "cell_type": "code",
   "execution_count": 33,
   "id": "03d6ed38",
   "metadata": {
    "execution": {
     "iopub.execute_input": "2025-02-22T19:35:59.905388Z",
     "iopub.status.busy": "2025-02-22T19:35:59.904934Z",
     "iopub.status.idle": "2025-02-22T19:35:59.918175Z",
     "shell.execute_reply": "2025-02-22T19:35:59.917069Z"
    },
    "papermill": {
     "duration": 0.043216,
     "end_time": "2025-02-22T19:35:59.919893",
     "exception": false,
     "start_time": "2025-02-22T19:35:59.876677",
     "status": "completed"
    },
    "tags": []
   },
   "outputs": [
    {
     "data": {
      "text/plain": [
       "Basement\n",
       "[]                                                      5502\n",
       "[\"Finished\", \"Full\"]                                    3293\n",
       "Finished, Full                                          3194\n",
       "Finished, N/A                                           2178\n",
       "[\"Unfinished\", \"Full\"]                                  1481\n",
       "                                                        ... \n",
       "[\"Crawl Space\", \"Finished\", \"Walk-Out Access\"]             1\n",
       "Not Full Height, Partially Finished, Walk-Out Access       1\n",
       "[\"Partial\", \"Unfinished\", \"Walk-Out Access\"]               1\n",
       "[\"With Windows\"]                                           1\n",
       "[\"Cellar\", \"Partial Basement\", \"Unfinished\"]               1\n",
       "Name: count, Length: 636, dtype: int64"
      ]
     },
     "execution_count": 33,
     "metadata": {},
     "output_type": "execute_result"
    }
   ],
   "source": [
    "df.Basement.value_counts()"
   ]
  },
  {
   "cell_type": "markdown",
   "id": "27bd2bc9",
   "metadata": {
    "papermill": {
     "duration": 0.027431,
     "end_time": "2025-02-22T19:35:59.974871",
     "exception": false,
     "start_time": "2025-02-22T19:35:59.947440",
     "status": "completed"
    },
    "tags": []
   },
   "source": [
    "Let's extract unique features and select related to 'Basement' values"
   ]
  },
  {
   "cell_type": "code",
   "execution_count": 34,
   "id": "7662a1a0",
   "metadata": {
    "execution": {
     "iopub.execute_input": "2025-02-22T19:36:00.032688Z",
     "iopub.status.busy": "2025-02-22T19:36:00.032293Z",
     "iopub.status.idle": "2025-02-22T19:36:00.096303Z",
     "shell.execute_reply": "2025-02-22T19:36:00.094856Z"
    },
    "papermill": {
     "duration": 0.094752,
     "end_time": "2025-02-22T19:36:00.098453",
     "exception": false,
     "start_time": "2025-02-22T19:36:00.003701",
     "status": "completed"
    },
    "tags": []
   },
   "outputs": [
    {
     "name": "stdout",
     "output_type": "stream",
     "text": [
      "38 {'Partial Basement', 'Slab', '', 'Full', 'Remodeled Basement', 'Separate/Exterior Entry', 'Fully Finished', 'Crawl space', 'Remodeled', 'No Basement', 'Finished', 'See Remarks', 'Walk-Out Access', 'Walk-Up To Grade', 'Other', 'Dugout', 'Unfinished', 'With Windows', 'Separate entrance', 'Walk out', 'Walkout', 'Crawl', 'Partially finished', 'Full Basement', 'N/A', 'Not Full Height', 'Not applicable', 'Apartment in basement', 'Crawl Space', 'Walk-up', 'Suite', 'Walk-Out To Grade', 'Partially Finished', 'Cellar', 'Not Applicable', 'Partial', 'None', 'Unknown'}\n"
     ]
    }
   ],
   "source": [
    "unique_basement_features = get_unique_values('Basement')\n",
    "print(len(unique_basement_features), unique_basement_features)"
   ]
  },
  {
   "cell_type": "markdown",
   "id": "13f53398",
   "metadata": {
    "papermill": {
     "duration": 0.027353,
     "end_time": "2025-02-22T19:36:00.153511",
     "exception": false,
     "start_time": "2025-02-22T19:36:00.126158",
     "status": "completed"
    },
    "tags": []
   },
   "source": [
    "#### Finished (These basements or spaces are completed or usable, often with features like exterior access or fully finished rooms.)\n",
    "- \"Full Basement\": A basement that spans the entire footprint of the house and is fully developed for use.\n",
    "- \"Full\": Another way to refer to a completely finished basement.\n",
    "- \"Dugout\": A basement or below-ground space that has been excavated (dug out) to provide additional space.\n",
    "- \"Fully Finished\": A basement that is 100% completed with flooring, walls, ceiling, and sometimes utilities.\n",
    "- \"Finished\": A general term for a basement that is move-in ready.\n",
    "- \"Remodeled Basement\": A basement that was previously unfinished or outdated but has been renovated.\n",
    "- \"Apartment in Basement\": A basement that has been converted into a separate living unit with amenities like a kitchen and bathroom.\n",
    "- \"Suite\": A finished basement space designed as a separate living area, often with its own entrance.\n",
    "- \"Walk-Out Access\": A basement with a door leading directly outside, typically to ground level.\n",
    "- \"Walk-Out To Grade\": Similar to \"Walk-Out Access,\" meaning the basement exits directly to ground level.\n",
    "- \"Walk-Up To Grade\": A basement that has a stairway leading up to ground level for external access.\n",
    "- \"Walk-Out / Walkout\": Another way to describe a basement that has an external door leading outside.\n",
    "- \"Walk-Up\": A basement with stairs leading to an outside entrance.\n",
    "- \"With Windows\": A basement that has windows, often allowing natural light and making it more livable.\n",
    "- \"Separate/Exterior Entry\": A basement that has a private entrance from outside, making it ideal for rental units or guest spaces.\n",
    "- \"Separate Entrance\": Similar to \"Separate/Exterior Entry,\" meaning the basement has independent access from outside.\n",
    "\n",
    "#### Partial (These basements or spaces are partially finished or incomplete.)\n",
    "- \"Partially Finished\" / \"Partially finished\": Some areas are finished, but others may be unfinished or under construction.\n",
    "- \"Partial\" / \"Partial Basement\": The basement is smaller than the home's full footprint or has limited finished space.\n",
    "- \"Not Full Height\": A basement that does not have standard ceiling height, making it less functional as a full living space.\n",
    "- \"Cellar\": An older term, often referring to basements used for storage, with lower ceilings and minimal finishing.\n",
    "\n",
    "#### No Basement (These properties either don't have basements or have limited, unusable spaces underneath.)\n",
    "- \"Unfinished\": A basement that exists but has no completed flooring, walls, or ceiling.\n",
    "- \"No Basement\": The property does not include a basement.\n",
    "- \"Slab\": The house is built directly on a concrete slab, with no basement underneath.\n",
    "- \"Crawl Space\" / \"Crawl\": A shallow space under the house, not intended for living but used for ventilation or storage.\n",
    "- \"None\": No basement or similar structure exists in the property.\n",
    "- \"N/A\": Not available or not provided.\n",
    "- \"Not Applicable\": The basement condition does not apply, possibly because there is no basement or it's an irrelevant listing."
   ]
  },
  {
   "cell_type": "code",
   "execution_count": 35,
   "id": "a3922aec",
   "metadata": {
    "execution": {
     "iopub.execute_input": "2025-02-22T19:36:00.208824Z",
     "iopub.status.busy": "2025-02-22T19:36:00.208484Z",
     "iopub.status.idle": "2025-02-22T19:36:00.213439Z",
     "shell.execute_reply": "2025-02-22T19:36:00.212483Z"
    },
    "papermill": {
     "duration": 0.034511,
     "end_time": "2025-02-22T19:36:00.215054",
     "exception": false,
     "start_time": "2025-02-22T19:36:00.180543",
     "status": "completed"
    },
    "tags": []
   },
   "outputs": [],
   "source": [
    "basement_types = {'Finished': ['full basement', 'full', 'dugout', 'fully finished', 'finished', 'remodeled basement', \n",
    "                               'apartment in basement', 'suite', 'walk-out access', 'walk-out to grade', 'walk-up to grade', \n",
    "                               'walk-out', 'walkout', 'walk-up', 'with windows', 'separate/exterior entry', 'separate entrance'], \n",
    "                  'Partial': ['partially finished', 'partial', 'partially finished', 'partial basement', \n",
    "                              'not full height', 'cellar'], \n",
    "                  'No basement': ['unfinished', 'no basement', 'slab', 'crawl space', 'crawl', 'none', \n",
    "                                  'not applicable', 'n/a']}"
   ]
  },
  {
   "cell_type": "code",
   "execution_count": 36,
   "id": "5d782496",
   "metadata": {
    "execution": {
     "iopub.execute_input": "2025-02-22T19:36:00.270745Z",
     "iopub.status.busy": "2025-02-22T19:36:00.270380Z",
     "iopub.status.idle": "2025-02-22T19:36:00.276554Z",
     "shell.execute_reply": "2025-02-22T19:36:00.275295Z"
    },
    "papermill": {
     "duration": 0.036267,
     "end_time": "2025-02-22T19:36:00.278475",
     "exception": false,
     "start_time": "2025-02-22T19:36:00.242208",
     "status": "completed"
    },
    "tags": []
   },
   "outputs": [],
   "source": [
    "def check_type(features, types):\n",
    "\n",
    "    try:\n",
    "        cleaned_features = features.replace(\"[\", \"\").replace(\"]\", \"\").replace('\"', '').replace(\"'\", \"\").replace(\";\", \",\")\n",
    "        list_to_check = [f.strip().lower() for f in cleaned_features.split(',')]\n",
    "\n",
    "        for basement_type, basement_type_list in types.items():\n",
    "            if set(list_to_check) & set(basement_type_list): \n",
    "                return basement_type\n",
    "        return np.nan\n",
    "\n",
    "    except AttributeError:\n",
    "        return np.nan"
   ]
  },
  {
   "cell_type": "code",
   "execution_count": 37,
   "id": "fcafef31",
   "metadata": {
    "execution": {
     "iopub.execute_input": "2025-02-22T19:36:00.336435Z",
     "iopub.status.busy": "2025-02-22T19:36:00.336087Z",
     "iopub.status.idle": "2025-02-22T19:36:00.504100Z",
     "shell.execute_reply": "2025-02-22T19:36:00.503056Z"
    },
    "papermill": {
     "duration": 0.19875,
     "end_time": "2025-02-22T19:36:00.505910",
     "exception": false,
     "start_time": "2025-02-22T19:36:00.307160",
     "status": "completed"
    },
    "tags": []
   },
   "outputs": [
    {
     "data": {
      "text/plain": [
       "Basement new\n",
       "Finished       30106\n",
       "No basement     5471\n",
       "Partial         2055\n",
       "Name: count, dtype: int64"
      ]
     },
     "execution_count": 37,
     "metadata": {},
     "output_type": "execute_result"
    }
   ],
   "source": [
    "df['Basement new'] = df['Basement']\n",
    "df['Basement new'] = df['Basement new'].apply(lambda x: check_type(x, basement_types))\n",
    "df['Basement new'].value_counts()"
   ]
  },
  {
   "cell_type": "markdown",
   "id": "9ac1d2e1",
   "metadata": {
    "papermill": {
     "duration": 0.0275,
     "end_time": "2025-02-22T19:36:00.561107",
     "exception": false,
     "start_time": "2025-02-22T19:36:00.533607",
     "status": "completed"
    },
    "tags": []
   },
   "source": [
    "## Exterior"
   ]
  },
  {
   "cell_type": "code",
   "execution_count": 38,
   "id": "5d1e2bc5",
   "metadata": {
    "execution": {
     "iopub.execute_input": "2025-02-22T19:36:00.619724Z",
     "iopub.status.busy": "2025-02-22T19:36:00.619368Z",
     "iopub.status.idle": "2025-02-22T19:36:00.635099Z",
     "shell.execute_reply": "2025-02-22T19:36:00.634094Z"
    },
    "papermill": {
     "duration": 0.046086,
     "end_time": "2025-02-22T19:36:00.637116",
     "exception": false,
     "start_time": "2025-02-22T19:36:00.591030",
     "status": "completed"
    },
    "tags": []
   },
   "outputs": [
    {
     "data": {
      "text/plain": [
       "Exterior\n",
       "[]           9829\n",
       "Brick        7340\n",
       "[\"Brick\"]    3220\n",
       "[\"Vinyl\"]    3017\n",
       "Concrete     2920\n",
       "Name: count, dtype: int64"
      ]
     },
     "execution_count": 38,
     "metadata": {},
     "output_type": "execute_result"
    }
   ],
   "source": [
    "df.Exterior.value_counts().head()"
   ]
  },
  {
   "cell_type": "code",
   "execution_count": 39,
   "id": "f9a93416",
   "metadata": {
    "execution": {
     "iopub.execute_input": "2025-02-22T19:36:00.693596Z",
     "iopub.status.busy": "2025-02-22T19:36:00.693118Z",
     "iopub.status.idle": "2025-02-22T19:36:00.790748Z",
     "shell.execute_reply": "2025-02-22T19:36:00.789552Z"
    },
    "papermill": {
     "duration": 0.127623,
     "end_time": "2025-02-22T19:36:00.792704",
     "exception": false,
     "start_time": "2025-02-22T19:36:00.665081",
     "status": "completed"
    },
    "tags": []
   },
   "outputs": [
    {
     "name": "stdout",
     "output_type": "stream",
     "text": [
      "140 {'', 'Stream/Pond', 'Lighting', 'Boat Slip', 'Park/Reserve', 'Public Swimming Pool', 'Rock imitation', 'Golf Nearby', 'Water Feature', 'Flat Site', 'Concrete', 'Playground Nearby', 'Garden', 'Concrete/Stucco', 'Security System', 'Corner Lot', 'Aluminum/Vinyl', 'Colour Loc', 'Fenced', 'Cul-De-Sac', 'Rock Imitation', 'Asbestos', 'River View', 'Electric Grill', 'None', 'Outdoor Shower', 'Fencing: Partial', 'View Downtown', 'Wood siding', 'Balcony/Patio', 'Private Setting', 'Aluminum siding', 'Gated Community', 'RV Hookup', 'Steel', 'Shopping Nearby', 'Playground', 'Shingles', 'BBQ gas line', 'Level Land', 'Brick Imitation', 'View City', 'Sloping Lot', 'Cedar', 'Picnic Area', 'Wood Siding', 'Paved Lane', 'Gas Grill', 'Permeable Paving', 'Concrete Block', 'Concrete Siding', 'Asphalt', 'Brick', 'Low Maintenance Landscape', 'Ski Hill Nearby', 'Schools', 'Landscaped', 'Private Yard', 'Covered Courtyard', 'Built-in Barbecue', 'Partially Landscaped', 'Subdividable Lot', 'Dock', 'Lake Access Property', 'Wood shingles', 'Treed Lot', 'Insul Brick', 'Composite Siding', 'Tennis Court(s)', 'Kennel', 'Private Fishing', 'Environmental Reserve', 'Brick imitation', 'Barbecue', 'Ravine View', 'Lake View', 'View Lake', 'Private Entrance', 'Uncovered Courtyard', 'Vinyl siding', 'Cross Fenced', 'Street Lighting', 'Hillside', 'Rain Barrel/Cistern(s)', 'Other', 'See Remarks', 'Brick Veneer', 'Fencing: Full', 'Fruit Trees/Shrubs', 'No Through Road', 'Metal', 'Private Park Access', 'Waterfront Property', 'Sprinkler System', 'Outdoor Grill', 'Courtyard', 'Not Fenced', 'Balcony/Deck', 'Awning(s)', 'Commercial', 'River Valley View', 'Basketball Court', 'Misting System', 'Not Landscaped', 'Public Transportation', 'Rain Gutters', 'Masonite', 'Swimming Pool', 'Creek', 'Siding', 'Outdoor Kitchen', 'Backs Onto Lake', 'Aluminum', 'Cedar shingles', 'Vegetable Garden', 'Low Maintenance Yard', 'Boating', 'Rolling Land', 'Partially Fenced', 'Rail Services Nearby', 'Recreation Use', 'Balcony', 'Brick Facing', 'Fire Pit', 'Stucco', 'Airport Nearby', 'Wood', 'Backs Onto Park/Trees', 'Gray Water System', 'Beach Access', 'Stone', 'Back Lane', 'Vinyl', 'Wheelchair Access', 'No Back Lane', 'Log', 'Hardboard', 'Storage', 'Dog Run', 'Cedar Siding'}\n"
     ]
    }
   ],
   "source": [
    "unique_exterior_features = get_unique_values('Exterior')   \n",
    "print(len(unique_exterior_features), unique_exterior_features)"
   ]
  },
  {
   "cell_type": "code",
   "execution_count": 40,
   "id": "f286572d",
   "metadata": {
    "execution": {
     "iopub.execute_input": "2025-02-22T19:36:00.856343Z",
     "iopub.status.busy": "2025-02-22T19:36:00.855937Z",
     "iopub.status.idle": "2025-02-22T19:36:00.860957Z",
     "shell.execute_reply": "2025-02-22T19:36:00.859874Z"
    },
    "papermill": {
     "duration": 0.041661,
     "end_time": "2025-02-22T19:36:00.862752",
     "exception": false,
     "start_time": "2025-02-22T19:36:00.821091",
     "status": "completed"
    },
    "tags": []
   },
   "outputs": [],
   "source": [
    "exterior_materials = {\n",
    "    'Metal': ['aluminum', 'aluminum siding', 'aluminum/vinyl', 'colour loc', 'metal', 'steel'],\n",
    "    'Brick': ['brick', 'brick facing', 'brick imitation', 'brick veneer'],\n",
    "    'Concrete': ['concrete', 'concrete siding', 'concrete/stucco', 'concrete block', 'insul brick', 'stucco'],\n",
    "    'Wood': ['cedar', 'cedar shingles', 'cedar siding', 'wood', 'wood siding', 'wood shingles', 'wood shingles', 'wood siding'],\n",
    "    'Composite': ['composite siding', 'hardboard', 'masonite', 'shingles'],\n",
    "    'Vinyl': ['vinyl', 'vinyl siding', 'asbestos', 'siding']\n",
    "}"
   ]
  },
  {
   "cell_type": "code",
   "execution_count": 41,
   "id": "d8bbbfc5",
   "metadata": {
    "execution": {
     "iopub.execute_input": "2025-02-22T19:36:00.920725Z",
     "iopub.status.busy": "2025-02-22T19:36:00.920319Z",
     "iopub.status.idle": "2025-02-22T19:36:01.216631Z",
     "shell.execute_reply": "2025-02-22T19:36:01.215559Z"
    },
    "papermill": {
     "duration": 0.328128,
     "end_time": "2025-02-22T19:36:01.218494",
     "exception": false,
     "start_time": "2025-02-22T19:36:00.890366",
     "status": "completed"
    },
    "tags": []
   },
   "outputs": [
    {
     "data": {
      "text/plain": [
       "Exterior new\n",
       "Brick        20344\n",
       "Vinyl        10806\n",
       "Concrete      7639\n",
       "Metal         3561\n",
       "Wood          2940\n",
       "Composite      784\n",
       "Name: count, dtype: int64"
      ]
     },
     "execution_count": 41,
     "metadata": {},
     "output_type": "execute_result"
    }
   ],
   "source": [
    "df['Exterior new'] = df['Exterior']\n",
    "df['Exterior new'] = df['Exterior new'].apply(lambda x: check_type(x, exterior_materials))\n",
    "df['Exterior new'].value_counts()"
   ]
  },
  {
   "cell_type": "markdown",
   "id": "de457755",
   "metadata": {
    "papermill": {
     "duration": 0.027186,
     "end_time": "2025-02-22T19:36:01.273533",
     "exception": false,
     "start_time": "2025-02-22T19:36:01.246347",
     "status": "completed"
    },
    "tags": []
   },
   "source": [
    "## Fireplace"
   ]
  },
  {
   "cell_type": "code",
   "execution_count": 42,
   "id": "e8974046",
   "metadata": {
    "execution": {
     "iopub.execute_input": "2025-02-22T19:36:01.331189Z",
     "iopub.status.busy": "2025-02-22T19:36:01.330783Z",
     "iopub.status.idle": "2025-02-22T19:36:01.345692Z",
     "shell.execute_reply": "2025-02-22T19:36:01.344334Z"
    },
    "papermill": {
     "duration": 0.045872,
     "end_time": "2025-02-22T19:36:01.347473",
     "exception": false,
     "start_time": "2025-02-22T19:36:01.301601",
     "status": "completed"
    },
    "tags": []
   },
   "outputs": [
    {
     "name": "stdout",
     "output_type": "stream",
     "text": [
      "97811\n"
     ]
    },
    {
     "data": {
      "text/plain": [
       "Fireplace\n",
       "[]         21932\n",
       "Yes        19967\n",
       "1           3291\n",
       "[\"1\"]       2717\n",
       "0           1454\n",
       "[\"2\"]       1256\n",
       "[\"0\"]       1171\n",
       "2           1102\n",
       "Gas         1014\n",
       "[\"Gas\"]      894\n",
       "Name: count, dtype: int64"
      ]
     },
     "execution_count": 42,
     "metadata": {},
     "output_type": "execute_result"
    }
   ],
   "source": [
    "print(df.Fireplace.shape[0]) \n",
    "df.Fireplace.value_counts()[:10]"
   ]
  },
  {
   "cell_type": "markdown",
   "id": "56ceb071",
   "metadata": {
    "papermill": {
     "duration": 0.030647,
     "end_time": "2025-02-22T19:36:01.409697",
     "exception": false,
     "start_time": "2025-02-22T19:36:01.379050",
     "status": "completed"
    },
    "tags": []
   },
   "source": [
    "Column 'Fireplace' contain information in different appearence. Let's reduce it ot 'Yes' and 'No'. Also we need to get information from the column 'Fireplace Features'."
   ]
  },
  {
   "cell_type": "code",
   "execution_count": 43,
   "id": "3bde006a",
   "metadata": {
    "execution": {
     "iopub.execute_input": "2025-02-22T19:36:01.467719Z",
     "iopub.status.busy": "2025-02-22T19:36:01.467081Z",
     "iopub.status.idle": "2025-02-22T19:36:01.497494Z",
     "shell.execute_reply": "2025-02-22T19:36:01.496341Z"
    },
    "papermill": {
     "duration": 0.061523,
     "end_time": "2025-02-22T19:36:01.499455",
     "exception": false,
     "start_time": "2025-02-22T19:36:01.437932",
     "status": "completed"
    },
    "tags": []
   },
   "outputs": [],
   "source": [
    "df['Fireplace new'] = df['Fireplace']\n",
    "\n",
    "df.loc[df['Fireplace new'].isin(['0', '[]','[\"0\"]']), 'Fireplace new'] = np.nan\n",
    "df.loc[df['Fireplace new'].notna(), 'Fireplace new'] = 'Yes'\n",
    "df.loc[~df['Fireplace new'].notna(), 'Fireplace new'] = 'No'\n"
   ]
  },
  {
   "cell_type": "code",
   "execution_count": 44,
   "id": "f8084f49",
   "metadata": {
    "execution": {
     "iopub.execute_input": "2025-02-22T19:36:01.557158Z",
     "iopub.status.busy": "2025-02-22T19:36:01.556727Z",
     "iopub.status.idle": "2025-02-22T19:36:01.570356Z",
     "shell.execute_reply": "2025-02-22T19:36:01.569227Z"
    },
    "papermill": {
     "duration": 0.045003,
     "end_time": "2025-02-22T19:36:01.572339",
     "exception": false,
     "start_time": "2025-02-22T19:36:01.527336",
     "status": "completed"
    },
    "tags": []
   },
   "outputs": [
    {
     "data": {
      "text/plain": [
       "Fireplace new\n",
       "No     63356\n",
       "Yes    34455\n",
       "Name: count, dtype: int64"
      ]
     },
     "execution_count": 44,
     "metadata": {},
     "output_type": "execute_result"
    }
   ],
   "source": [
    "df['Fireplace new'].value_counts()"
   ]
  },
  {
   "cell_type": "markdown",
   "id": "31d3c246",
   "metadata": {
    "papermill": {
     "duration": 0.027497,
     "end_time": "2025-02-22T19:36:01.630914",
     "exception": false,
     "start_time": "2025-02-22T19:36:01.603417",
     "status": "completed"
    },
    "tags": []
   },
   "source": [
    "# Heating"
   ]
  },
  {
   "cell_type": "code",
   "execution_count": 45,
   "id": "259a9232",
   "metadata": {
    "execution": {
     "iopub.execute_input": "2025-02-22T19:36:01.688014Z",
     "iopub.status.busy": "2025-02-22T19:36:01.687582Z",
     "iopub.status.idle": "2025-02-22T19:36:01.698612Z",
     "shell.execute_reply": "2025-02-22T19:36:01.697502Z"
    },
    "papermill": {
     "duration": 0.041608,
     "end_time": "2025-02-22T19:36:01.700424",
     "exception": false,
     "start_time": "2025-02-22T19:36:01.658816",
     "status": "completed"
    },
    "tags": []
   },
   "outputs": [
    {
     "data": {
      "text/plain": [
       "(2642,)"
      ]
     },
     "execution_count": 45,
     "metadata": {},
     "output_type": "execute_result"
    }
   ],
   "source": [
    "df.Heating.unique().shape"
   ]
  },
  {
   "cell_type": "code",
   "execution_count": 46,
   "id": "e9cfb98c",
   "metadata": {
    "execution": {
     "iopub.execute_input": "2025-02-22T19:36:01.758461Z",
     "iopub.status.busy": "2025-02-22T19:36:01.757921Z",
     "iopub.status.idle": "2025-02-22T19:36:01.872681Z",
     "shell.execute_reply": "2025-02-22T19:36:01.871491Z"
    },
    "papermill": {
     "duration": 0.145436,
     "end_time": "2025-02-22T19:36:01.874311",
     "exception": false,
     "start_time": "2025-02-22T19:36:01.728875",
     "status": "completed"
    },
    "tags": []
   },
   "outputs": [
    {
     "name": "stdout",
     "output_type": "stream",
     "text": [
      "85 {'', 'Fireplace(s)', 'Outside Furnace', 'Steam', 'Air Conditioning', 'Not known', 'Radiant Floor', 'Separate Water Heaters', 'Electric', 'Floor heat', 'Fireplace Insert', 'Zoned', 'Forced air', 'Forced Air-2', 'Furnace', 'Ceiling', 'Radiator', 'Coal Stove', 'None', 'Geo Thermal', 'See remarks', 'No heat', 'Natural Gas', 'Pellet Stove', 'Coal', 'Radiant Heat', 'Wall Mounted Heat Pump', 'Make-up Air', 'In Floor', 'High Efficiency', 'Overhead Heaters', 'Stove', 'Baseboard', 'Ductless', 'Boiler', 'Wall Furnace', 'Radiant/Infra-red Heat', 'Forced Air-1', 'Water', 'Radiant', 'Gravity', 'In Floor Heating', 'Oil', 'In Floor Heat System', 'Humidity Control', 'Forced Air', 'Other', 'Central heating', 'See Remarks', 'Mixed', 'Floor Furnace', 'Geothermal', 'Exhaust Fan', 'Baseboard heaters', 'Propane', 'Mid  Efficiency', 'Heat Recovery Ventilation (HRV)', 'Gravity Heat System', 'Hot water radiator heat', 'Pellet', 'Propane Gas', 'Solar', 'Space Heater', 'Central', 'Heat Pump', 'Sep. HVAC Units', 'Natural gas', 'Standard', 'Radiant heat', 'Floor Model Furnace', 'ENERGY STAR Qualified Equipment', 'Space Heaters', 'Wood', 'Fan Coil', 'Overhead Unit Heater', 'Electric baseboard units', 'Central Heat Pump', 'High-Efficiency Furnace', 'Hot Water', 'In Floor Roughed-In', 'Heat Recovery', 'Combination', 'Radiant Ceiling', 'Wood Stove', 'Steam radiator'}\n"
     ]
    }
   ],
   "source": [
    "unique_heating_features = get_unique_values('Heating')\n",
    "print(len(unique_heating_features), unique_heating_features)"
   ]
  },
  {
   "cell_type": "markdown",
   "id": "de92c9d1",
   "metadata": {
    "papermill": {
     "duration": 0.02889,
     "end_time": "2025-02-22T19:36:01.931513",
     "exception": false,
     "start_time": "2025-02-22T19:36:01.902623",
     "status": "completed"
    },
    "tags": []
   },
   "source": [
    "Let's divide them in categories:"
   ]
  },
  {
   "cell_type": "code",
   "execution_count": 47,
   "id": "93b3deba",
   "metadata": {
    "execution": {
     "iopub.execute_input": "2025-02-22T19:36:01.989076Z",
     "iopub.status.busy": "2025-02-22T19:36:01.988710Z",
     "iopub.status.idle": "2025-02-22T19:36:01.994588Z",
     "shell.execute_reply": "2025-02-22T19:36:01.993607Z"
    },
    "papermill": {
     "duration": 0.036877,
     "end_time": "2025-02-22T19:36:01.996437",
     "exception": false,
     "start_time": "2025-02-22T19:36:01.959560",
     "status": "completed"
    },
    "tags": []
   },
   "outputs": [],
   "source": [
    "heating_categories = {\n",
    "    'forced air': ['forced air', 'forced air-1', 'forced air-2', 'furnace'],\n",
    "    'boiler': ['boiler', 'hot water', 'hot water radiator heat', 'steam', 'steam radiator'],\n",
    "    'heat pump': ['central heat pump', 'heat pump', 'wall mounted heat pump'],\n",
    "    'radiant': ['radiant', 'radiant heat', 'radiant ceiling', 'radiant floor', \n",
    "                'radiant/infra-red heat', 'baseboard', 'baseboard heaters', 'electric baseboard units'],\n",
    "    'fireplace': ['fireplace(s)', 'fireplace insert', 'wood stove', 'pellet stove', 'coal stove', 'stove'],\n",
    "    'space heat': ['space heater', 'space heaters', 'wall furnace', 'floor furnace', \n",
    "                   'floor model furnace', 'overhead heaters', 'overhead unit heater', 'ductless'],\n",
    "    'alt heat': ['geo thermal', 'geothermal', 'solar', 'gravity', 'gravity heat system', \n",
    "                 'oil', 'propane', 'propane gas', 'coal'],\n",
    "    'no heat': ['no heat', 'none'],  # only contains no heat options\n",
    "    'other': ['mixed', 'combination', 'sep. hvac units'],  # these suggest non-specific or mixed systems\n",
    "}"
   ]
  },
  {
   "cell_type": "code",
   "execution_count": 48,
   "id": "45ed5718",
   "metadata": {
    "execution": {
     "iopub.execute_input": "2025-02-22T19:36:02.058959Z",
     "iopub.status.busy": "2025-02-22T19:36:02.058625Z",
     "iopub.status.idle": "2025-02-22T19:36:02.317585Z",
     "shell.execute_reply": "2025-02-22T19:36:02.316083Z"
    },
    "papermill": {
     "duration": 0.292326,
     "end_time": "2025-02-22T19:36:02.319941",
     "exception": false,
     "start_time": "2025-02-22T19:36:02.027615",
     "status": "completed"
    },
    "tags": []
   },
   "outputs": [
    {
     "data": {
      "text/plain": [
       "Heating new\n",
       "forced air    53347\n",
       "radiant       12053\n",
       "heat pump      5606\n",
       "boiler         3924\n",
       "alt heat        529\n",
       "fireplace       238\n",
       "no heat          76\n",
       "space heat       74\n",
       "other            64\n",
       "Name: count, dtype: int64"
      ]
     },
     "execution_count": 48,
     "metadata": {},
     "output_type": "execute_result"
    }
   ],
   "source": [
    "df['Heating new'] = df['Heating']\n",
    "df['Heating new'] = df['Heating new'].apply(lambda x: check_type(x, heating_categories))\n",
    "\n",
    "df['Heating new'] .value_counts()"
   ]
  },
  {
   "cell_type": "markdown",
   "id": "59a4b28b",
   "metadata": {
    "papermill": {
     "duration": 0.030469,
     "end_time": "2025-02-22T19:36:02.378745",
     "exception": false,
     "start_time": "2025-02-22T19:36:02.348276",
     "status": "completed"
    },
    "tags": []
   },
   "source": [
    "# Flooring"
   ]
  },
  {
   "cell_type": "code",
   "execution_count": 49,
   "id": "d835c873",
   "metadata": {
    "execution": {
     "iopub.execute_input": "2025-02-22T19:36:02.443926Z",
     "iopub.status.busy": "2025-02-22T19:36:02.443527Z",
     "iopub.status.idle": "2025-02-22T19:36:02.461251Z",
     "shell.execute_reply": "2025-02-22T19:36:02.460070Z"
    },
    "papermill": {
     "duration": 0.053474,
     "end_time": "2025-02-22T19:36:02.463479",
     "exception": false,
     "start_time": "2025-02-22T19:36:02.410005",
     "status": "completed"
    },
    "tags": []
   },
   "outputs": [
    {
     "data": {
      "text/plain": [
       "Flooring\n",
       "[]                                                                   21368\n",
       "Laminate                                                              2292\n",
       "Hardwood                                                              1905\n",
       "[\"Laminate\"]                                                          1225\n",
       "[\"Hardwood\"]                                                           719\n",
       "                                                                     ...  \n",
       "[\"Hardwood\", \"Laminate\", \"Carpeted\", \"Other\", \"Wood\"]                    1\n",
       "[\"Hardwood\", \"Laminate\", \"Carpeted\", \"Linoleum\", \"Vinyl\", \"Cork\"]        1\n",
       "[\"Hardwood\", \"Laminate\", \"Ceramic Tile\", \"Cork\"]                         1\n",
       "[\"Tile\", \"Carpeted\", \"Ceramic\", \"Linoleum\", \"Wood\"]                      1\n",
       "[\"Laminate\", \"Tile\", \"Vinyl\", \"Wood\"]                                    1\n",
       "Name: count, Length: 2105, dtype: int64"
      ]
     },
     "execution_count": 49,
     "metadata": {},
     "output_type": "execute_result"
    }
   ],
   "source": [
    "df.Flooring.value_counts()"
   ]
  },
  {
   "cell_type": "code",
   "execution_count": 50,
   "id": "636f9f43",
   "metadata": {
    "execution": {
     "iopub.execute_input": "2025-02-22T19:36:02.524425Z",
     "iopub.status.busy": "2025-02-22T19:36:02.524054Z",
     "iopub.status.idle": "2025-02-22T19:36:02.605014Z",
     "shell.execute_reply": "2025-02-22T19:36:02.602795Z"
    },
    "papermill": {
     "duration": 0.113449,
     "end_time": "2025-02-22T19:36:02.607230",
     "exception": false,
     "start_time": "2025-02-22T19:36:02.493781",
     "status": "completed"
    },
    "tags": []
   },
   "outputs": [
    {
     "name": "stdout",
     "output_type": "stream",
     "text": [
      "42 {'', 'Carpet Over Softwood', 'Carpeted', 'Granite', 'Porcelain Tile', 'Softwood', 'Cushion/Lino/Vinyl', 'Non-Ceramic Tile', 'Concrete', 'Wall-to-wall carpet', 'Hardwood', 'Heavy loading', 'Bamboo', 'Slate', 'Laminate', 'Other', 'See Remarks', 'Ceramic/Porcelain', 'Concrete Slab', 'Cork', 'Ceramic', 'Tile', 'Laminate Flooring', 'Mixed', 'Wood', 'Engineered hardwood', 'Carpet over Hardwood', 'Mixed Flooring', 'Stone', 'Linoleum', 'Vinyl', 'Marble', 'Basement Sub-Floor', 'Parquet', 'Basement Slab', 'Vinyl Plank', 'Cork Flooring', 'Wall to Wall Carpet', 'Engineered Wood', 'Subfloor', 'Carpet', 'Ceramic Tile'}\n"
     ]
    }
   ],
   "source": [
    "unique_flooring_features = get_unique_values('Flooring')\n",
    "print(len(unique_flooring_features), unique_flooring_features)"
   ]
  },
  {
   "cell_type": "markdown",
   "id": "2c0034b7",
   "metadata": {
    "papermill": {
     "duration": 0.028781,
     "end_time": "2025-02-22T19:36:02.666495",
     "exception": false,
     "start_time": "2025-02-22T19:36:02.637714",
     "status": "completed"
    },
    "tags": []
   },
   "source": [
    "Let's divide into next categories:\n",
    "- Carpet: Includes all variations of carpet.\n",
    "- Wood: Includes bamboo, engineered wood, hardwood, etc.\n",
    "- Tile: Covers ceramic, porcelain, slate, and other types of tiles.\n",
    "- Vinyl: Includes all vinyl-based flooring types.\n",
    "- Laminate: Groups laminate and laminate flooring.\n",
    "- Concrete: Includes concrete and concrete slabs.\n",
    "- Other: For flooring types that are not easily categorized (like marble, granite, subfloor, etc.)."
   ]
  },
  {
   "cell_type": "code",
   "execution_count": 51,
   "id": "3b99ffe8",
   "metadata": {
    "execution": {
     "iopub.execute_input": "2025-02-22T19:36:02.727858Z",
     "iopub.status.busy": "2025-02-22T19:36:02.727468Z",
     "iopub.status.idle": "2025-02-22T19:36:02.732770Z",
     "shell.execute_reply": "2025-02-22T19:36:02.731813Z"
    },
    "papermill": {
     "duration": 0.038143,
     "end_time": "2025-02-22T19:36:02.734573",
     "exception": false,
     "start_time": "2025-02-22T19:36:02.696430",
     "status": "completed"
    },
    "tags": []
   },
   "outputs": [],
   "source": [
    "flooring_categories = {\n",
    "    'carpet': ['carpet', 'carpet over softwood', 'carpet over hardwood', 'carpeted', 'wall to wall carpet', \n",
    "               'wall-to-wall carpet'],\n",
    "    'wood': ['bamboo', 'engineered wood', 'engineered hardwood', 'hardwood', 'parquet', 'softwood', 'wood'],\n",
    "    'tile': ['ceramic', 'ceramic tile', 'ceramic/porcelain', 'porcelain tile', 'non-ceramic tile', 'slate', \n",
    "             'stone', 'tile'],\n",
    "    'vinyl': ['cushion/lino/vinyl', 'vinyl', 'vinyl plank'],\n",
    "    'laminate': ['laminate', 'laminate flooring'],\n",
    "    'concrete': ['concrete', 'concrete slab'],\n",
    "    'other': ['basement slab', 'basement sub-floor', 'granite', 'heavy loading', 'linoleum', 'marble', 'mixed', \n",
    "              'mixed flooring', 'see remarks', 'subfloor', 'other']\n",
    "}"
   ]
  },
  {
   "cell_type": "code",
   "execution_count": 52,
   "id": "9b5e51a7",
   "metadata": {
    "execution": {
     "iopub.execute_input": "2025-02-22T19:36:02.795348Z",
     "iopub.status.busy": "2025-02-22T19:36:02.794922Z",
     "iopub.status.idle": "2025-02-22T19:36:03.035589Z",
     "shell.execute_reply": "2025-02-22T19:36:03.034539Z"
    },
    "papermill": {
     "duration": 0.273287,
     "end_time": "2025-02-22T19:36:03.037205",
     "exception": false,
     "start_time": "2025-02-22T19:36:02.763918",
     "status": "completed"
    },
    "tags": []
   },
   "outputs": [
    {
     "data": {
      "text/plain": [
       "Flooring new\n",
       "carpet      12529\n",
       "wood        10973\n",
       "laminate     4223\n",
       "tile         4071\n",
       "vinyl        2197\n",
       "other        1009\n",
       "concrete       86\n",
       "Name: count, dtype: int64"
      ]
     },
     "execution_count": 52,
     "metadata": {},
     "output_type": "execute_result"
    }
   ],
   "source": [
    "df['Flooring new'] = df['Flooring']\n",
    "df['Flooring new'] = df['Flooring new'].apply(lambda x: check_type(x, flooring_categories))\n",
    "\n",
    "df['Flooring new'].value_counts()"
   ]
  },
  {
   "cell_type": "markdown",
   "id": "c3a94d2d",
   "metadata": {
    "papermill": {
     "duration": 0.02867,
     "end_time": "2025-02-22T19:36:03.095015",
     "exception": false,
     "start_time": "2025-02-22T19:36:03.066345",
     "status": "completed"
    },
    "tags": []
   },
   "source": [
    "# Roof"
   ]
  },
  {
   "cell_type": "code",
   "execution_count": 53,
   "id": "14748f1f",
   "metadata": {
    "execution": {
     "iopub.execute_input": "2025-02-22T19:36:03.154568Z",
     "iopub.status.busy": "2025-02-22T19:36:03.154206Z",
     "iopub.status.idle": "2025-02-22T19:36:03.166670Z",
     "shell.execute_reply": "2025-02-22T19:36:03.165780Z"
    },
    "papermill": {
     "duration": 0.043479,
     "end_time": "2025-02-22T19:36:03.168113",
     "exception": false,
     "start_time": "2025-02-22T19:36:03.124634",
     "status": "completed"
    },
    "tags": []
   },
   "outputs": [
    {
     "data": {
      "text/plain": [
       "Roof\n",
       "[]                                          23661\n",
       "Asphalt Shingles                             3534\n",
       "[\"Asphalt Shingle\"]                          2916\n",
       "[\"Asphalt Shingles\"]                         2907\n",
       "Asphalt Shingle                              2486\n",
       "                                            ...  \n",
       "[\"Vinyl\", \"Membrane\", \"Mixed\", \"Rubber\"]        1\n",
       "Flat, Rubber                                    1\n",
       "Flat Torch Membrane, Shingle                    1\n",
       "[\"Asphalt\", \"Vinyl\", \"Wood\"]                    1\n",
       "[\"Asphalt Shingles\", \"Tar & Gravel\"]            1\n",
       "Name: count, Length: 247, dtype: int64"
      ]
     },
     "execution_count": 53,
     "metadata": {},
     "output_type": "execute_result"
    }
   ],
   "source": [
    "df.Roof.value_counts()"
   ]
  },
  {
   "cell_type": "code",
   "execution_count": 54,
   "id": "d5616f36",
   "metadata": {
    "execution": {
     "iopub.execute_input": "2025-02-22T19:36:03.226507Z",
     "iopub.status.busy": "2025-02-22T19:36:03.226090Z",
     "iopub.status.idle": "2025-02-22T19:36:03.272687Z",
     "shell.execute_reply": "2025-02-22T19:36:03.271570Z"
    },
    "papermill": {
     "duration": 0.077799,
     "end_time": "2025-02-22T19:36:03.274571",
     "exception": false,
     "start_time": "2025-02-22T19:36:03.196772",
     "status": "completed"
    },
    "tags": []
   },
   "outputs": [
    {
     "name": "stdout",
     "output_type": "stream",
     "text": [
      "51 {'', 'Cedar Shakes', 'Shingle', 'Asphalt Shingle', 'Cedar shake', 'Wood Shingles', 'Fiberglass', 'Asphalt/Gravel', 'Flat Torch Membrane', 'Fibreglass Shingle', 'Asphalt Torch On', 'Tar &amp; Gravel', 'Tar/Gravel', 'Steel', 'Pine Shake', 'Asphalt & Gravel', 'Concrete', 'Slate', 'Tar & gravel', 'Fiberglass Shingles', 'Other', 'See Remarks', 'SBS Roofing System', 'Vinyl Shingles', 'Metal', 'Clay Tile', 'Tin', 'Rolled/Hot Mop', 'Metal Shingles', 'Roll Roofing', 'Tile', 'Conventional', 'Mixed', 'Wood', 'Asphalt', 'Tar & Gravel', 'Asphalt shingle', 'Flat', 'Asphalt Shingles', 'Wood Shingle', 'Cedar Shake', 'Vinyl', 'Rubber', 'Pine Shakes', 'Shake', 'None', 'EPDM Membrane', 'Membrane', 'Asphalt Rolled', 'Concrete Tiles', 'Unknown'}\n"
     ]
    }
   ],
   "source": [
    "unique_roof_features = get_unique_values('Roof')\n",
    "print(len(unique_roof_features), unique_roof_features)"
   ]
  },
  {
   "cell_type": "markdown",
   "id": "17188d3a",
   "metadata": {
    "papermill": {
     "duration": 0.028756,
     "end_time": "2025-02-22T19:36:03.333712",
     "exception": false,
     "start_time": "2025-02-22T19:36:03.304956",
     "status": "completed"
    },
    "tags": []
   },
   "source": [
    "Categories:\n",
    "- Asphalt: Includes all types of asphalt and asphalt shingles.\n",
    "- Cedar Shake: Includes cedar shake and shakes.\n",
    "- Clay: For clay tiles.\n",
    "- Concrete: Covers concrete and concrete tiles.\n",
    "- Fiberglass: Includes fiberglass and fiberglass shingles.\n",
    "- Flat: Includes flat roofing, EPDM, membrane, and flat torch membrane types.\n",
    "- Metal: Covers metal, metal shingles, steel, and tin.\n",
    "- Pine Shake: Includes pine shake and shakes.\n",
    "- Rubber: For rubber roofing.\n",
    "- SBS: For SBS roofing system.\n",
    "- Shake: Covers shake roofing.\n",
    "- Shingle: Includes regular shingles and vinyl shingles.\n",
    "- Slate: For slate roofing.\n",
    "- Tar: Includes various types of tar and gravel roofing.\n",
    "- Tile: For tile roofing.\n",
    "- Wood: Covers wood shingles and wood shake.\n",
    "- Other: For unconventional or mixed roofing, or cases where the material is unclear (like 'conventional', 'other', 'mixed')."
   ]
  },
  {
   "cell_type": "code",
   "execution_count": 55,
   "id": "ea9b0856",
   "metadata": {
    "execution": {
     "iopub.execute_input": "2025-02-22T19:36:03.393473Z",
     "iopub.status.busy": "2025-02-22T19:36:03.393103Z",
     "iopub.status.idle": "2025-02-22T19:36:03.399531Z",
     "shell.execute_reply": "2025-02-22T19:36:03.398242Z"
    },
    "papermill": {
     "duration": 0.038327,
     "end_time": "2025-02-22T19:36:03.401506",
     "exception": false,
     "start_time": "2025-02-22T19:36:03.363179",
     "status": "completed"
    },
    "tags": []
   },
   "outputs": [],
   "source": [
    "roofing_categories = {\n",
    "    'asphalt': ['asphalt', 'asphalt & gravel', 'asphalt rolled', 'asphalt shingle', 'asphalt shingles', 'asphalt torch on', 'asphalt shingle', 'asphalt/gravel'],\n",
    "    'cedar shake': ['cedar shake', 'cedar shakes'],\n",
    "    'clay': ['clay tile'],\n",
    "    'concrete': ['concrete', 'concrete tiles'],\n",
    "    'fiberglass': ['fiberglass', 'fiberglass shingles', 'fibreglass shingle'],\n",
    "    'flat': ['flat', 'flat torch membrane', 'membrane', 'epdm membrane'],\n",
    "    'metal': ['metal', 'metal shingles', 'steel', 'tin'],\n",
    "    'pine shake': ['pine shake', 'pine shakes'],\n",
    "    'rubber': ['rubber'],\n",
    "    'sbs': ['sbs roofing system'],\n",
    "    'shake': ['shake'],\n",
    "    'shingle': ['shingle', 'vinyl shingles'],\n",
    "    'slate': ['slate'],\n",
    "    'tar': ['tar & gravel', 'tar & gravel', 'tar &amp; gravel', 'tar/gravel'],\n",
    "    'tile': ['tile'],\n",
    "    'wood': ['wood', 'wood shingle', 'wood shingles'],\n",
    "    'other': ['conventional', 'mixed', 'other'],\n",
    "}"
   ]
  },
  {
   "cell_type": "code",
   "execution_count": 56,
   "id": "72e1c2a1",
   "metadata": {
    "execution": {
     "iopub.execute_input": "2025-02-22T19:36:03.461935Z",
     "iopub.status.busy": "2025-02-22T19:36:03.461607Z",
     "iopub.status.idle": "2025-02-22T19:36:03.733860Z",
     "shell.execute_reply": "2025-02-22T19:36:03.732794Z"
    },
    "papermill": {
     "duration": 0.304324,
     "end_time": "2025-02-22T19:36:03.735665",
     "exception": false,
     "start_time": "2025-02-22T19:36:03.431341",
     "status": "completed"
    },
    "tags": []
   },
   "outputs": [
    {
     "data": {
      "text/plain": [
       "Roof new\n",
       "asphalt        14182\n",
       "metal            960\n",
       "fiberglass       524\n",
       "other            136\n",
       "flat             115\n",
       "cedar shake       98\n",
       "shingle           83\n",
       "tile              53\n",
       "shake             42\n",
       "clay              40\n",
       "tar               37\n",
       "wood              25\n",
       "rubber            20\n",
       "concrete          18\n",
       "pine shake        10\n",
       "sbs                3\n",
       "slate              1\n",
       "Name: count, dtype: int64"
      ]
     },
     "execution_count": 56,
     "metadata": {},
     "output_type": "execute_result"
    }
   ],
   "source": [
    "df['Roof new'] = df['Roof']\n",
    "df['Roof new'] = df['Roof new'].apply(lambda x: check_type(x, roofing_categories))\n",
    "df['Roof new'].value_counts()"
   ]
  },
  {
   "cell_type": "markdown",
   "id": "afa30a21",
   "metadata": {
    "papermill": {
     "duration": 0.028916,
     "end_time": "2025-02-22T19:36:03.794081",
     "exception": false,
     "start_time": "2025-02-22T19:36:03.765165",
     "status": "completed"
    },
    "tags": []
   },
   "source": [
    "# Property Type"
   ]
  },
  {
   "cell_type": "code",
   "execution_count": 57,
   "id": "aa11e43b",
   "metadata": {
    "execution": {
     "iopub.execute_input": "2025-02-22T19:36:03.853936Z",
     "iopub.status.busy": "2025-02-22T19:36:03.853557Z",
     "iopub.status.idle": "2025-02-22T19:36:03.868834Z",
     "shell.execute_reply": "2025-02-22T19:36:03.867772Z"
    },
    "papermill": {
     "duration": 0.046871,
     "end_time": "2025-02-22T19:36:03.870700",
     "exception": false,
     "start_time": "2025-02-22T19:36:03.823829",
     "status": "completed"
    },
    "tags": []
   },
   "outputs": [
    {
     "data": {
      "text/plain": [
       "Property Type\n",
       "Single Family        51072\n",
       "Condo                24990\n",
       "Vacant Land          11268\n",
       "Condo/Townhome        2914\n",
       "Townhome              2727\n",
       "MultiFamily           1821\n",
       "Duplex                1817\n",
       "Agricultural           441\n",
       "Farm                   276\n",
       "Mobile Home            271\n",
       "Manufactured Home      213\n",
       "Timeshare                1\n",
       "Name: count, dtype: int64"
      ]
     },
     "execution_count": 57,
     "metadata": {},
     "output_type": "execute_result"
    }
   ],
   "source": [
    "df['Property Type'].value_counts()"
   ]
  },
  {
   "cell_type": "markdown",
   "id": "e89d4da9",
   "metadata": {
    "papermill": {
     "duration": 0.030313,
     "end_time": "2025-02-22T19:36:03.931853",
     "exception": false,
     "start_time": "2025-02-22T19:36:03.901540",
     "status": "completed"
    },
    "tags": []
   },
   "source": [
    "# Waterfront"
   ]
  },
  {
   "cell_type": "code",
   "execution_count": 58,
   "id": "0c0ed768",
   "metadata": {
    "execution": {
     "iopub.execute_input": "2025-02-22T19:36:03.992001Z",
     "iopub.status.busy": "2025-02-22T19:36:03.991570Z",
     "iopub.status.idle": "2025-02-22T19:36:04.001020Z",
     "shell.execute_reply": "2025-02-22T19:36:03.999948Z"
    },
    "papermill": {
     "duration": 0.042106,
     "end_time": "2025-02-22T19:36:04.002732",
     "exception": false,
     "start_time": "2025-02-22T19:36:03.960626",
     "status": "completed"
    },
    "tags": []
   },
   "outputs": [
    {
     "data": {
      "text/plain": [
       "Waterfront\n",
       "Yes    178\n",
       "Name: count, dtype: int64"
      ]
     },
     "execution_count": 58,
     "metadata": {},
     "output_type": "execute_result"
    }
   ],
   "source": [
    "df.Waterfront.value_counts()"
   ]
  },
  {
   "cell_type": "code",
   "execution_count": 59,
   "id": "37fc9cde",
   "metadata": {
    "execution": {
     "iopub.execute_input": "2025-02-22T19:36:04.064341Z",
     "iopub.status.busy": "2025-02-22T19:36:04.063929Z",
     "iopub.status.idle": "2025-02-22T19:36:04.083176Z",
     "shell.execute_reply": "2025-02-22T19:36:04.082015Z"
    },
    "papermill": {
     "duration": 0.051606,
     "end_time": "2025-02-22T19:36:04.085234",
     "exception": false,
     "start_time": "2025-02-22T19:36:04.033628",
     "status": "completed"
    },
    "tags": []
   },
   "outputs": [
    {
     "data": {
      "text/plain": [
       "Waterfront new\n",
       "No     97633\n",
       "Yes      178\n",
       "Name: count, dtype: int64"
      ]
     },
     "execution_count": 59,
     "metadata": {},
     "output_type": "execute_result"
    }
   ],
   "source": [
    "df['Waterfront new'] = df['Waterfront']\n",
    "df.loc[df['Waterfront new'].isna(), 'Waterfront new'] = 'No'\n",
    "\n",
    "df['Waterfront new'].value_counts()"
   ]
  },
  {
   "cell_type": "markdown",
   "id": "742bd401",
   "metadata": {
    "papermill": {
     "duration": 0.030758,
     "end_time": "2025-02-22T19:36:04.146572",
     "exception": false,
     "start_time": "2025-02-22T19:36:04.115814",
     "status": "completed"
    },
    "tags": []
   },
   "source": [
    "# Subdivision"
   ]
  },
  {
   "cell_type": "code",
   "execution_count": 60,
   "id": "b75227fa",
   "metadata": {
    "execution": {
     "iopub.execute_input": "2025-02-22T19:36:04.205995Z",
     "iopub.status.busy": "2025-02-22T19:36:04.205589Z",
     "iopub.status.idle": "2025-02-22T19:36:04.219910Z",
     "shell.execute_reply": "2025-02-22T19:36:04.218718Z"
    },
    "papermill": {
     "duration": 0.046121,
     "end_time": "2025-02-22T19:36:04.221737",
     "exception": false,
     "start_time": "2025-02-22T19:36:04.175616",
     "status": "completed"
    },
    "tags": []
   },
   "outputs": [
    {
     "data": {
      "text/plain": [
       "Subdivision\n",
       "NONE                    1455\n",
       "Whalley                  718\n",
       "Willoughby Heights       511\n",
       "Downtown VW              479\n",
       "Coquitlam West           374\n",
       "Brighouse                367\n",
       "Brentwood Park           351\n",
       "Metrotown                311\n",
       "Abbotsford West          299\n",
       "White Rock               285\n",
       "Central Abbotsford       283\n",
       "Fleetwood Tynehead       279\n",
       "Mission BC               271\n",
       "Beltline                 270\n",
       "Langley City             242\n",
       "Yaletown                 241\n",
       "West Cambie              210\n",
       "West End VW              210\n",
       "Cloverdale BC            202\n",
       "King George Corridor     201\n",
       "Abbotsford East          197\n",
       "Sullivan Station         194\n",
       "West Newton              194\n",
       "Grandview Surrey         193\n",
       "Cambie                   184\n",
       "Collingwood VE           183\n",
       "East Newton              182\n",
       "Marpole                  179\n",
       "Guildford                165\n",
       "West Central             157\n",
       "Name: count, dtype: int64"
      ]
     },
     "execution_count": 60,
     "metadata": {},
     "output_type": "execute_result"
    }
   ],
   "source": [
    "df.Subdivision.value_counts()[:30]"
   ]
  },
  {
   "cell_type": "markdown",
   "id": "8f415e51",
   "metadata": {
    "papermill": {
     "duration": 0.030522,
     "end_time": "2025-02-22T19:36:04.282297",
     "exception": false,
     "start_time": "2025-02-22T19:36:04.251775",
     "status": "completed"
    },
    "tags": []
   },
   "source": [
    "# Sewer"
   ]
  },
  {
   "cell_type": "code",
   "execution_count": 61,
   "id": "de51c6ac",
   "metadata": {
    "execution": {
     "iopub.execute_input": "2025-02-22T19:36:04.344126Z",
     "iopub.status.busy": "2025-02-22T19:36:04.343741Z",
     "iopub.status.idle": "2025-02-22T19:36:04.358383Z",
     "shell.execute_reply": "2025-02-22T19:36:04.356795Z"
    },
    "papermill": {
     "duration": 0.047426,
     "end_time": "2025-02-22T19:36:04.360450",
     "exception": false,
     "start_time": "2025-02-22T19:36:04.313024",
     "status": "completed"
    },
    "tags": []
   },
   "outputs": [
    {
     "data": {
      "text/plain": [
       "Sewer\n",
       "[]                                                        10549\n",
       "Sanitary sewer                                             9671\n",
       "[\"Municipal sewage system\"]                                7379\n",
       "[\"Sanitary sewer\"]                                         4812\n",
       "[\"Septic System\"]                                          4682\n",
       "                                                          ...  \n",
       "Perc Test On File, Septic Needed                              1\n",
       "[\"Perc Test On File\", \"Septic Needed\"]                        1\n",
       "[\"Sewer Available\", \"Sewer Connected\", \"Sewer To Lot\"]        1\n",
       "Septic System: Common, Sewer To Lot                           1\n",
       "[\"Municipal/Community\", \"Septic Tank &amp; Field\"]            1\n",
       "Name: count, Length: 209, dtype: int64"
      ]
     },
     "execution_count": 61,
     "metadata": {},
     "output_type": "execute_result"
    }
   ],
   "source": [
    "df.Sewer.value_counts()"
   ]
  },
  {
   "cell_type": "code",
   "execution_count": 62,
   "id": "9f25ed74",
   "metadata": {
    "execution": {
     "iopub.execute_input": "2025-02-22T19:36:04.425519Z",
     "iopub.status.busy": "2025-02-22T19:36:04.425121Z",
     "iopub.status.idle": "2025-02-22T19:36:04.490377Z",
     "shell.execute_reply": "2025-02-22T19:36:04.488840Z"
    },
    "papermill": {
     "duration": 0.100123,
     "end_time": "2025-02-22T19:36:04.492603",
     "exception": false,
     "start_time": "2025-02-22T19:36:04.392480",
     "status": "completed"
    },
    "tags": []
   },
   "outputs": [
    {
     "name": "stdout",
     "output_type": "stream",
     "text": [
      "45 {'', 'Open Discharge', 'Sewer Available', 'Septic tank', 'Sanitary sewer', 'Septic Needed', 'No sewage system', 'Septic Tank &amp; Field', 'Lagoon', 'Septic System: Common', 'Pump', 'Septic Tank and Field', 'Unknown', 'Outhouse', 'Mound Septic', 'See Remarks', 'Other', 'Perc Test On File', 'Aerobic Treatment System', 'Tank &amp; Straight Discharge', 'Liquid Surface Dis', 'Sewer Connected', 'Private sewer', 'Mound', 'Outflow Tank', 'Private Sewer', 'Septic Tank &amp; Mound', 'Engineered Septic', 'Holding Tank', 'Sewer To Lot', 'Septic Tank', 'Municipal/Community', 'Sewer', 'None', 'Public Sewer', 'Storm sewer', 'Septic Field', 'Low Pressure Sewage Sys', 'Facultative Lagoon', 'Attached to Municipal', 'Municipal sewage system', 'Shared Septic', 'Gravity', 'Septic System', 'See remarks'}\n"
     ]
    }
   ],
   "source": [
    "unique_sewer_features = get_unique_values('Sewer')\n",
    "print(len(unique_sewer_features), unique_sewer_features)"
   ]
  },
  {
   "cell_type": "code",
   "execution_count": 63,
   "id": "51f266f4",
   "metadata": {
    "execution": {
     "iopub.execute_input": "2025-02-22T19:36:04.556437Z",
     "iopub.status.busy": "2025-02-22T19:36:04.556061Z",
     "iopub.status.idle": "2025-02-22T19:36:04.561928Z",
     "shell.execute_reply": "2025-02-22T19:36:04.560589Z"
    },
    "papermill": {
     "duration": 0.039961,
     "end_time": "2025-02-22T19:36:04.563827",
     "exception": false,
     "start_time": "2025-02-22T19:36:04.523866",
     "status": "completed"
    },
    "tags": []
   },
   "outputs": [],
   "source": [
    "sewage_categories = {\n",
    "    'municipal': ['municipal/community', 'municipal sewage system', 'sanitary sewer', 'sewer', 'sewer connected', \n",
    "                  'sewer to lot', 'sewer available', 'public sewer', 'attached to municipal'],\n",
    "    'septic': ['septic tank', 'septic system', 'septic system: common', 'septic field', 'septic tank and field', \n",
    "               'septic tank & mound', 'mound septic', 'septic tank & field', 'septic needed', 'engineered septic'],\n",
    "    'private': ['private sewer', 'private sewer', 'holding tank', 'low pressure sewage sys', 'shared septic'],\n",
    "    'alternative': ['aerobic treatment system', 'facultative lagoon', 'lagoon', 'outflow tank', 'open discharge', \n",
    "                    'liquid surface dis', 'pump', 'tank & straight discharge'],\n",
    "    'none': ['no sewage system', 'outhouse', 'none'],\n",
    "}"
   ]
  },
  {
   "cell_type": "code",
   "execution_count": 64,
   "id": "8711d17d",
   "metadata": {
    "execution": {
     "iopub.execute_input": "2025-02-22T19:36:04.631572Z",
     "iopub.status.busy": "2025-02-22T19:36:04.631112Z",
     "iopub.status.idle": "2025-02-22T19:36:04.822199Z",
     "shell.execute_reply": "2025-02-22T19:36:04.820966Z"
    },
    "papermill": {
     "duration": 0.227122,
     "end_time": "2025-02-22T19:36:04.824262",
     "exception": false,
     "start_time": "2025-02-22T19:36:04.597140",
     "status": "completed"
    },
    "tags": []
   },
   "outputs": [
    {
     "data": {
      "text/plain": [
       "Sewer new\n",
       "none           60523\n",
       "municipal      28405\n",
       "septic          8447\n",
       "private          273\n",
       "alternative      163\n",
       "Name: count, dtype: int64"
      ]
     },
     "execution_count": 64,
     "metadata": {},
     "output_type": "execute_result"
    }
   ],
   "source": [
    "df['Sewer new'] = df['Sewer']\n",
    "df['Sewer new'] = df['Sewer new'].apply(lambda x: check_type(x, sewage_categories))\n",
    "df['Sewer new'] = df['Sewer new'].fillna('none')\n",
    "\n",
    "df['Sewer new'].value_counts()"
   ]
  },
  {
   "cell_type": "markdown",
   "id": "48e65233",
   "metadata": {
    "papermill": {
     "duration": 0.030715,
     "end_time": "2025-02-22T19:36:04.884593",
     "exception": false,
     "start_time": "2025-02-22T19:36:04.853878",
     "status": "completed"
    },
    "tags": []
   },
   "source": [
    "# Additional Features "
   ]
  },
  {
   "cell_type": "markdown",
   "id": "16deafe8",
   "metadata": {
    "papermill": {
     "duration": 0.029846,
     "end_time": "2025-02-22T19:36:04.945765",
     "exception": false,
     "start_time": "2025-02-22T19:36:04.915919",
     "status": "completed"
    },
    "tags": []
   },
   "source": [
    "Let's add some additional features like Pool, Gerden, View and Balcony. "
   ]
  },
  {
   "cell_type": "code",
   "execution_count": 65,
   "id": "beffe348",
   "metadata": {
    "execution": {
     "iopub.execute_input": "2025-02-22T19:36:05.009121Z",
     "iopub.status.busy": "2025-02-22T19:36:05.008725Z",
     "iopub.status.idle": "2025-02-22T19:36:05.013845Z",
     "shell.execute_reply": "2025-02-22T19:36:05.012726Z"
    },
    "papermill": {
     "duration": 0.039017,
     "end_time": "2025-02-22T19:36:05.015638",
     "exception": false,
     "start_time": "2025-02-22T19:36:04.976621",
     "status": "completed"
    },
    "tags": []
   },
   "outputs": [],
   "source": [
    "mix_features = ['Basement', 'Exterior', 'Features', 'Fireplace', 'Garage', 'Heating', 'Parking']"
   ]
  },
  {
   "cell_type": "code",
   "execution_count": 66,
   "id": "cbfc23da",
   "metadata": {
    "execution": {
     "iopub.execute_input": "2025-02-22T19:36:05.079268Z",
     "iopub.status.busy": "2025-02-22T19:36:05.078840Z",
     "iopub.status.idle": "2025-02-22T19:36:05.734571Z",
     "shell.execute_reply": "2025-02-22T19:36:05.733523Z"
    },
    "papermill": {
     "duration": 0.690288,
     "end_time": "2025-02-22T19:36:05.736524",
     "exception": false,
     "start_time": "2025-02-22T19:36:05.046236",
     "status": "completed"
    },
    "scrolled": true,
    "tags": []
   },
   "outputs": [
    {
     "data": {
      "text/html": [
       "<div>\n",
       "<style scoped>\n",
       "    .dataframe tbody tr th:only-of-type {\n",
       "        vertical-align: middle;\n",
       "    }\n",
       "\n",
       "    .dataframe tbody tr th {\n",
       "        vertical-align: top;\n",
       "    }\n",
       "\n",
       "    .dataframe thead th {\n",
       "        text-align: right;\n",
       "    }\n",
       "</style>\n",
       "<table border=\"1\" class=\"dataframe\">\n",
       "  <thead>\n",
       "    <tr style=\"text-align: right;\">\n",
       "      <th></th>\n",
       "      <th>streetAddress</th>\n",
       "      <th>addressLocality</th>\n",
       "      <th>addressRegion</th>\n",
       "      <th>postalCode</th>\n",
       "      <th>latitude</th>\n",
       "      <th>longitude</th>\n",
       "      <th>description</th>\n",
       "      <th>price</th>\n",
       "      <th>priceCurrency</th>\n",
       "      <th>property-beds</th>\n",
       "      <th>property-baths</th>\n",
       "      <th>property-sqft</th>\n",
       "      <th>Acreage</th>\n",
       "      <th>Air Conditioning</th>\n",
       "      <th>Basement</th>\n",
       "      <th>Bath</th>\n",
       "      <th>Exterior</th>\n",
       "      <th>Features</th>\n",
       "      <th>Fireplace</th>\n",
       "      <th>Garage</th>\n",
       "      <th>Heating</th>\n",
       "      <th>MLS® #</th>\n",
       "      <th>Property Tax</th>\n",
       "      <th>Property Type</th>\n",
       "      <th>Roof</th>\n",
       "      <th>Sewer</th>\n",
       "      <th>Square Footage</th>\n",
       "      <th>Subdivision</th>\n",
       "      <th>Waterfront</th>\n",
       "      <th>Parking</th>\n",
       "      <th>Flooring</th>\n",
       "      <th>Fireplace Features</th>\n",
       "      <th>Square Footage new</th>\n",
       "      <th>Garage new</th>\n",
       "      <th>Parking new</th>\n",
       "      <th>Basement new</th>\n",
       "      <th>Exterior new</th>\n",
       "      <th>Fireplace new</th>\n",
       "      <th>Heating new</th>\n",
       "      <th>Flooring new</th>\n",
       "      <th>Roof new</th>\n",
       "      <th>Waterfront new</th>\n",
       "      <th>Sewer new</th>\n",
       "      <th>Combined</th>\n",
       "    </tr>\n",
       "  </thead>\n",
       "  <tbody>\n",
       "    <tr>\n",
       "      <th>7</th>\n",
       "      <td>1701 Coursier Avenue Unit# 1301, Revelstoke, BC V0E2S3</td>\n",
       "      <td>Revelstoke</td>\n",
       "      <td>BC</td>\n",
       "      <td>V0E2S3</td>\n",
       "      <td>50.976585</td>\n",
       "      <td>-118.173149</td>\n",
       "      <td>Don't miss out on this rare 3 bedroom, 2 bath corner unit at Mackenzie Plaza! This fully furnished turn-key short term rental with proven revenue is ready for its new owner. Sit on the patio and enjoy the evening sun of this west facing condo which overlooks Mt Macpherson, Boulder Mountain and Frisbee Ridge. These units can be rented short term, long term or lived in permanently. Included is an underground parking stall and storage locker. The building features elevator access from parking. This amazing location is only minutes to Revelstoke Mountain Resort and downtown Revelstoke, and directly across the road from the new Cabot Revelstoke golf course. Take advantage of the commercial amenities that await on the ground floor which includes a grocery store, co-working space, gym, liquor store, art gallery and more. The resort shuttle bus stops directly across the street so leave your car at home. Book a showing today! (id:38686)</td>\n",
       "      <td>839000.0</td>\n",
       "      <td>CAD</td>\n",
       "      <td>3.0</td>\n",
       "      <td>2.0</td>\n",
       "      <td>891</td>\n",
       "      <td>0.0</td>\n",
       "      <td>NaN</td>\n",
       "      <td>NaN</td>\n",
       "      <td>0.0</td>\n",
       "      <td>NaN</td>\n",
       "      <td>Underground, Heated Garage</td>\n",
       "      <td>NaN</td>\n",
       "      <td>NaN</td>\n",
       "      <td>Heat Pump</td>\n",
       "      <td>10334677</td>\n",
       "      <td>$3,478</td>\n",
       "      <td>Condo</td>\n",
       "      <td>NaN</td>\n",
       "      <td>Municipal sewage system</td>\n",
       "      <td>891 SQFT</td>\n",
       "      <td>NaN</td>\n",
       "      <td>NaN</td>\n",
       "      <td>Underground, Heated Garage</td>\n",
       "      <td>Tile, Carpeted, Vinyl</td>\n",
       "      <td>NaN</td>\n",
       "      <td>891</td>\n",
       "      <td>Yes</td>\n",
       "      <td>Yes</td>\n",
       "      <td>NaN</td>\n",
       "      <td>NaN</td>\n",
       "      <td>No</td>\n",
       "      <td>heat pump</td>\n",
       "      <td>carpet</td>\n",
       "      <td>NaN</td>\n",
       "      <td>No</td>\n",
       "      <td>municipal</td>\n",
       "      <td>nan,nan,Underground, Heated Garage,nan,nan,Heat Pump,Underground, Heated Garage</td>\n",
       "    </tr>\n",
       "  </tbody>\n",
       "</table>\n",
       "</div>"
      ],
      "text/plain": [
       "                                            streetAddress addressLocality  \\\n",
       "7  1701 Coursier Avenue Unit# 1301, Revelstoke, BC V0E2S3      Revelstoke   \n",
       "\n",
       "  addressRegion postalCode   latitude   longitude  \\\n",
       "7            BC     V0E2S3  50.976585 -118.173149   \n",
       "\n",
       "                                                                                                                                                                                                                                                                                                                                                                                                                                                                                                                                                                                                                                                                                                                                                                                                                                                                                                                                                                     description  \\\n",
       "7  Don't miss out on this rare 3 bedroom, 2 bath corner unit at Mackenzie Plaza! This fully furnished turn-key short term rental with proven revenue is ready for its new owner. Sit on the patio and enjoy the evening sun of this west facing condo which overlooks Mt Macpherson, Boulder Mountain and Frisbee Ridge. These units can be rented short term, long term or lived in permanently. Included is an underground parking stall and storage locker. The building features elevator access from parking. This amazing location is only minutes to Revelstoke Mountain Resort and downtown Revelstoke, and directly across the road from the new Cabot Revelstoke golf course. Take advantage of the commercial amenities that await on the ground floor which includes a grocery store, co-working space, gym, liquor store, art gallery and more. The resort shuttle bus stops directly across the street so leave your car at home. Book a showing today! (id:38686)   \n",
       "\n",
       "      price priceCurrency property-beds property-baths property-sqft  Acreage  \\\n",
       "7  839000.0           CAD           3.0            2.0           891      0.0   \n",
       "\n",
       "  Air Conditioning Basement Bath Exterior                    Features  \\\n",
       "7              NaN      NaN  0.0      NaN  Underground, Heated Garage   \n",
       "\n",
       "  Fireplace Garage    Heating    MLS® # Property Tax Property Type Roof  \\\n",
       "7       NaN    NaN  Heat Pump  10334677       $3,478         Condo  NaN   \n",
       "\n",
       "                     Sewer Square Footage Subdivision Waterfront  \\\n",
       "7  Municipal sewage system       891 SQFT         NaN        NaN   \n",
       "\n",
       "                      Parking               Flooring Fireplace Features  \\\n",
       "7  Underground, Heated Garage  Tile, Carpeted, Vinyl                NaN   \n",
       "\n",
       "  Square Footage new Garage new Parking new Basement new Exterior new  \\\n",
       "7                891        Yes         Yes          NaN          NaN   \n",
       "\n",
       "  Fireplace new Heating new Flooring new Roof new Waterfront new  Sewer new  \\\n",
       "7            No   heat pump       carpet      NaN             No  municipal   \n",
       "\n",
       "                                                                          Combined  \n",
       "7  nan,nan,Underground, Heated Garage,nan,nan,Heat Pump,Underground, Heated Garage  "
      ]
     },
     "execution_count": 66,
     "metadata": {},
     "output_type": "execute_result"
    }
   ],
   "source": [
    "df['Combined'] = df[mix_features].astype(str).agg(','.join, axis=1)\n",
    "df.head(1)"
   ]
  },
  {
   "cell_type": "code",
   "execution_count": 67,
   "id": "e9ff1f70",
   "metadata": {
    "execution": {
     "iopub.execute_input": "2025-02-22T19:36:05.800594Z",
     "iopub.status.busy": "2025-02-22T19:36:05.800232Z",
     "iopub.status.idle": "2025-02-22T19:36:06.137772Z",
     "shell.execute_reply": "2025-02-22T19:36:06.136554Z"
    },
    "papermill": {
     "duration": 0.37297,
     "end_time": "2025-02-22T19:36:06.139830",
     "exception": false,
     "start_time": "2025-02-22T19:36:05.766860",
     "status": "completed"
    },
    "tags": []
   },
   "outputs": [
    {
     "name": "stdout",
     "output_type": "stream",
     "text": [
      "457 {'', 'Garage; Single', 'Carport & Garage', 'Fireplace(s)', 'Not known', 'Water Feature', 'Rear', 'Raised Hearth', 'Double Carport', 'Carport Quad+', 'Parking Lot', 'Security System', 'Gas Log', 'Conventional', 'Double Garage Attached', 'River View', 'Shared', 'Stall', '2 Car Detached', 'Parking Pad', 'Fencing: Partial', '5', 'Wood siding', 'Gravel', 'RV Parking Avail.', 'Steel', 'Playground', 'Radiant Heat', 'Wall Mounted Heat Pump', 'Level Land', 'Brick Imitation', 'Cedar', 'In Floor', 'Stove', 'Asphalt', 'Partially finished', 'Low Maintenance Landscape', '220 Volt Wiring', '2', 'Landscaped', 'Double Sided', 'Covered Courtyard', 'Direct vent', 'Partially Landscaped', 'Subdividable Lot', 'Lake Access Property', 'Roughed in', 'Kennel', 'In Floor Heating', 'Partial Basement', 'Garage; Double', 'RV Garage', 'Barbecue', 'nan', 'Lake View', 'Ravine View', 'Uncovered Courtyard', 'Vinyl siding', 'View Lake', 'Central heating', 'Brick Veneer', 'Fruit Trees/Shrubs', 'Drive Through', 'Titled', 'Concrete Driveway', 'Outside', 'In Garage Electric Vehicle Charging Station(s)', 'EV Charging Station', 'Street', 'Tile', 'Floor Furnace', 'Courtyard', 'Insulated', 'Not Fenced', 'Geothermal', 'Garage Faces Side', 'Exhaust Fan', 'Propane', 'Brass', 'Heat Recovery Ventilation (HRV)', 'Marble', 'Gravity Heat System', 'Misting System', 'Oversized', 'Insert', 'Rain Gutters', 'Leased', 'Heat Pump', 'Carport', 'Cedar shingles', 'Parking Space(s)', 'Low Maintenance Yard', 'Standard', 'Garage; Underground', 'Boating', 'Rolling Land', 'Rail Services Nearby', 'Plug-In', 'Space Heaters', '6 Car Attached', '1 Car Detached', 'Loft', 'Back Lane', 'Suite', 'Vinyl', 'Hardboard', 'Owned', 'Radiant Ceiling', 'Add. Parking Avail.', 'DetachedGrge/Carport', 'Guest', 'Carport; Multiple', 'Lighting', 'Boat Slip', 'Steam', 'Rock imitation', 'Radiant Floor', 'Private Electric Vehicle Charging Station(s)', 'Garage Underbuilding', 'Separate/Exterior Entry', 'Concrete', 'Playground Nearby', 'Garden', 'Separate Water Heaters', '3', 'Free Standing', 'Aggregate', 'Concrete/Stucco', 'Living Room', 'Floor heat', 'Dining Room', 'Corner Lot', 'Fireplace Insert', 'Cul-De-Sac', 'Walkout', 'Gated', 'Blower Fan', 'Entrance', 'Gas Starter', 'Asbestos', 'Not Full Height', 'Inside Entry', 'Single Carport', 'Crawl Space', 'Garage Quad+', 'Ceiling', 'Breezeway', 'Electric Grill', 'None', 'Free Standing Metal', 'View Downtown', 'Aluminum siding', 'Slab', 'Other - See remarks', 'No heat', 'RV Hookup', 'Grge/Double Tandem', 'Common', 'Roughed-In', 'Coal', 'No Garage', 'Wood Burning', 'RV', 'Den', 'Bedroom', 'View City', 'Make-up Air', 'Sloping Lot', 'High Efficiency', 'Shop', '5 Car Attached', 'Schools', 'Front Drive Access', 'Ventless', 'Private Yard', 'Workshop in Garage', 'Tandem', 'Dock', 'Radiant/Infra-red Heat', 'Sun Room', 'Treed Lot', 'Insul Brick', 'Rear Drive', 'Driveway', 'Quad or More Attached', 'Primary Bedroom', '7', 'Humidity Control', 'Circulating', 'Private Entrance', 'No Basement', 'Forced Air', 'Wood Burning Stove', 'Rain Barrel/Cistern(s)', 'Walk-Out Access', 'Basement', 'Walk-Up To Grade', 'Fencing: Full', 'No Through Road', 'Metal', 'Private Park Access', 'Garage Faces Rear', 'Gravel Driveway', 'Crawl', 'Attached Carport', 'Sprinkler System', 'Factory Built', 'Front Drive', 'Full Basement', 'Family Room', 'Walk-up', 'Awning(s)', 'Kitchen', 'River Valley View', 'Great Room', 'Parking Pad Cement/Paved', 'RV Access/Parking', '2 Outdoor Stalls', 'Carport Double', 'Heatilator', 'Propane Gas', 'Central', 'Offset', 'Outdoor Kitchen', 'Backs Onto Lake', 'Masonry', 'Unassigned', 'RV Parking', 'Balcony', 'Separate entrance', 'Fire Pit', 'Airport Nearby', 'Wood', 'N/A', 'Zero Clearance', 'Double Indoor', 'Oak', 'Gray Water System', 'Stone', 'Golf Cart Garage', 'Enclosed', 'RV Gated', 'Wood Stove', 'Electric Gate', 'Triple Garage Detached', 'Integrated Garage', 'Outside Furnace', 'Park/Reserve', 'Public Swimming Pool', 'Heated Driveway', 'Flat Site', 'Heated Garage', 'Public Electric Vehicle Charging Station(s)', 'Zoned', 'Quad or More Detached', 'Multiple Driveways', 'Interlocking Driveway', 'Furnace', 'Attached', 'Radiator', 'Visitor Parking', 'Not Applicable', 'Carport Triple', '6 Car Detached', 'Balcony/Patio', 'Private Setting', 'Underground Parking', 'Natural Gas', 'Open', 'Crawl space', 'Library', 'EPA Certified Wood Stove', 'Covered', 'Unfinished', 'Recreation Room', 'Picnic Area', 'Wood Siding', 'Paved Lane', 'Gas Grill', 'Overhead Heaters', 'Concrete Block', 'Baseboard', 'Brick', 'Ski Hill Nearby', 'Wall Furnace', 'Wood shingles', '4 Car Attached', 'Partial', 'Gas', 'Glass Doors', 'Water', 'Private Fishing', 'Block Driveway', 'Oil', 'In Floor Heat System', 'Brick imitation', 'Street Lighting', 'Hillside', 'Triple Garage Attached', 'Parking Spaces', 'Waterfront Property', 'Tandem Parking', 'Mixed', 'Secured', '1', 'Balcony/Deck', 'On Street', 'Commercial', 'Basketball Court', 'Mid  Efficiency', 'Walk-Out To Grade', 'Not Landscaped', 'Hot water radiator heat', 'Side By Side', 'Public Transportation', 'Additional Parking', 'Pellet', '4 Car Detached', 'Masonite', 'Over Sized', 'Space Heater', 'Swimming Pool', 'Creek', 'Full', 'Siding', 'Sep. HVAC Units', 'Mantle', 'Partially Fenced', 'With Windows', 'Brick Facing', '11', 'ENERGY STAR Qualified Equipment', 'Front/Rear Drive Access', 'Garage Triple', 'Fan Coil', '3 Car Detached', 'Beach Access', 'Rear Drive Access', 'Detached Garage', 'Hot Water', 'Wheelchair Access', 'No Back Lane', 'Log', 'Single Garage Detached', '1 Car Attached', 'Dog Run', 'Steam radiator', 'Alley Access', 'Stream/Pond', 'Golf Nearby', 'Air Conditioning', 'Interlocked', 'Fully Finished', 'Electric', 'Finished', 'Attached Garage', 'Garage Double', '4', 'Aluminum/Vinyl', 'Colour Loc', '2 Car Attached', 'Fenced', 'Varies by Unit', 'Forced air', 'On Site', 'Rock Imitation', 'Forced Air-2', 'Apartment in basement', 'Carport; Single', 'Parkade', 'Bath', 'Coal Stove', 'Cellar', 'Garage Door Opener', 'Outdoor Shower', 'Geo Thermal', 'Exposed Aggregate', 'See remarks', 'Gated Community', 'EPA Qualified Fireplace', '3 Car Attached', 'Pellet Stove', 'See Through', 'Shopping Nearby', 'Shingles', 'Dugout', 'BBQ gas line', 'Permeable Paving', 'Concrete Siding', 'Detached', 'Ductless', 'No Parking', 'Built-in Barbecue', 'Boiler', 'Forced Air-1', 'Double Garage Detached', 'Composite Siding', 'Tennis Court(s)', 'Surfaced', 'Radiant', 'Gravity', 'Paved', 'Environmental Reserve', 'Cross Fenced', 'See Remarks', 'Other', 'Unpaved', 'Walk out', 'Boat', 'Single Garage Attached', '0', 'Garage; Triple', 'Outdoor Grill', 'Indoor', 'Woodstove', 'Paved Yard', 'Shared Driveway', 'Baseboard heaters', 'Partially Finished', '6', 'Three-Sided', 'Garage/Laneway Suite', 'Unknown', 'Solar', '5 Car Detached', 'Underground', 'Oversize', 'Remodeled Basement', 'Aluminum', 'Natural gas', 'Heated', 'Remodeled', 'Garage', 'Vegetable Garden', 'Off Street', 'Recreation Use', 'Radiant heat', 'Converted Garage', 'Floor Model Furnace', 'Stucco', 'Backs Onto Park/Trees', 'Yes', 'Assigned', 'Not applicable', 'Overhead Unit Heater', 'Electric baseboard units', 'Sealed Combustion', 'Garage Faces Front', 'Single Indoor', 'Central Heat Pump', 'High-Efficiency Furnace', 'In Floor Roughed-In', 'Heat Recovery', 'Combination', 'Storage', 'Decorative', 'Cedar Siding'}\n"
     ]
    }
   ],
   "source": [
    "##### Extract unique features\n",
    "unique_mix_features = set()\n",
    "\n",
    "for features in df['Combined'].dropna():\n",
    "    # Remove brackets and extra quotes\n",
    "    cleaned_features = features.replace(\"[\", \"\").replace(\"]\", \"\").replace('\"', '').replace(\"'\", \"\")\n",
    "    # Split by comma\n",
    "    feature_list = [f.strip() for f in cleaned_features.split(\",\")]\n",
    "    unique_mix_features.update(feature_list)\n",
    "\n",
    "print(len(unique_mix_features), unique_mix_features)"
   ]
  },
  {
   "cell_type": "markdown",
   "id": "ff0d652c",
   "metadata": {
    "papermill": {
     "duration": 0.037583,
     "end_time": "2025-02-22T19:36:06.209302",
     "exception": false,
     "start_time": "2025-02-22T19:36:06.171719",
     "status": "completed"
    },
    "tags": []
   },
   "source": [
    "# Pool"
   ]
  },
  {
   "cell_type": "markdown",
   "id": "fadc4f2b",
   "metadata": {
    "papermill": {
     "duration": 0.029427,
     "end_time": "2025-02-22T19:36:06.268286",
     "exception": false,
     "start_time": "2025-02-22T19:36:06.238859",
     "status": "completed"
    },
    "tags": []
   },
   "source": [
    "Let's add Pool feature"
   ]
  },
  {
   "cell_type": "code",
   "execution_count": 68,
   "id": "c668a3f0",
   "metadata": {
    "execution": {
     "iopub.execute_input": "2025-02-22T19:36:06.331866Z",
     "iopub.status.busy": "2025-02-22T19:36:06.331497Z",
     "iopub.status.idle": "2025-02-22T19:36:06.336568Z",
     "shell.execute_reply": "2025-02-22T19:36:06.335409Z"
    },
    "papermill": {
     "duration": 0.038086,
     "end_time": "2025-02-22T19:36:06.338470",
     "exception": false,
     "start_time": "2025-02-22T19:36:06.300384",
     "status": "completed"
    },
    "tags": []
   },
   "outputs": [],
   "source": [
    "pool_features = [\"swimming pool\", \"public swimming pool\"]"
   ]
  },
  {
   "cell_type": "code",
   "execution_count": 69,
   "id": "20afb162",
   "metadata": {
    "execution": {
     "iopub.execute_input": "2025-02-22T19:36:06.402742Z",
     "iopub.status.busy": "2025-02-22T19:36:06.402322Z",
     "iopub.status.idle": "2025-02-22T19:36:06.854171Z",
     "shell.execute_reply": "2025-02-22T19:36:06.853000Z"
    },
    "papermill": {
     "duration": 0.48676,
     "end_time": "2025-02-22T19:36:06.855942",
     "exception": false,
     "start_time": "2025-02-22T19:36:06.369182",
     "status": "completed"
    },
    "tags": []
   },
   "outputs": [
    {
     "data": {
      "text/plain": [
       "Pool\n",
       "No     96992\n",
       "Yes      819\n",
       "Name: count, dtype: int64"
      ]
     },
     "execution_count": 69,
     "metadata": {},
     "output_type": "execute_result"
    }
   ],
   "source": [
    "df['Pool'] = df['Combined'].apply(lambda x: check_keywords(x, pool_features))\n",
    "df['Pool'].value_counts()"
   ]
  },
  {
   "cell_type": "markdown",
   "id": "3beaae1d",
   "metadata": {
    "papermill": {
     "duration": 0.030098,
     "end_time": "2025-02-22T19:36:06.917179",
     "exception": false,
     "start_time": "2025-02-22T19:36:06.887081",
     "status": "completed"
    },
    "tags": []
   },
   "source": [
    "# Garden"
   ]
  },
  {
   "cell_type": "code",
   "execution_count": 70,
   "id": "15d95aee",
   "metadata": {
    "execution": {
     "iopub.execute_input": "2025-02-22T19:36:06.978088Z",
     "iopub.status.busy": "2025-02-22T19:36:06.977705Z",
     "iopub.status.idle": "2025-02-22T19:36:06.982093Z",
     "shell.execute_reply": "2025-02-22T19:36:06.980901Z"
    },
    "papermill": {
     "duration": 0.036662,
     "end_time": "2025-02-22T19:36:06.983848",
     "exception": false,
     "start_time": "2025-02-22T19:36:06.947186",
     "status": "completed"
    },
    "tags": []
   },
   "outputs": [],
   "source": [
    "garden_features = [\"vegetable garden\", \"garden\", \"fruit trees/shrubs\", \"private yard\", \n",
    "                   \"partially landscaped\", \"landscaped\"]"
   ]
  },
  {
   "cell_type": "code",
   "execution_count": 71,
   "id": "9503b63b",
   "metadata": {
    "execution": {
     "iopub.execute_input": "2025-02-22T19:36:07.048015Z",
     "iopub.status.busy": "2025-02-22T19:36:07.047634Z",
     "iopub.status.idle": "2025-02-22T19:36:07.507714Z",
     "shell.execute_reply": "2025-02-22T19:36:07.506450Z"
    },
    "papermill": {
     "duration": 0.494683,
     "end_time": "2025-02-22T19:36:07.509835",
     "exception": false,
     "start_time": "2025-02-22T19:36:07.015152",
     "status": "completed"
    },
    "tags": []
   },
   "outputs": [
    {
     "data": {
      "text/plain": [
       "Garden\n",
       "No     92391\n",
       "Yes     5420\n",
       "Name: count, dtype: int64"
      ]
     },
     "execution_count": 71,
     "metadata": {},
     "output_type": "execute_result"
    }
   ],
   "source": [
    "df['Garden'] = df['Combined'].apply(lambda x: check_keywords(x, garden_features))\n",
    "df['Garden'].value_counts()"
   ]
  },
  {
   "cell_type": "markdown",
   "id": "cea8656e",
   "metadata": {
    "papermill": {
     "duration": 0.049262,
     "end_time": "2025-02-22T19:36:07.609087",
     "exception": false,
     "start_time": "2025-02-22T19:36:07.559825",
     "status": "completed"
    },
    "tags": []
   },
   "source": [
    "# View"
   ]
  },
  {
   "cell_type": "code",
   "execution_count": 72,
   "id": "a94db025",
   "metadata": {
    "execution": {
     "iopub.execute_input": "2025-02-22T19:36:07.672838Z",
     "iopub.status.busy": "2025-02-22T19:36:07.672508Z",
     "iopub.status.idle": "2025-02-22T19:36:07.677477Z",
     "shell.execute_reply": "2025-02-22T19:36:07.676003Z"
    },
    "papermill": {
     "duration": 0.038046,
     "end_time": "2025-02-22T19:36:07.679328",
     "exception": false,
     "start_time": "2025-02-22T19:36:07.641282",
     "status": "completed"
    },
    "tags": []
   },
   "outputs": [],
   "source": [
    "view_features = [\"View Downtown\", \"River View\", \"View City\", \"View Lake\", \"Lake View\", \n",
    "                 \"Ravine View\", \"River Valley View\"]\n",
    "\n",
    "view_features = [f.lower() for f in view_features]"
   ]
  },
  {
   "cell_type": "code",
   "execution_count": 73,
   "id": "d1d52fb9",
   "metadata": {
    "execution": {
     "iopub.execute_input": "2025-02-22T19:36:07.742475Z",
     "iopub.status.busy": "2025-02-22T19:36:07.742057Z",
     "iopub.status.idle": "2025-02-22T19:36:07.748037Z",
     "shell.execute_reply": "2025-02-22T19:36:07.746897Z"
    },
    "papermill": {
     "duration": 0.04061,
     "end_time": "2025-02-22T19:36:07.749812",
     "exception": false,
     "start_time": "2025-02-22T19:36:07.709202",
     "status": "completed"
    },
    "tags": []
   },
   "outputs": [],
   "source": [
    "def check_view(features, keywords):\n",
    "\n",
    "    try:\n",
    "        cleaned_features = features.replace(\"[\", \"\").replace(\"]\", \"\").replace('\"', '').replace(\"'\", \"\").replace(\";\", \",\")\n",
    "        list_to_check = [f.strip().lower() for f in cleaned_features.split(',')]\n",
    "        common = set(list_to_check) & set(keywords)\n",
    "        \n",
    "        if common: \n",
    "            return list(common)[0]  \n",
    "            \n",
    "    except AttributeError:\n",
    "        return np.nan\n",
    "    \n",
    "    return np.nan"
   ]
  },
  {
   "cell_type": "code",
   "execution_count": 74,
   "id": "9caef4ac",
   "metadata": {
    "execution": {
     "iopub.execute_input": "2025-02-22T19:36:07.813514Z",
     "iopub.status.busy": "2025-02-22T19:36:07.813155Z",
     "iopub.status.idle": "2025-02-22T19:36:08.279184Z",
     "shell.execute_reply": "2025-02-22T19:36:08.278106Z"
    },
    "papermill": {
     "duration": 0.499006,
     "end_time": "2025-02-22T19:36:08.280907",
     "exception": false,
     "start_time": "2025-02-22T19:36:07.781901",
     "status": "completed"
    },
    "tags": []
   },
   "outputs": [
    {
     "data": {
      "text/plain": [
       "View\n",
       "view city            219\n",
       "river valley view    200\n",
       "view downtown        100\n",
       "view lake             83\n",
       "ravine view           81\n",
       "lake view             59\n",
       "river view            40\n",
       "Name: count, dtype: int64"
      ]
     },
     "execution_count": 74,
     "metadata": {},
     "output_type": "execute_result"
    }
   ],
   "source": [
    "df['View'] = df['Combined'].apply(lambda x: check_view(x, view_features))\n",
    "df['View'].value_counts()"
   ]
  },
  {
   "cell_type": "code",
   "execution_count": 75,
   "id": "aa43457f",
   "metadata": {
    "execution": {
     "iopub.execute_input": "2025-02-22T19:36:08.342930Z",
     "iopub.status.busy": "2025-02-22T19:36:08.342568Z",
     "iopub.status.idle": "2025-02-22T19:36:08.367250Z",
     "shell.execute_reply": "2025-02-22T19:36:08.366085Z"
    },
    "papermill": {
     "duration": 0.057909,
     "end_time": "2025-02-22T19:36:08.369080",
     "exception": false,
     "start_time": "2025-02-22T19:36:08.311171",
     "status": "completed"
    },
    "tags": []
   },
   "outputs": [
    {
     "data": {
      "text/plain": [
       "View\n",
       "Valley      281\n",
       "City        219\n",
       "Lake        142\n",
       "Downtown    100\n",
       "River        40\n",
       "Name: count, dtype: int64"
      ]
     },
     "execution_count": 75,
     "metadata": {},
     "output_type": "execute_result"
    }
   ],
   "source": [
    "df.loc[df['View'].isin(['view lake', 'lake view']), 'View'] = 'Lake'\n",
    "df.loc[df['View'].isin(['view downtown']), 'View'] = 'Downtown'\n",
    "df.loc[df['View'].isin(['view city']), 'View'] = 'City'\n",
    "df.loc[df['View'].isin(['river view']), 'View'] = 'River'\n",
    "df.loc[df['View'].isin(['ravine view', 'river valley view']), 'View'] = 'Valley'\n",
    "\n",
    "df['View'].value_counts()"
   ]
  },
  {
   "cell_type": "markdown",
   "id": "fc802810",
   "metadata": {
    "papermill": {
     "duration": 0.030401,
     "end_time": "2025-02-22T19:36:08.431261",
     "exception": false,
     "start_time": "2025-02-22T19:36:08.400860",
     "status": "completed"
    },
    "tags": []
   },
   "source": [
    "# Balcony"
   ]
  },
  {
   "cell_type": "code",
   "execution_count": 76,
   "id": "4cf4dcc6",
   "metadata": {
    "execution": {
     "iopub.execute_input": "2025-02-22T19:36:08.492372Z",
     "iopub.status.busy": "2025-02-22T19:36:08.491967Z",
     "iopub.status.idle": "2025-02-22T19:36:08.496482Z",
     "shell.execute_reply": "2025-02-22T19:36:08.495443Z"
    },
    "papermill": {
     "duration": 0.036985,
     "end_time": "2025-02-22T19:36:08.498175",
     "exception": false,
     "start_time": "2025-02-22T19:36:08.461190",
     "status": "completed"
    },
    "tags": []
   },
   "outputs": [],
   "source": [
    "balcony_features = ['Balcony', 'Balcony/Deck', 'Balcony/Patio']\n",
    "balcony_features = [f.lower() for f in balcony_features]"
   ]
  },
  {
   "cell_type": "code",
   "execution_count": 77,
   "id": "138c6a6d",
   "metadata": {
    "execution": {
     "iopub.execute_input": "2025-02-22T19:36:08.561644Z",
     "iopub.status.busy": "2025-02-22T19:36:08.561306Z",
     "iopub.status.idle": "2025-02-22T19:36:09.011553Z",
     "shell.execute_reply": "2025-02-22T19:36:09.010505Z"
    },
    "papermill": {
     "duration": 0.484563,
     "end_time": "2025-02-22T19:36:09.013469",
     "exception": false,
     "start_time": "2025-02-22T19:36:08.528906",
     "status": "completed"
    },
    "tags": []
   },
   "outputs": [
    {
     "data": {
      "text/plain": [
       "Balcony\n",
       "No     94342\n",
       "Yes     3469\n",
       "Name: count, dtype: int64"
      ]
     },
     "execution_count": 77,
     "metadata": {},
     "output_type": "execute_result"
    }
   ],
   "source": [
    "df['Balcony'] = df['Combined'].apply(lambda x: check_keywords(x, balcony_features))\n",
    "df['Balcony'].value_counts()"
   ]
  },
  {
   "cell_type": "code",
   "execution_count": 78,
   "id": "6fb0fa67",
   "metadata": {
    "execution": {
     "iopub.execute_input": "2025-02-22T19:36:09.076580Z",
     "iopub.status.busy": "2025-02-22T19:36:09.076242Z",
     "iopub.status.idle": "2025-02-22T19:36:09.101212Z",
     "shell.execute_reply": "2025-02-22T19:36:09.099914Z"
    },
    "papermill": {
     "duration": 0.059135,
     "end_time": "2025-02-22T19:36:09.103072",
     "exception": false,
     "start_time": "2025-02-22T19:36:09.043937",
     "status": "completed"
    },
    "tags": []
   },
   "outputs": [],
   "source": [
    "df = df.drop(columns=['streetAddress', 'postalCode', 'description', 'priceCurrency', 'Air Conditioning', \n",
    "                 'Basement', 'Exterior', 'Features', 'Fireplace', 'Garage', 'Heating', 'MLS® #', 'Roof', \n",
    "                 'Sewer', 'Waterfront', 'Parking', 'Flooring', 'Fireplace Features', 'Combined', \n",
    "                 'Subdivision', 'property-sqft', 'Square Footage', 'Bath', 'Property Tax'])"
   ]
  },
  {
   "cell_type": "code",
   "execution_count": 79,
   "id": "3cfd8a05",
   "metadata": {
    "execution": {
     "iopub.execute_input": "2025-02-22T19:36:09.166226Z",
     "iopub.status.busy": "2025-02-22T19:36:09.165841Z",
     "iopub.status.idle": "2025-02-22T19:36:09.216138Z",
     "shell.execute_reply": "2025-02-22T19:36:09.215207Z"
    },
    "papermill": {
     "duration": 0.0843,
     "end_time": "2025-02-22T19:36:09.218027",
     "exception": false,
     "start_time": "2025-02-22T19:36:09.133727",
     "status": "completed"
    },
    "tags": []
   },
   "outputs": [],
   "source": [
    "df = df.rename(columns={'addressLocality': 'City', \n",
    "                        'addressRegion': 'Province', \n",
    "                        'latitude': 'Latitude', \n",
    "                        'longitude': 'Longitude', \n",
    "                        'price': 'Price',\n",
    "                        'property-baths': 'Bathrooms', \n",
    "                        'property-beds': 'Bedrooms', \n",
    "                        'Square Footage new': 'Square Footage', \n",
    "                        'Garage new': 'Garage',\t\n",
    "                        'Parking new': 'Parking',\t\n",
    "                        'Basement new': 'Basement', \n",
    "                        'Exterior new': 'Exterior', \n",
    "                        'Fireplace new': 'Fireplace', \n",
    "                        'Heating new': 'Heating', \n",
    "                        'Flooring new': 'Flooring', \n",
    "                        'Roof new': 'Roof', \n",
    "                        'Waterfront new': 'Waterfront', \n",
    "                        'Sewer new': 'Sewer'})"
   ]
  },
  {
   "cell_type": "code",
   "execution_count": 80,
   "id": "b6f893ae",
   "metadata": {
    "execution": {
     "iopub.execute_input": "2025-02-22T19:36:09.339695Z",
     "iopub.status.busy": "2025-02-22T19:36:09.339310Z",
     "iopub.status.idle": "2025-02-22T19:36:09.443304Z",
     "shell.execute_reply": "2025-02-22T19:36:09.442066Z"
    },
    "papermill": {
     "duration": 0.197,
     "end_time": "2025-02-22T19:36:09.445352",
     "exception": false,
     "start_time": "2025-02-22T19:36:09.248352",
     "status": "completed"
    },
    "tags": []
   },
   "outputs": [
    {
     "name": "stdout",
     "output_type": "stream",
     "text": [
      "<class 'pandas.core.frame.DataFrame'>\n",
      "Index: 97811 entries, 7 to 211\n",
      "Data columns (total 24 columns):\n",
      " #   Column          Non-Null Count  Dtype  \n",
      "---  ------          --------------  -----  \n",
      " 0   City            97811 non-null  object \n",
      " 1   Province        97811 non-null  object \n",
      " 2   Latitude        97811 non-null  object \n",
      " 3   Longitude       97811 non-null  object \n",
      " 4   Price           97811 non-null  object \n",
      " 5   Bedrooms        84879 non-null  object \n",
      " 6   Bathrooms       97041 non-null  object \n",
      " 7   Acreage         97811 non-null  float64\n",
      " 8   Property Type   97811 non-null  object \n",
      " 9   Square Footage  46732 non-null  object \n",
      " 10  Garage          97811 non-null  object \n",
      " 11  Parking         97811 non-null  object \n",
      " 12  Basement        37632 non-null  object \n",
      " 13  Exterior        46074 non-null  object \n",
      " 14  Fireplace       97811 non-null  object \n",
      " 15  Heating         75911 non-null  object \n",
      " 16  Flooring        35088 non-null  object \n",
      " 17  Roof            16347 non-null  object \n",
      " 18  Waterfront      97811 non-null  object \n",
      " 19  Sewer           97811 non-null  object \n",
      " 20  Pool            97811 non-null  object \n",
      " 21  Garden          97811 non-null  object \n",
      " 22  View            782 non-null    object \n",
      " 23  Balcony         97811 non-null  object \n",
      "dtypes: float64(1), object(23)\n",
      "memory usage: 18.7+ MB\n"
     ]
    }
   ],
   "source": [
    "df.info()"
   ]
  },
  {
   "cell_type": "markdown",
   "id": "c023577f",
   "metadata": {
    "papermill": {
     "duration": 0.03004,
     "end_time": "2025-02-22T19:36:09.506145",
     "exception": false,
     "start_time": "2025-02-22T19:36:09.476105",
     "status": "completed"
    },
    "tags": []
   },
   "source": [
    "# Types"
   ]
  },
  {
   "cell_type": "code",
   "execution_count": 81,
   "id": "5dedfd6e",
   "metadata": {
    "execution": {
     "iopub.execute_input": "2025-02-22T19:36:09.569493Z",
     "iopub.status.busy": "2025-02-22T19:36:09.568820Z",
     "iopub.status.idle": "2025-02-22T19:36:09.594154Z",
     "shell.execute_reply": "2025-02-22T19:36:09.593141Z"
    },
    "papermill": {
     "duration": 0.059762,
     "end_time": "2025-02-22T19:36:09.596149",
     "exception": false,
     "start_time": "2025-02-22T19:36:09.536387",
     "status": "completed"
    },
    "tags": []
   },
   "outputs": [],
   "source": [
    "df['Square Footage'] = df['Square Footage'].str.replace(',','')"
   ]
  },
  {
   "cell_type": "code",
   "execution_count": 82,
   "id": "e0faf941",
   "metadata": {
    "execution": {
     "iopub.execute_input": "2025-02-22T19:36:09.665402Z",
     "iopub.status.busy": "2025-02-22T19:36:09.664958Z",
     "iopub.status.idle": "2025-02-22T19:36:09.697384Z",
     "shell.execute_reply": "2025-02-22T19:36:09.696070Z"
    },
    "papermill": {
     "duration": 0.06712,
     "end_time": "2025-02-22T19:36:09.699474",
     "exception": false,
     "start_time": "2025-02-22T19:36:09.632354",
     "status": "completed"
    },
    "scrolled": true,
    "tags": []
   },
   "outputs": [],
   "source": [
    "number_columns = ['Latitude', 'Longitude', 'Price', 'Bedrooms', 'Bathrooms', 'Acreage', \n",
    "                  'Square Footage']\n",
    "\n",
    "for col in number_columns: \n",
    "    df[col] = df[col].astype(float)"
   ]
  },
  {
   "cell_type": "code",
   "execution_count": 83,
   "id": "ca3793e9",
   "metadata": {
    "execution": {
     "iopub.execute_input": "2025-02-22T19:36:09.762762Z",
     "iopub.status.busy": "2025-02-22T19:36:09.762424Z",
     "iopub.status.idle": "2025-02-22T19:36:09.851770Z",
     "shell.execute_reply": "2025-02-22T19:36:09.850375Z"
    },
    "papermill": {
     "duration": 0.123098,
     "end_time": "2025-02-22T19:36:09.853949",
     "exception": false,
     "start_time": "2025-02-22T19:36:09.730851",
     "status": "completed"
    },
    "tags": []
   },
   "outputs": [
    {
     "name": "stdout",
     "output_type": "stream",
     "text": [
      "<class 'pandas.core.frame.DataFrame'>\n",
      "Index: 97811 entries, 7 to 211\n",
      "Data columns (total 24 columns):\n",
      " #   Column          Non-Null Count  Dtype  \n",
      "---  ------          --------------  -----  \n",
      " 0   City            97811 non-null  object \n",
      " 1   Province        97811 non-null  object \n",
      " 2   Latitude        97811 non-null  float64\n",
      " 3   Longitude       97811 non-null  float64\n",
      " 4   Price           97811 non-null  float64\n",
      " 5   Bedrooms        84879 non-null  float64\n",
      " 6   Bathrooms       97041 non-null  float64\n",
      " 7   Acreage         97811 non-null  float64\n",
      " 8   Property Type   97811 non-null  object \n",
      " 9   Square Footage  46732 non-null  float64\n",
      " 10  Garage          97811 non-null  object \n",
      " 11  Parking         97811 non-null  object \n",
      " 12  Basement        37632 non-null  object \n",
      " 13  Exterior        46074 non-null  object \n",
      " 14  Fireplace       97811 non-null  object \n",
      " 15  Heating         75911 non-null  object \n",
      " 16  Flooring        35088 non-null  object \n",
      " 17  Roof            16347 non-null  object \n",
      " 18  Waterfront      97811 non-null  object \n",
      " 19  Sewer           97811 non-null  object \n",
      " 20  Pool            97811 non-null  object \n",
      " 21  Garden          97811 non-null  object \n",
      " 22  View            782 non-null    object \n",
      " 23  Balcony         97811 non-null  object \n",
      "dtypes: float64(7), object(17)\n",
      "memory usage: 18.7+ MB\n"
     ]
    }
   ],
   "source": [
    "df.info()"
   ]
  },
  {
   "cell_type": "markdown",
   "id": "d0865f42",
   "metadata": {
    "papermill": {
     "duration": 0.031322,
     "end_time": "2025-02-22T19:36:09.916561",
     "exception": false,
     "start_time": "2025-02-22T19:36:09.885239",
     "status": "completed"
    },
    "tags": []
   },
   "source": [
    "# Remove inconsistent data"
   ]
  },
  {
   "cell_type": "code",
   "execution_count": 84,
   "id": "91e1aed6",
   "metadata": {
    "execution": {
     "iopub.execute_input": "2025-02-22T19:36:09.979787Z",
     "iopub.status.busy": "2025-02-22T19:36:09.979417Z",
     "iopub.status.idle": "2025-02-22T19:36:10.012487Z",
     "shell.execute_reply": "2025-02-22T19:36:10.011403Z"
    },
    "papermill": {
     "duration": 0.066854,
     "end_time": "2025-02-22T19:36:10.014454",
     "exception": false,
     "start_time": "2025-02-22T19:36:09.947600",
     "status": "completed"
    },
    "tags": []
   },
   "outputs": [],
   "source": [
    "data = df.copy()"
   ]
  },
  {
   "cell_type": "markdown",
   "id": "0c3188c3",
   "metadata": {
    "papermill": {
     "duration": 0.030325,
     "end_time": "2025-02-22T19:36:10.075950",
     "exception": false,
     "start_time": "2025-02-22T19:36:10.045625",
     "status": "completed"
    },
    "tags": []
   },
   "source": [
    "### Square Footage, Bedrooms, and Bathrooms"
   ]
  },
  {
   "cell_type": "markdown",
   "id": "eaf1a908",
   "metadata": {
    "papermill": {
     "duration": 0.030937,
     "end_time": "2025-02-22T19:36:10.139636",
     "exception": false,
     "start_time": "2025-02-22T19:36:10.108699",
     "status": "completed"
    },
    "tags": []
   },
   "source": [
    "Let's remove all houses with out Bedroom or Bathrooms"
   ]
  },
  {
   "cell_type": "code",
   "execution_count": 85,
   "id": "9a8b5df6",
   "metadata": {
    "execution": {
     "iopub.execute_input": "2025-02-22T19:36:10.201538Z",
     "iopub.status.busy": "2025-02-22T19:36:10.201142Z",
     "iopub.status.idle": "2025-02-22T19:36:10.240494Z",
     "shell.execute_reply": "2025-02-22T19:36:10.239404Z"
    },
    "papermill": {
     "duration": 0.072357,
     "end_time": "2025-02-22T19:36:10.242231",
     "exception": false,
     "start_time": "2025-02-22T19:36:10.169874",
     "status": "completed"
    },
    "tags": []
   },
   "outputs": [
    {
     "data": {
      "text/html": [
       "<div>\n",
       "<style scoped>\n",
       "    .dataframe tbody tr th:only-of-type {\n",
       "        vertical-align: middle;\n",
       "    }\n",
       "\n",
       "    .dataframe tbody tr th {\n",
       "        vertical-align: top;\n",
       "    }\n",
       "\n",
       "    .dataframe thead th {\n",
       "        text-align: right;\n",
       "    }\n",
       "</style>\n",
       "<table border=\"1\" class=\"dataframe\">\n",
       "  <thead>\n",
       "    <tr style=\"text-align: right;\">\n",
       "      <th></th>\n",
       "      <th>Bedrooms</th>\n",
       "      <th>Bathrooms</th>\n",
       "      <th>Square Footage</th>\n",
       "    </tr>\n",
       "  </thead>\n",
       "  <tbody>\n",
       "    <tr>\n",
       "      <th>count</th>\n",
       "      <td>45188.000000</td>\n",
       "      <td>45188.000000</td>\n",
       "      <td>45188.000000</td>\n",
       "    </tr>\n",
       "    <tr>\n",
       "      <th>mean</th>\n",
       "      <td>3.207245</td>\n",
       "      <td>2.513477</td>\n",
       "      <td>1780.138045</td>\n",
       "    </tr>\n",
       "    <tr>\n",
       "      <th>std</th>\n",
       "      <td>1.647695</td>\n",
       "      <td>1.428373</td>\n",
       "      <td>1985.084438</td>\n",
       "    </tr>\n",
       "    <tr>\n",
       "      <th>min</th>\n",
       "      <td>0.000000</td>\n",
       "      <td>0.000000</td>\n",
       "      <td>0.000000</td>\n",
       "    </tr>\n",
       "    <tr>\n",
       "      <th>25%</th>\n",
       "      <td>2.000000</td>\n",
       "      <td>2.000000</td>\n",
       "      <td>969.000000</td>\n",
       "    </tr>\n",
       "    <tr>\n",
       "      <th>50%</th>\n",
       "      <td>3.000000</td>\n",
       "      <td>2.000000</td>\n",
       "      <td>1410.000000</td>\n",
       "    </tr>\n",
       "    <tr>\n",
       "      <th>75%</th>\n",
       "      <td>4.000000</td>\n",
       "      <td>3.000000</td>\n",
       "      <td>2191.000000</td>\n",
       "    </tr>\n",
       "    <tr>\n",
       "      <th>max</th>\n",
       "      <td>38.000000</td>\n",
       "      <td>26.000000</td>\n",
       "      <td>290034.000000</td>\n",
       "    </tr>\n",
       "  </tbody>\n",
       "</table>\n",
       "</div>"
      ],
      "text/plain": [
       "           Bedrooms     Bathrooms  Square Footage\n",
       "count  45188.000000  45188.000000    45188.000000\n",
       "mean       3.207245      2.513477     1780.138045\n",
       "std        1.647695      1.428373     1985.084438\n",
       "min        0.000000      0.000000        0.000000\n",
       "25%        2.000000      2.000000      969.000000\n",
       "50%        3.000000      2.000000     1410.000000\n",
       "75%        4.000000      3.000000     2191.000000\n",
       "max       38.000000     26.000000   290034.000000"
      ]
     },
     "execution_count": 85,
     "metadata": {},
     "output_type": "execute_result"
    }
   ],
   "source": [
    "data.dropna(subset=[\"Bedrooms\", \"Bathrooms\", \"Square Footage\"], inplace=True)\n",
    "data[[\"Bedrooms\", \"Bathrooms\", \"Square Footage\"]].describe()"
   ]
  },
  {
   "cell_type": "markdown",
   "id": "be8b6125",
   "metadata": {
    "papermill": {
     "duration": 0.031027,
     "end_time": "2025-02-22T19:36:10.304256",
     "exception": false,
     "start_time": "2025-02-22T19:36:10.273229",
     "status": "completed"
    },
    "tags": []
   },
   "source": [
    "Remove also rows with 'Square Footage' less then 120 sqft."
   ]
  },
  {
   "cell_type": "code",
   "execution_count": 86,
   "id": "67202eb2",
   "metadata": {
    "execution": {
     "iopub.execute_input": "2025-02-22T19:36:10.367253Z",
     "iopub.status.busy": "2025-02-22T19:36:10.366882Z",
     "iopub.status.idle": "2025-02-22T19:36:10.380132Z",
     "shell.execute_reply": "2025-02-22T19:36:10.379098Z"
    },
    "papermill": {
     "duration": 0.046908,
     "end_time": "2025-02-22T19:36:10.382222",
     "exception": false,
     "start_time": "2025-02-22T19:36:10.335314",
     "status": "completed"
    },
    "tags": []
   },
   "outputs": [],
   "source": [
    "data = data[data[\"Square Footage\"] > 120]"
   ]
  },
  {
   "cell_type": "markdown",
   "id": "2fe83199",
   "metadata": {
    "papermill": {
     "duration": 0.031012,
     "end_time": "2025-02-22T19:36:10.445547",
     "exception": false,
     "start_time": "2025-02-22T19:36:10.414535",
     "status": "completed"
    },
    "tags": []
   },
   "source": [
    "Remove rows with no bedrooms or bathrooms"
   ]
  },
  {
   "cell_type": "code",
   "execution_count": 87,
   "id": "5fb60a5b",
   "metadata": {
    "execution": {
     "iopub.execute_input": "2025-02-22T19:36:10.508845Z",
     "iopub.status.busy": "2025-02-22T19:36:10.508528Z",
     "iopub.status.idle": "2025-02-22T19:36:10.512252Z",
     "shell.execute_reply": "2025-02-22T19:36:10.511351Z"
    },
    "papermill": {
     "duration": 0.037192,
     "end_time": "2025-02-22T19:36:10.513879",
     "exception": false,
     "start_time": "2025-02-22T19:36:10.476687",
     "status": "completed"
    },
    "tags": []
   },
   "outputs": [],
   "source": [
    "# data = data[(data[\"Bedrooms\"] > 0) & (data[\"Bathrooms\"] > 0)]"
   ]
  },
  {
   "cell_type": "code",
   "execution_count": 88,
   "id": "07f017a2",
   "metadata": {
    "execution": {
     "iopub.execute_input": "2025-02-22T19:36:10.576712Z",
     "iopub.status.busy": "2025-02-22T19:36:10.576353Z",
     "iopub.status.idle": "2025-02-22T19:36:10.599115Z",
     "shell.execute_reply": "2025-02-22T19:36:10.597920Z"
    },
    "papermill": {
     "duration": 0.056584,
     "end_time": "2025-02-22T19:36:10.601131",
     "exception": false,
     "start_time": "2025-02-22T19:36:10.544547",
     "status": "completed"
    },
    "tags": []
   },
   "outputs": [
    {
     "data": {
      "text/html": [
       "<div>\n",
       "<style scoped>\n",
       "    .dataframe tbody tr th:only-of-type {\n",
       "        vertical-align: middle;\n",
       "    }\n",
       "\n",
       "    .dataframe tbody tr th {\n",
       "        vertical-align: top;\n",
       "    }\n",
       "\n",
       "    .dataframe thead th {\n",
       "        text-align: right;\n",
       "    }\n",
       "</style>\n",
       "<table border=\"1\" class=\"dataframe\">\n",
       "  <thead>\n",
       "    <tr style=\"text-align: right;\">\n",
       "      <th></th>\n",
       "      <th>Bedrooms</th>\n",
       "      <th>Bathrooms</th>\n",
       "      <th>Square Footage</th>\n",
       "    </tr>\n",
       "  </thead>\n",
       "  <tbody>\n",
       "    <tr>\n",
       "      <th>count</th>\n",
       "      <td>45086.000000</td>\n",
       "      <td>45086.000000</td>\n",
       "      <td>45086.000000</td>\n",
       "    </tr>\n",
       "    <tr>\n",
       "      <th>mean</th>\n",
       "      <td>3.209644</td>\n",
       "      <td>2.516524</td>\n",
       "      <td>1784.155348</td>\n",
       "    </tr>\n",
       "    <tr>\n",
       "      <th>std</th>\n",
       "      <td>1.636750</td>\n",
       "      <td>1.424381</td>\n",
       "      <td>1985.528762</td>\n",
       "    </tr>\n",
       "    <tr>\n",
       "      <th>min</th>\n",
       "      <td>0.000000</td>\n",
       "      <td>0.000000</td>\n",
       "      <td>140.000000</td>\n",
       "    </tr>\n",
       "    <tr>\n",
       "      <th>25%</th>\n",
       "      <td>2.000000</td>\n",
       "      <td>2.000000</td>\n",
       "      <td>972.000000</td>\n",
       "    </tr>\n",
       "    <tr>\n",
       "      <th>50%</th>\n",
       "      <td>3.000000</td>\n",
       "      <td>2.000000</td>\n",
       "      <td>1413.000000</td>\n",
       "    </tr>\n",
       "    <tr>\n",
       "      <th>75%</th>\n",
       "      <td>4.000000</td>\n",
       "      <td>3.000000</td>\n",
       "      <td>2194.000000</td>\n",
       "    </tr>\n",
       "    <tr>\n",
       "      <th>max</th>\n",
       "      <td>37.000000</td>\n",
       "      <td>26.000000</td>\n",
       "      <td>290034.000000</td>\n",
       "    </tr>\n",
       "  </tbody>\n",
       "</table>\n",
       "</div>"
      ],
      "text/plain": [
       "           Bedrooms     Bathrooms  Square Footage\n",
       "count  45086.000000  45086.000000    45086.000000\n",
       "mean       3.209644      2.516524     1784.155348\n",
       "std        1.636750      1.424381     1985.528762\n",
       "min        0.000000      0.000000      140.000000\n",
       "25%        2.000000      2.000000      972.000000\n",
       "50%        3.000000      2.000000     1413.000000\n",
       "75%        4.000000      3.000000     2194.000000\n",
       "max       37.000000     26.000000   290034.000000"
      ]
     },
     "execution_count": 88,
     "metadata": {},
     "output_type": "execute_result"
    }
   ],
   "source": [
    "data[[\"Bedrooms\", \"Bathrooms\", \"Square Footage\"]].describe()"
   ]
  },
  {
   "cell_type": "markdown",
   "id": "f176c45c",
   "metadata": {
    "papermill": {
     "duration": 0.030868,
     "end_time": "2025-02-22T19:36:10.666254",
     "exception": false,
     "start_time": "2025-02-22T19:36:10.635386",
     "status": "completed"
    },
    "tags": []
   },
   "source": [
    "### Province and City"
   ]
  },
  {
   "cell_type": "code",
   "execution_count": 89,
   "id": "c2c09c9a",
   "metadata": {
    "execution": {
     "iopub.execute_input": "2025-02-22T19:36:10.730392Z",
     "iopub.status.busy": "2025-02-22T19:36:10.730055Z",
     "iopub.status.idle": "2025-02-22T19:36:10.741029Z",
     "shell.execute_reply": "2025-02-22T19:36:10.739966Z"
    },
    "papermill": {
     "duration": 0.045095,
     "end_time": "2025-02-22T19:36:10.742791",
     "exception": false,
     "start_time": "2025-02-22T19:36:10.697696",
     "status": "completed"
    },
    "tags": []
   },
   "outputs": [
    {
     "data": {
      "text/plain": [
       "Province\n",
       "BC    23144\n",
       "SK     5723\n",
       "AB     5317\n",
       "ON     3872\n",
       "NS     2418\n",
       "NB     2237\n",
       "NL     1417\n",
       "PE      799\n",
       "MB       93\n",
       "YT       53\n",
       "NT       13\n",
       "Name: count, dtype: int64"
      ]
     },
     "execution_count": 89,
     "metadata": {},
     "output_type": "execute_result"
    }
   ],
   "source": [
    "data.Province.value_counts()"
   ]
  },
  {
   "cell_type": "code",
   "execution_count": 90,
   "id": "889d906e",
   "metadata": {
    "execution": {
     "iopub.execute_input": "2025-02-22T19:36:10.808188Z",
     "iopub.status.busy": "2025-02-22T19:36:10.807788Z",
     "iopub.status.idle": "2025-02-22T19:36:10.817639Z",
     "shell.execute_reply": "2025-02-22T19:36:10.816469Z"
    },
    "papermill": {
     "duration": 0.044592,
     "end_time": "2025-02-22T19:36:10.819472",
     "exception": false,
     "start_time": "2025-02-22T19:36:10.774880",
     "status": "completed"
    },
    "tags": []
   },
   "outputs": [
    {
     "data": {
      "text/plain": [
       "(3171,)"
      ]
     },
     "execution_count": 90,
     "metadata": {},
     "output_type": "execute_result"
    }
   ],
   "source": [
    "data.City.unique().shape"
   ]
  },
  {
   "cell_type": "code",
   "execution_count": 91,
   "id": "d2718548",
   "metadata": {
    "execution": {
     "iopub.execute_input": "2025-02-22T19:36:10.884820Z",
     "iopub.status.busy": "2025-02-22T19:36:10.884473Z",
     "iopub.status.idle": "2025-02-22T19:36:10.896013Z",
     "shell.execute_reply": "2025-02-22T19:36:10.895099Z"
    },
    "papermill": {
     "duration": 0.046438,
     "end_time": "2025-02-22T19:36:10.897609",
     "exception": false,
     "start_time": "2025-02-22T19:36:10.851171",
     "status": "completed"
    },
    "tags": []
   },
   "outputs": [
    {
     "data": {
      "text/plain": [
       "City\n",
       "Vancouver    3861\n",
       "Surrey       3454\n",
       "Calgary      2176\n",
       "Richmond     1377\n",
       "Kelowna      1356\n",
       "Burnaby      1340\n",
       "Langley      1191\n",
       "Saskatoon    1066\n",
       "Regina        975\n",
       "Coquitlam     971\n",
       "Name: count, dtype: int64"
      ]
     },
     "execution_count": 91,
     "metadata": {},
     "output_type": "execute_result"
    }
   ],
   "source": [
    "data.City.value_counts()[:10]"
   ]
  },
  {
   "cell_type": "markdown",
   "id": "4f8aa001",
   "metadata": {
    "papermill": {
     "duration": 0.031727,
     "end_time": "2025-02-22T19:36:10.960538",
     "exception": false,
     "start_time": "2025-02-22T19:36:10.928811",
     "status": "completed"
    },
    "tags": []
   },
   "source": [
    "We have 3112 different cities in dataset. Perhebs, we will not use this column while modeling"
   ]
  },
  {
   "cell_type": "markdown",
   "id": "fd6d5c33",
   "metadata": {
    "papermill": {
     "duration": 0.031605,
     "end_time": "2025-02-22T19:36:11.024503",
     "exception": false,
     "start_time": "2025-02-22T19:36:10.992898",
     "status": "completed"
    },
    "tags": []
   },
   "source": [
    "### Price"
   ]
  },
  {
   "cell_type": "code",
   "execution_count": 92,
   "id": "497a858e",
   "metadata": {
    "execution": {
     "iopub.execute_input": "2025-02-22T19:36:11.088574Z",
     "iopub.status.busy": "2025-02-22T19:36:11.088198Z",
     "iopub.status.idle": "2025-02-22T19:36:11.099883Z",
     "shell.execute_reply": "2025-02-22T19:36:11.098880Z"
    },
    "papermill": {
     "duration": 0.045737,
     "end_time": "2025-02-22T19:36:11.101576",
     "exception": false,
     "start_time": "2025-02-22T19:36:11.055839",
     "status": "completed"
    },
    "tags": []
   },
   "outputs": [
    {
     "data": {
      "text/plain": [
       "Price\n",
       "499900.0     385\n",
       "599900.0     330\n",
       "699900.0     284\n",
       "399900.0     279\n",
       "599000.0     277\n",
       "            ... \n",
       "1858900.0      1\n",
       "1085952.0      1\n",
       "496000.0       1\n",
       "1633000.0      1\n",
       "1109000.0      1\n",
       "Name: count, Length: 5538, dtype: int64"
      ]
     },
     "execution_count": 92,
     "metadata": {},
     "output_type": "execute_result"
    }
   ],
   "source": [
    "data.Price.value_counts()"
   ]
  },
  {
   "cell_type": "markdown",
   "id": "e65271b8",
   "metadata": {
    "papermill": {
     "duration": 0.030919,
     "end_time": "2025-02-22T19:36:11.164857",
     "exception": false,
     "start_time": "2025-02-22T19:36:11.133938",
     "status": "completed"
    },
    "tags": []
   },
   "source": [
    "We have a lot of houses with unrealistic low price. Perhebs. some position from rent accidantly were put inro sell patr. Let's delete all houses with price less then 50 000."
   ]
  },
  {
   "cell_type": "code",
   "execution_count": 93,
   "id": "81b71fa2",
   "metadata": {
    "execution": {
     "iopub.execute_input": "2025-02-22T19:36:11.238952Z",
     "iopub.status.busy": "2025-02-22T19:36:11.238563Z",
     "iopub.status.idle": "2025-02-22T19:36:11.251869Z",
     "shell.execute_reply": "2025-02-22T19:36:11.250699Z"
    },
    "papermill": {
     "duration": 0.055526,
     "end_time": "2025-02-22T19:36:11.253801",
     "exception": false,
     "start_time": "2025-02-22T19:36:11.198275",
     "status": "completed"
    },
    "tags": []
   },
   "outputs": [],
   "source": [
    "data = data[data.Price >= 50_000]"
   ]
  },
  {
   "cell_type": "markdown",
   "id": "534726ae",
   "metadata": {
    "papermill": {
     "duration": 0.032014,
     "end_time": "2025-02-22T19:36:11.317733",
     "exception": false,
     "start_time": "2025-02-22T19:36:11.285719",
     "status": "completed"
    },
    "tags": []
   },
   "source": [
    "### Property Type"
   ]
  },
  {
   "cell_type": "code",
   "execution_count": 94,
   "id": "24cd5ffb",
   "metadata": {
    "execution": {
     "iopub.execute_input": "2025-02-22T19:36:11.382560Z",
     "iopub.status.busy": "2025-02-22T19:36:11.382042Z",
     "iopub.status.idle": "2025-02-22T19:36:11.394437Z",
     "shell.execute_reply": "2025-02-22T19:36:11.393283Z"
    },
    "papermill": {
     "duration": 0.047567,
     "end_time": "2025-02-22T19:36:11.396517",
     "exception": false,
     "start_time": "2025-02-22T19:36:11.348950",
     "status": "completed"
    },
    "tags": []
   },
   "outputs": [
    {
     "data": {
      "text/plain": [
       "Property Type\n",
       "Single Family        26619\n",
       "Condo                12593\n",
       "Townhome              2237\n",
       "Condo/Townhome        1655\n",
       "Duplex                1056\n",
       "MultiFamily            281\n",
       "Mobile Home            228\n",
       "Manufactured Home      211\n",
       "Vacant Land             16\n",
       "Name: count, dtype: int64"
      ]
     },
     "execution_count": 94,
     "metadata": {},
     "output_type": "execute_result"
    }
   ],
   "source": [
    "data['Property Type'].value_counts()"
   ]
  },
  {
   "cell_type": "markdown",
   "id": "16300982",
   "metadata": {
    "papermill": {
     "duration": 0.032544,
     "end_time": "2025-02-22T19:36:11.461352",
     "exception": false,
     "start_time": "2025-02-22T19:36:11.428808",
     "status": "completed"
    },
    "tags": []
   },
   "source": [
    "### Garage, Parking, "
   ]
  },
  {
   "cell_type": "code",
   "execution_count": 95,
   "id": "a414008f",
   "metadata": {
    "execution": {
     "iopub.execute_input": "2025-02-22T19:36:11.526849Z",
     "iopub.status.busy": "2025-02-22T19:36:11.526507Z",
     "iopub.status.idle": "2025-02-22T19:36:11.543874Z",
     "shell.execute_reply": "2025-02-22T19:36:11.542535Z"
    },
    "papermill": {
     "duration": 0.052531,
     "end_time": "2025-02-22T19:36:11.546304",
     "exception": false,
     "start_time": "2025-02-22T19:36:11.493773",
     "status": "completed"
    },
    "tags": []
   },
   "outputs": [
    {
     "name": "stdout",
     "output_type": "stream",
     "text": [
      "<class 'pandas.core.frame.DataFrame'>\n",
      "Index: 44896 entries, 7 to 211\n",
      "Data columns (total 2 columns):\n",
      " #   Column   Non-Null Count  Dtype \n",
      "---  ------   --------------  ----- \n",
      " 0   Garage   44896 non-null  object\n",
      " 1   Parking  44896 non-null  object\n",
      "dtypes: object(2)\n",
      "memory usage: 1.0+ MB\n"
     ]
    }
   ],
   "source": [
    "data[['Garage', 'Parking']].info()"
   ]
  },
  {
   "cell_type": "code",
   "execution_count": 96,
   "id": "bf6dfa05",
   "metadata": {
    "execution": {
     "iopub.execute_input": "2025-02-22T19:36:11.613179Z",
     "iopub.status.busy": "2025-02-22T19:36:11.612783Z",
     "iopub.status.idle": "2025-02-22T19:36:11.624438Z",
     "shell.execute_reply": "2025-02-22T19:36:11.623356Z"
    },
    "papermill": {
     "duration": 0.046364,
     "end_time": "2025-02-22T19:36:11.626087",
     "exception": false,
     "start_time": "2025-02-22T19:36:11.579723",
     "status": "completed"
    },
    "tags": []
   },
   "outputs": [
    {
     "data": {
      "text/plain": [
       "Garage\n",
       "Yes    31600\n",
       "No     13296\n",
       "Name: count, dtype: int64"
      ]
     },
     "execution_count": 96,
     "metadata": {},
     "output_type": "execute_result"
    }
   ],
   "source": [
    "data['Garage'].value_counts()"
   ]
  },
  {
   "cell_type": "code",
   "execution_count": 97,
   "id": "e8c7ac82",
   "metadata": {
    "execution": {
     "iopub.execute_input": "2025-02-22T19:36:11.694228Z",
     "iopub.status.busy": "2025-02-22T19:36:11.693799Z",
     "iopub.status.idle": "2025-02-22T19:36:11.705006Z",
     "shell.execute_reply": "2025-02-22T19:36:11.703933Z"
    },
    "papermill": {
     "duration": 0.047521,
     "end_time": "2025-02-22T19:36:11.706730",
     "exception": false,
     "start_time": "2025-02-22T19:36:11.659209",
     "status": "completed"
    },
    "tags": []
   },
   "outputs": [
    {
     "data": {
      "text/plain": [
       "Parking\n",
       "No     26099\n",
       "Yes    18797\n",
       "Name: count, dtype: int64"
      ]
     },
     "execution_count": 97,
     "metadata": {},
     "output_type": "execute_result"
    }
   ],
   "source": [
    "data['Parking'].value_counts()"
   ]
  },
  {
   "cell_type": "markdown",
   "id": "ba9cd9ec",
   "metadata": {
    "papermill": {
     "duration": 0.031482,
     "end_time": "2025-02-22T19:36:11.771069",
     "exception": false,
     "start_time": "2025-02-22T19:36:11.739587",
     "status": "completed"
    },
    "tags": []
   },
   "source": [
    "### Fireplace, Pool, Garden, Balcony"
   ]
  },
  {
   "cell_type": "code",
   "execution_count": 98,
   "id": "4795f7a5",
   "metadata": {
    "execution": {
     "iopub.execute_input": "2025-02-22T19:36:11.841584Z",
     "iopub.status.busy": "2025-02-22T19:36:11.841215Z",
     "iopub.status.idle": "2025-02-22T19:36:11.866115Z",
     "shell.execute_reply": "2025-02-22T19:36:11.864766Z"
    },
    "papermill": {
     "duration": 0.060204,
     "end_time": "2025-02-22T19:36:11.867803",
     "exception": false,
     "start_time": "2025-02-22T19:36:11.807599",
     "status": "completed"
    },
    "tags": []
   },
   "outputs": [
    {
     "name": "stdout",
     "output_type": "stream",
     "text": [
      "<class 'pandas.core.frame.DataFrame'>\n",
      "Index: 44896 entries, 7 to 211\n",
      "Data columns (total 5 columns):\n",
      " #   Column     Non-Null Count  Dtype \n",
      "---  ------     --------------  ----- \n",
      " 0   Fireplace  44896 non-null  object\n",
      " 1   Pool       44896 non-null  object\n",
      " 2   Garden     44896 non-null  object\n",
      " 3   Balcony    44896 non-null  object\n",
      " 4   Sewer      44896 non-null  object\n",
      "dtypes: object(5)\n",
      "memory usage: 2.1+ MB\n"
     ]
    }
   ],
   "source": [
    "data[['Fireplace', 'Pool', 'Garden', 'Balcony', 'Sewer']].info()"
   ]
  },
  {
   "cell_type": "markdown",
   "id": "1213db0d",
   "metadata": {
    "papermill": {
     "duration": 0.032339,
     "end_time": "2025-02-22T19:36:11.936113",
     "exception": false,
     "start_time": "2025-02-22T19:36:11.903774",
     "status": "completed"
    },
    "tags": []
   },
   "source": [
    "### Basement, Exterior, Fireplace, Heating, Flooring, Roof, Sewer, View"
   ]
  },
  {
   "cell_type": "code",
   "execution_count": 99,
   "id": "860e63b6",
   "metadata": {
    "execution": {
     "iopub.execute_input": "2025-02-22T19:36:12.002593Z",
     "iopub.status.busy": "2025-02-22T19:36:12.002231Z",
     "iopub.status.idle": "2025-02-22T19:36:12.025834Z",
     "shell.execute_reply": "2025-02-22T19:36:12.024453Z"
    },
    "papermill": {
     "duration": 0.059517,
     "end_time": "2025-02-22T19:36:12.027702",
     "exception": false,
     "start_time": "2025-02-22T19:36:11.968185",
     "status": "completed"
    },
    "tags": []
   },
   "outputs": [
    {
     "name": "stdout",
     "output_type": "stream",
     "text": [
      "<class 'pandas.core.frame.DataFrame'>\n",
      "Index: 44896 entries, 7 to 211\n",
      "Data columns (total 6 columns):\n",
      " #   Column    Non-Null Count  Dtype \n",
      "---  ------    --------------  ----- \n",
      " 0   Basement  14962 non-null  object\n",
      " 1   Exterior  17439 non-null  object\n",
      " 2   Heating   38242 non-null  object\n",
      " 3   Flooring  15216 non-null  object\n",
      " 4   Roof      10052 non-null  object\n",
      " 5   View      12 non-null     object\n",
      "dtypes: object(6)\n",
      "memory usage: 2.4+ MB\n"
     ]
    }
   ],
   "source": [
    "data[['Basement', 'Exterior', 'Heating', 'Flooring', 'Roof', 'View']].info()"
   ]
  },
  {
   "cell_type": "code",
   "execution_count": 100,
   "id": "98baf69c",
   "metadata": {
    "execution": {
     "iopub.execute_input": "2025-02-22T19:36:12.095318Z",
     "iopub.status.busy": "2025-02-22T19:36:12.094939Z",
     "iopub.status.idle": "2025-02-22T19:36:12.122126Z",
     "shell.execute_reply": "2025-02-22T19:36:12.120942Z"
    },
    "papermill": {
     "duration": 0.063209,
     "end_time": "2025-02-22T19:36:12.123941",
     "exception": false,
     "start_time": "2025-02-22T19:36:12.060732",
     "status": "completed"
    },
    "tags": []
   },
   "outputs": [
    {
     "data": {
      "text/html": [
       "<div>\n",
       "<style scoped>\n",
       "    .dataframe tbody tr th:only-of-type {\n",
       "        vertical-align: middle;\n",
       "    }\n",
       "\n",
       "    .dataframe tbody tr th {\n",
       "        vertical-align: top;\n",
       "    }\n",
       "\n",
       "    .dataframe thead th {\n",
       "        text-align: right;\n",
       "    }\n",
       "</style>\n",
       "<table border=\"1\" class=\"dataframe\">\n",
       "  <thead>\n",
       "    <tr style=\"text-align: right;\">\n",
       "      <th></th>\n",
       "      <th>City</th>\n",
       "      <th>Province</th>\n",
       "      <th>Latitude</th>\n",
       "      <th>Longitude</th>\n",
       "      <th>Price</th>\n",
       "      <th>Bedrooms</th>\n",
       "      <th>Bathrooms</th>\n",
       "      <th>Acreage</th>\n",
       "      <th>Property Type</th>\n",
       "      <th>Square Footage</th>\n",
       "      <th>Garage</th>\n",
       "      <th>Parking</th>\n",
       "      <th>Basement</th>\n",
       "      <th>Exterior</th>\n",
       "      <th>Fireplace</th>\n",
       "      <th>Heating</th>\n",
       "      <th>Flooring</th>\n",
       "      <th>Roof</th>\n",
       "      <th>Waterfront</th>\n",
       "      <th>Sewer</th>\n",
       "      <th>Pool</th>\n",
       "      <th>Garden</th>\n",
       "      <th>Balcony</th>\n",
       "    </tr>\n",
       "  </thead>\n",
       "  <tbody>\n",
       "    <tr>\n",
       "      <th>7</th>\n",
       "      <td>Revelstoke</td>\n",
       "      <td>BC</td>\n",
       "      <td>50.976585</td>\n",
       "      <td>-118.173149</td>\n",
       "      <td>839000.0</td>\n",
       "      <td>3.0</td>\n",
       "      <td>2.0</td>\n",
       "      <td>0.00</td>\n",
       "      <td>Condo</td>\n",
       "      <td>891.0</td>\n",
       "      <td>Yes</td>\n",
       "      <td>Yes</td>\n",
       "      <td>NaN</td>\n",
       "      <td>NaN</td>\n",
       "      <td>No</td>\n",
       "      <td>heat pump</td>\n",
       "      <td>carpet</td>\n",
       "      <td>NaN</td>\n",
       "      <td>No</td>\n",
       "      <td>municipal</td>\n",
       "      <td>No</td>\n",
       "      <td>No</td>\n",
       "      <td>No</td>\n",
       "    </tr>\n",
       "    <tr>\n",
       "      <th>8</th>\n",
       "      <td>Boswell</td>\n",
       "      <td>BC</td>\n",
       "      <td>49.471870</td>\n",
       "      <td>-116.770195</td>\n",
       "      <td>1150000.0</td>\n",
       "      <td>3.0</td>\n",
       "      <td>2.0</td>\n",
       "      <td>0.32</td>\n",
       "      <td>Single Family</td>\n",
       "      <td>1881.0</td>\n",
       "      <td>Yes</td>\n",
       "      <td>Yes</td>\n",
       "      <td>NaN</td>\n",
       "      <td>NaN</td>\n",
       "      <td>No</td>\n",
       "      <td>heat pump</td>\n",
       "      <td>NaN</td>\n",
       "      <td>NaN</td>\n",
       "      <td>No</td>\n",
       "      <td>septic</td>\n",
       "      <td>No</td>\n",
       "      <td>No</td>\n",
       "      <td>No</td>\n",
       "    </tr>\n",
       "    <tr>\n",
       "      <th>9</th>\n",
       "      <td>West Kelowna</td>\n",
       "      <td>BC</td>\n",
       "      <td>49.825230</td>\n",
       "      <td>-119.603253</td>\n",
       "      <td>149000.0</td>\n",
       "      <td>2.0</td>\n",
       "      <td>1.0</td>\n",
       "      <td>0.00</td>\n",
       "      <td>Single Family</td>\n",
       "      <td>912.0</td>\n",
       "      <td>No</td>\n",
       "      <td>No</td>\n",
       "      <td>NaN</td>\n",
       "      <td>Metal</td>\n",
       "      <td>No</td>\n",
       "      <td>NaN</td>\n",
       "      <td>laminate</td>\n",
       "      <td>tar</td>\n",
       "      <td>No</td>\n",
       "      <td>municipal</td>\n",
       "      <td>No</td>\n",
       "      <td>No</td>\n",
       "      <td>No</td>\n",
       "    </tr>\n",
       "    <tr>\n",
       "      <th>10</th>\n",
       "      <td>Kelowna</td>\n",
       "      <td>BC</td>\n",
       "      <td>49.821860</td>\n",
       "      <td>-119.480143</td>\n",
       "      <td>1298000.0</td>\n",
       "      <td>5.0</td>\n",
       "      <td>4.0</td>\n",
       "      <td>0.69</td>\n",
       "      <td>Single Family</td>\n",
       "      <td>4374.0</td>\n",
       "      <td>Yes</td>\n",
       "      <td>No</td>\n",
       "      <td>NaN</td>\n",
       "      <td>NaN</td>\n",
       "      <td>Yes</td>\n",
       "      <td>forced air</td>\n",
       "      <td>NaN</td>\n",
       "      <td>NaN</td>\n",
       "      <td>No</td>\n",
       "      <td>municipal</td>\n",
       "      <td>No</td>\n",
       "      <td>No</td>\n",
       "      <td>No</td>\n",
       "    </tr>\n",
       "    <tr>\n",
       "      <th>12</th>\n",
       "      <td>Maple Ridge</td>\n",
       "      <td>BC</td>\n",
       "      <td>49.221673</td>\n",
       "      <td>-122.596637</td>\n",
       "      <td>759900.0</td>\n",
       "      <td>3.0</td>\n",
       "      <td>2.0</td>\n",
       "      <td>0.00</td>\n",
       "      <td>Condo</td>\n",
       "      <td>1254.0</td>\n",
       "      <td>Yes</td>\n",
       "      <td>Yes</td>\n",
       "      <td>NaN</td>\n",
       "      <td>NaN</td>\n",
       "      <td>No</td>\n",
       "      <td>radiant</td>\n",
       "      <td>NaN</td>\n",
       "      <td>NaN</td>\n",
       "      <td>No</td>\n",
       "      <td>none</td>\n",
       "      <td>No</td>\n",
       "      <td>No</td>\n",
       "      <td>No</td>\n",
       "    </tr>\n",
       "  </tbody>\n",
       "</table>\n",
       "</div>"
      ],
      "text/plain": [
       "            City Province   Latitude   Longitude      Price  Bedrooms  \\\n",
       "7     Revelstoke       BC  50.976585 -118.173149   839000.0       3.0   \n",
       "8        Boswell       BC  49.471870 -116.770195  1150000.0       3.0   \n",
       "9   West Kelowna       BC  49.825230 -119.603253   149000.0       2.0   \n",
       "10       Kelowna       BC  49.821860 -119.480143  1298000.0       5.0   \n",
       "12   Maple Ridge       BC  49.221673 -122.596637   759900.0       3.0   \n",
       "\n",
       "    Bathrooms  Acreage  Property Type  Square Footage Garage Parking Basement  \\\n",
       "7         2.0     0.00          Condo           891.0    Yes     Yes      NaN   \n",
       "8         2.0     0.32  Single Family          1881.0    Yes     Yes      NaN   \n",
       "9         1.0     0.00  Single Family           912.0     No      No      NaN   \n",
       "10        4.0     0.69  Single Family          4374.0    Yes      No      NaN   \n",
       "12        2.0     0.00          Condo          1254.0    Yes     Yes      NaN   \n",
       "\n",
       "   Exterior Fireplace     Heating  Flooring Roof Waterfront      Sewer Pool  \\\n",
       "7       NaN        No   heat pump    carpet  NaN         No  municipal   No   \n",
       "8       NaN        No   heat pump       NaN  NaN         No     septic   No   \n",
       "9     Metal        No         NaN  laminate  tar         No  municipal   No   \n",
       "10      NaN       Yes  forced air       NaN  NaN         No  municipal   No   \n",
       "12      NaN        No     radiant       NaN  NaN         No       none   No   \n",
       "\n",
       "   Garden Balcony  \n",
       "7      No      No  \n",
       "8      No      No  \n",
       "9      No      No  \n",
       "10     No      No  \n",
       "12     No      No  "
      ]
     },
     "execution_count": 100,
     "metadata": {},
     "output_type": "execute_result"
    }
   ],
   "source": [
    "data = data.drop(columns=['View'])\n",
    "data.head()"
   ]
  },
  {
   "cell_type": "code",
   "execution_count": null,
   "id": "282fcf50",
   "metadata": {
    "papermill": {
     "duration": 0.031982,
     "end_time": "2025-02-22T19:36:12.188682",
     "exception": false,
     "start_time": "2025-02-22T19:36:12.156700",
     "status": "completed"
    },
    "tags": []
   },
   "outputs": [],
   "source": []
  },
  {
   "cell_type": "markdown",
   "id": "8249d3a4",
   "metadata": {
    "papermill": {
     "duration": 0.031839,
     "end_time": "2025-02-22T19:36:12.252592",
     "exception": false,
     "start_time": "2025-02-22T19:36:12.220753",
     "status": "completed"
    },
    "tags": []
   },
   "source": [
    "# Save data"
   ]
  },
  {
   "cell_type": "code",
   "execution_count": 101,
   "id": "50a74480",
   "metadata": {
    "execution": {
     "iopub.execute_input": "2025-02-22T19:36:12.318497Z",
     "iopub.status.busy": "2025-02-22T19:36:12.317966Z",
     "iopub.status.idle": "2025-02-22T19:36:13.242968Z",
     "shell.execute_reply": "2025-02-22T19:36:13.242049Z"
    },
    "papermill": {
     "duration": 0.960075,
     "end_time": "2025-02-22T19:36:13.245009",
     "exception": false,
     "start_time": "2025-02-22T19:36:12.284934",
     "status": "completed"
    },
    "tags": []
   },
   "outputs": [],
   "source": [
    "df.to_csv('cleaned_canada.csv', index=False)"
   ]
  },
  {
   "cell_type": "code",
   "execution_count": null,
   "id": "162019f4",
   "metadata": {
    "papermill": {
     "duration": 0.031818,
     "end_time": "2025-02-22T19:36:13.309430",
     "exception": false,
     "start_time": "2025-02-22T19:36:13.277612",
     "status": "completed"
    },
    "tags": []
   },
   "outputs": [],
   "source": []
  }
 ],
 "metadata": {
  "kaggle": {
   "accelerator": "none",
   "dataSources": [
    {
     "databundleVersionId": 11180617,
     "datasetId": 6681162,
     "sourceId": 10820301,
     "sourceType": "datasetVersion"
    }
   ],
   "dockerImageVersionId": 30918,
   "isGpuEnabled": false,
   "isInternetEnabled": true,
   "language": "python",
   "sourceType": "notebook"
  },
  "kernelspec": {
   "display_name": "Python 3",
   "language": "python",
   "name": "python3"
  },
  "language_info": {
   "codemirror_mode": {
    "name": "ipython",
    "version": 3
   },
   "file_extension": ".py",
   "mimetype": "text/x-python",
   "name": "python",
   "nbconvert_exporter": "python",
   "pygments_lexer": "ipython3",
   "version": "3.10.12"
  },
  "papermill": {
   "default_parameters": {},
   "duration": 74.793285,
   "end_time": "2025-02-22T19:36:14.164743",
   "environment_variables": {},
   "exception": null,
   "input_path": "__notebook__.ipynb",
   "output_path": "__notebook__.ipynb",
   "parameters": {},
   "start_time": "2025-02-22T19:34:59.371458",
   "version": "2.6.0"
  }
 },
 "nbformat": 4,
 "nbformat_minor": 5
}
